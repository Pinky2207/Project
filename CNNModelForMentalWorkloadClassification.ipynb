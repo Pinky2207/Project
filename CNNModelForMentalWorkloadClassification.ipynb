{
 "cells": [
  {
   "attachments": {},
   "cell_type": "markdown",
   "metadata": {},
   "source": [
    "<h3> Import Libraries </h3>"
   ]
  },
  {
   "cell_type": "code",
   "execution_count": 1,
   "metadata": {},
   "outputs": [],
   "source": [
    "from sklearn.model_selection import train_test_split\n",
    "from keras.models import Sequential\n",
    "from keras.layers import Dense, Dropout, Conv1D, MaxPool2D, Flatten, Conv2D\n",
    "from keras.utils import np_utils\n",
    "import tensorflow as tf\n",
    "from tensorflow import keras\n",
    "from tensorflow.keras import layers, models\n",
    "import matplotlib.pyplot as plt\n",
    "import scipy.io as io \n",
    "from sklearn.model_selection import train_test_split\n",
    "from sklearn.model_selection import KFold\n",
    "from sklearn.metrics import accuracy_score\n",
    "from sklearn.model_selection import cross_val_score\n",
    "import numpy as np\n",
    "from keras.losses import BinaryCrossentropy\n",
    "from sklearn.metrics import confusion_matrix"
   ]
  },
  {
   "attachments": {},
   "cell_type": "markdown",
   "metadata": {},
   "source": [
    "<h3> Extract data </h3>"
   ]
  },
  {
   "cell_type": "code",
   "execution_count": 2,
   "metadata": {},
   "outputs": [
    {
     "name": "stdout",
     "output_type": "stream",
     "text": [
      "(360, 512, 62) (360, 1)\n"
     ]
    }
   ],
   "source": [
    "data = io.loadmat(\"WLDataCW.mat\")\n",
    "data_only =  data[\"data\"]\n",
    "label = data[\"label\"]\n",
    "data_only=data_only.T\n",
    "label=label.T\n",
    "data_shape = data_only.shape\n",
    "label_shape = label.shape\n",
    "print(data_shape, label_shape)"
   ]
  },
  {
   "attachments": {},
   "cell_type": "markdown",
   "metadata": {},
   "source": [
    "<h3> Split data into Train and Test Set </h3>"
   ]
  },
  {
   "cell_type": "code",
   "execution_count": 3,
   "metadata": {},
   "outputs": [],
   "source": [
    "X_train, X_test, y_train, y_test = train_test_split(data_only, label, test_size=0.25, random_state=50)"
   ]
  },
  {
   "attachments": {},
   "cell_type": "markdown",
   "metadata": {},
   "source": [
    "<h3> CNN Model Architecture </h3>"
   ]
  },
  {
   "cell_type": "code",
   "execution_count": 4,
   "metadata": {},
   "outputs": [],
   "source": [
    "cnn_model = keras.models.Sequential()\n",
    "cnn_model.add(keras.layers.Conv2D(32, (3, 3), activation='relu', input_shape=(512, 62, 1)))\n",
    "cnn_model.add(keras.layers.MaxPooling2D((2, 2)))\n",
    "cnn_model.add(keras.layers.Conv2D(64, (3, 3), activation='relu'))\n",
    "cnn_model.add(keras.layers.MaxPooling2D((2, 2)))\n",
    "\n",
    "cnn_model.add(keras.layers.Conv2D(64, (3, 3), activation='relu'))\n",
    "cnn_model.add(keras.layers.MaxPooling2D((2, 2)))\n",
    "cnn_model.add(keras.layers.Conv2D(50, (3, 3), activation='relu'))\n",
    "cnn_model.add(keras.layers.Flatten())\n",
    "cnn_model.add(keras.layers.Dense(64, activation='relu'))\n",
    "cnn_model.add(layers.Dense(10, activation='softmax'))"
   ]
  },
  {
   "attachments": {},
   "cell_type": "markdown",
   "metadata": {},
   "source": [
    "<h3> Model Summary </h3>"
   ]
  },
  {
   "cell_type": "code",
   "execution_count": 5,
   "metadata": {},
   "outputs": [
    {
     "name": "stdout",
     "output_type": "stream",
     "text": [
      "Model: \"sequential\"\n",
      "_________________________________________________________________\n",
      " Layer (type)                Output Shape              Param #   \n",
      "=================================================================\n",
      " conv2d (Conv2D)             (None, 510, 60, 32)       320       \n",
      "                                                                 \n",
      " max_pooling2d (MaxPooling2D  (None, 255, 30, 32)      0         \n",
      " )                                                               \n",
      "                                                                 \n",
      " conv2d_1 (Conv2D)           (None, 253, 28, 64)       18496     \n",
      "                                                                 \n",
      " max_pooling2d_1 (MaxPooling  (None, 126, 14, 64)      0         \n",
      " 2D)                                                             \n",
      "                                                                 \n",
      " conv2d_2 (Conv2D)           (None, 124, 12, 64)       36928     \n",
      "                                                                 \n",
      " max_pooling2d_2 (MaxPooling  (None, 62, 6, 64)        0         \n",
      " 2D)                                                             \n",
      "                                                                 \n",
      " conv2d_3 (Conv2D)           (None, 60, 4, 50)         28850     \n",
      "                                                                 \n",
      " flatten (Flatten)           (None, 12000)             0         \n",
      "                                                                 \n",
      " dense (Dense)               (None, 64)                768064    \n",
      "                                                                 \n",
      " dense_1 (Dense)             (None, 10)                650       \n",
      "                                                                 \n",
      "=================================================================\n",
      "Total params: 853,308\n",
      "Trainable params: 853,308\n",
      "Non-trainable params: 0\n",
      "_________________________________________________________________\n"
     ]
    }
   ],
   "source": [
    "cnn_model.summary()"
   ]
  },
  {
   "attachments": {},
   "cell_type": "markdown",
   "metadata": {},
   "source": [
    "<h3> Compile and Fit Model </h3>"
   ]
  },
  {
   "cell_type": "code",
   "execution_count": 6,
   "metadata": {},
   "outputs": [
    {
     "name": "stdout",
     "output_type": "stream",
     "text": [
      "Epoch 1/30\n",
      "14/14 [==============================] - 8s 481ms/step - loss: 1.9488 - accuracy: 0.5037\n",
      "Epoch 2/30\n",
      "14/14 [==============================] - 6s 448ms/step - loss: 0.5873 - accuracy: 0.7000\n",
      "Epoch 3/30\n",
      "14/14 [==============================] - 6s 437ms/step - loss: 0.3618 - accuracy: 0.8926\n",
      "Epoch 4/30\n",
      "14/14 [==============================] - 7s 480ms/step - loss: 0.2970 - accuracy: 0.9148\n",
      "Epoch 5/30\n",
      "14/14 [==============================] - 8s 528ms/step - loss: 0.2581 - accuracy: 0.9259\n",
      "Epoch 6/30\n",
      "14/14 [==============================] - 7s 489ms/step - loss: 0.1902 - accuracy: 0.9444\n",
      "Epoch 7/30\n",
      "14/14 [==============================] - 7s 473ms/step - loss: 0.1197 - accuracy: 0.9815\n",
      "Epoch 8/30\n",
      "14/14 [==============================] - 7s 474ms/step - loss: 0.0570 - accuracy: 0.9815\n",
      "Epoch 9/30\n",
      "14/14 [==============================] - 7s 481ms/step - loss: 0.0245 - accuracy: 0.9963\n",
      "Epoch 10/30\n",
      "14/14 [==============================] - 7s 472ms/step - loss: 0.0066 - accuracy: 1.0000\n",
      "Epoch 11/30\n",
      "14/14 [==============================] - 7s 471ms/step - loss: 0.0035 - accuracy: 1.0000\n",
      "Epoch 12/30\n",
      "14/14 [==============================] - 7s 475ms/step - loss: 0.0039 - accuracy: 1.0000\n",
      "Epoch 13/30\n",
      "14/14 [==============================] - 7s 469ms/step - loss: 0.0022 - accuracy: 1.0000\n",
      "Epoch 14/30\n",
      "14/14 [==============================] - 6s 460ms/step - loss: 0.0013 - accuracy: 1.0000\n",
      "Epoch 15/30\n",
      "14/14 [==============================] - 7s 465ms/step - loss: 7.6394e-04 - accuracy: 1.0000\n",
      "Epoch 16/30\n",
      "14/14 [==============================] - 7s 498ms/step - loss: 6.0505e-04 - accuracy: 1.0000\n",
      "Epoch 17/30\n",
      "14/14 [==============================] - 7s 483ms/step - loss: 5.3532e-04 - accuracy: 1.0000\n",
      "Epoch 18/30\n",
      "14/14 [==============================] - 7s 476ms/step - loss: 5.8438e-04 - accuracy: 1.0000\n",
      "Epoch 19/30\n",
      "14/14 [==============================] - 7s 493ms/step - loss: 4.4088e-04 - accuracy: 1.0000\n",
      "Epoch 20/30\n",
      "14/14 [==============================] - 7s 477ms/step - loss: 3.5681e-04 - accuracy: 1.0000\n",
      "Epoch 21/30\n",
      "14/14 [==============================] - 7s 491ms/step - loss: 3.2521e-04 - accuracy: 1.0000\n",
      "Epoch 22/30\n",
      "14/14 [==============================] - 7s 493ms/step - loss: 2.9015e-04 - accuracy: 1.0000\n",
      "Epoch 23/30\n",
      "14/14 [==============================] - 7s 479ms/step - loss: 2.6350e-04 - accuracy: 1.0000\n",
      "Epoch 24/30\n",
      "14/14 [==============================] - 7s 478ms/step - loss: 2.4552e-04 - accuracy: 1.0000\n",
      "Epoch 25/30\n",
      "14/14 [==============================] - 7s 478ms/step - loss: 2.2265e-04 - accuracy: 1.0000\n",
      "Epoch 26/30\n",
      "14/14 [==============================] - 7s 477ms/step - loss: 1.9843e-04 - accuracy: 1.0000\n",
      "Epoch 27/30\n",
      "14/14 [==============================] - 7s 482ms/step - loss: 1.7621e-04 - accuracy: 1.0000\n",
      "Epoch 28/30\n",
      "14/14 [==============================] - 7s 485ms/step - loss: 1.6499e-04 - accuracy: 1.0000\n",
      "Epoch 29/30\n",
      "14/14 [==============================] - 7s 490ms/step - loss: 1.4357e-04 - accuracy: 1.0000\n",
      "Epoch 30/30\n",
      "14/14 [==============================] - 7s 479ms/step - loss: 1.3174e-04 - accuracy: 1.0000\n",
      "3/3 - 1s - loss: 1.2555 - accuracy: 0.8667 - 749ms/epoch - 250ms/step\n",
      "86.66666746139526\n"
     ]
    }
   ],
   "source": [
    "cnn_model.compile(optimizer='adam', loss=tf.keras.losses.SparseCategoricalCrossentropy(from_logits=False),metrics=['accuracy'])\n",
    "cnn_history01= cnn_model.fit(X_train, y_train, batch_size=20, epochs=30)\n",
    "test_loss, acc_score = cnn_model.evaluate(X_test, y_test, verbose=2)\n",
    "print(acc_score*100)"
   ]
  },
  {
   "cell_type": "code",
   "execution_count": 7,
   "metadata": {},
   "outputs": [
    {
     "data": {
      "text/plain": [
       "<matplotlib.legend.Legend at 0x1ffca8d9610>"
      ]
     },
     "execution_count": 7,
     "metadata": {},
     "output_type": "execute_result"
    },
    {
     "data": {
      "image/png": "[encoded data removed]",
      "text/plain": [
       "<Figure size 640x480 with 1 Axes>"
      ]
     },
     "metadata": {},
     "output_type": "display_data"
    }
   ],
   "source": [
    "plt.plot(cnn_history01.history['accuracy'], label='train_accuracy')\n",
    "plt.xlabel('Epoch')\n",
    "plt.ylabel('Accuracy')\n",
    "plt.legend(loc='lower right')"
   ]
  },
  {
   "attachments": {},
   "cell_type": "markdown",
   "metadata": {},
   "source": [
    "<h3> Evaluation using KFold cross validation </h3>"
   ]
  },
  {
   "cell_type": "code",
   "execution_count": 8,
   "metadata": {},
   "outputs": [],
   "source": [
    "cv = KFold(n_splits=5, shuffle=True, random_state=24)"
   ]
  },
  {
   "attachments": {},
   "cell_type": "markdown",
   "metadata": {},
   "source": [
    "<h3> Compile and Fit Model with KFold cross validation </h3>"
   ]
  },
  {
   "cell_type": "code",
   "execution_count": 9,
   "metadata": {},
   "outputs": [
    {
     "name": "stdout",
     "output_type": "stream",
     "text": [
      "Epoch 1/2\n",
      "15/15 [==============================] - 8s 505ms/step - loss: 0.4116 - accuracy: 0.9549\n",
      "Epoch 2/2\n",
      "15/15 [==============================] - 8s 496ms/step - loss: 0.1170 - accuracy: 0.9653\n",
      "3/3 - 1s - loss: 0.0622 - accuracy: 1.0000 - 554ms/epoch - 185ms/step\n",
      "Epoch 1/2\n",
      "15/15 [==============================] - 8s 467ms/step - loss: 0.1311 - accuracy: 0.9583\n",
      "Epoch 2/2\n",
      "15/15 [==============================] - 7s 458ms/step - loss: 0.2642 - accuracy: 0.9306\n",
      "3/3 - 1s - loss: 0.0810 - accuracy: 0.9861 - 544ms/epoch - 181ms/step\n",
      "Epoch 1/2\n",
      "15/15 [==============================] - 8s 459ms/step - loss: 0.1980 - accuracy: 0.9410\n",
      "Epoch 2/2\n",
      "15/15 [==============================] - 7s 475ms/step - loss: 0.0844 - accuracy: 0.9722\n",
      "3/3 - 1s - loss: 0.0596 - accuracy: 0.9861 - 544ms/epoch - 181ms/step\n",
      "Epoch 1/2\n",
      "15/15 [==============================] - 8s 468ms/step - loss: 0.0587 - accuracy: 0.9826\n",
      "Epoch 2/2\n",
      "15/15 [==============================] - 7s 464ms/step - loss: 0.0831 - accuracy: 0.9722\n",
      "WARNING:tensorflow:5 out of the last 13 calls to <function Model.make_test_function.<locals>.test_function at 0x000001FFD130FDC0> triggered tf.function retracing. Tracing is expensive and the excessive number of tracings could be due to (1) creating @tf.function repeatedly in a loop, (2) passing tensors with different shapes, (3) passing Python objects instead of tensors. For (1), please define your @tf.function outside of the loop. For (2), @tf.function has reduce_retracing=True option that can avoid unnecessary retracing. For (3), please refer to https://www.tensorflow.org/guide/function#controlling_retracing and https://www.tensorflow.org/api_docs/python/tf/function for  more details.\n",
      "3/3 - 1s - loss: 0.4991 - accuracy: 0.8889 - 565ms/epoch - 188ms/step\n",
      "Epoch 1/2\n",
      "15/15 [==============================] - 8s 465ms/step - loss: 0.1327 - accuracy: 0.9583\n",
      "Epoch 2/2\n",
      "15/15 [==============================] - 7s 465ms/step - loss: 0.1114 - accuracy: 0.9826\n",
      "WARNING:tensorflow:5 out of the last 13 calls to <function Model.make_test_function.<locals>.test_function at 0x000001FFD1B3EB80> triggered tf.function retracing. Tracing is expensive and the excessive number of tracings could be due to (1) creating @tf.function repeatedly in a loop, (2) passing tensors with different shapes, (3) passing Python objects instead of tensors. For (1), please define your @tf.function outside of the loop. For (2), @tf.function has reduce_retracing=True option that can avoid unnecessary retracing. For (3), please refer to https://www.tensorflow.org/guide/function#controlling_retracing and https://www.tensorflow.org/api_docs/python/tf/function for  more details.\n",
      "3/3 - 1s - loss: 0.0566 - accuracy: 0.9722 - 573ms/epoch - 191ms/step\n",
      "[1.0, 0.9861111044883728, 0.9861111044883728, 0.8888888955116272, 0.9722222089767456]\n"
     ]
    }
   ],
   "source": [
    "cnn_accuracies = []\n",
    "\n",
    "for train_ind, test_ind in cv.split(data_only):\n",
    "    x_train, x_test, y_train, y_test = data_only[train_ind], data_only[test_ind], label[train_ind], label[test_ind]\n",
    "\n",
    "    cnn_model.compile(optimizer='adam', loss=tf.keras.losses.SparseCategoricalCrossentropy(from_logits=False),metrics=['accuracy'])\n",
    "    cnn_history= cnn_model.fit(x_train, y_train, batch_size=20, epochs=2)\n",
    "    test_loss, acc_score = cnn_model.evaluate(x_test, y_test, verbose=2)\n",
    "    cnn_accuracies.append(acc_score)\n",
    "\n",
    "print(cnn_accuracies)"
   ]
  },
  {
   "cell_type": "code",
   "execution_count": 10,
   "metadata": {},
   "outputs": [],
   "source": [
    "mean_score = np.mean(cnn_accuracies)"
   ]
  },
  {
   "cell_type": "code",
   "execution_count": 11,
   "metadata": {},
   "outputs": [
    {
     "name": "stdout",
     "output_type": "stream",
     "text": [
      "96.66666626930237\n"
     ]
    }
   ],
   "source": [
    "print((mean_score)*100)"
   ]
  },
  {
   "attachments": {},
   "cell_type": "markdown",
   "metadata": {},
   "source": [
    "<h3>Training Accuracy Plot</h3>"
   ]
  },
  {
   "cell_type": "code",
   "execution_count": 12,
   "metadata": {},
   "outputs": [
    {
     "data": {
      "text/plain": [
       "<matplotlib.legend.Legend at 0x1ffcafbea00>"
      ]
     },
     "execution_count": 12,
     "metadata": {},
     "output_type": "execute_result"
    },
    {
     "data": {
      "image/png": "[encoded data removed]",
      "text/plain": [
       "<Figure size 640x480 with 1 Axes>"
      ]
     },
     "metadata": {},
     "output_type": "display_data"
    }
   ],
   "source": [
    "plt.plot(cnn_history.history['accuracy'], label='train_accuracy')\n",
    "plt.xlabel('Epoch')\n",
    "plt.ylabel('Accuracy')\n",
    "plt.legend(loc='lower right')"
   ]
  },
  {
   "cell_type": "code",
   "execution_count": null,
   "metadata": {},
   "outputs": [],
   "source": []
  }
 ],
 "metadata": {
  "kernelspec": {
   "display_name": "base",
   "language": "python",
   "name": "python3"
  },
  "language_info": {
   "codemirror_mode": {
    "name": "ipython",
    "version": 3
   },
   "file_extension": ".py",
   "mimetype": "text/x-python",
   "name": "python",
   "nbconvert_exporter": "python",
   "pygments_lexer": "ipython3",
   "version": "3.9.13"
  },
  "orig_nbformat": 4
 },
 "nbformat": 4,
 "nbformat_minor": 2
}
