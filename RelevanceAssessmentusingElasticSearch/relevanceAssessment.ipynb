{
 "cells": [
  {
   "cell_type": "code",
   "execution_count": 1,
   "metadata": {},
   "outputs": [],
   "source": [
    "import json\n",
    "from elasticsearch5 import Elasticsearch\n",
    "from elasticsearch5.helpers import reindex"
   ]
  },
  {
   "cell_type": "code",
   "execution_count": 2,
   "metadata": {},
   "outputs": [],
   "source": [
    "es = Elasticsearch(hosts=\"localhost:9200\")"
   ]
  },
  {
   "cell_type": "code",
   "execution_count": 3,
   "metadata": {},
   "outputs": [
    {
     "data": {
      "text/plain": [
       "{'acknowledged': True}"
      ]
     },
     "execution_count": 3,
     "metadata": {},
     "output_type": "execute_result"
    }
   ],
   "source": [
    "### Deleting the final index added for every time the program is run and index is created\n",
    "\n",
    "es.indices.delete(index=\"shakespearefile1\", ignore=404)\n",
    "es.indices.delete(index=\"shakespearefile2\", ignore=404)"
   ]
  },
  {
   "cell_type": "code",
   "execution_count": 4,
   "metadata": {},
   "outputs": [],
   "source": [
    "shakespeare_index = \"shakespearefile1\""
   ]
  },
  {
   "cell_type": "code",
   "execution_count": 5,
   "metadata": {},
   "outputs": [
    {
     "data": {
      "text/plain": [
       "{'acknowledged': True,\n",
       " 'shards_acknowledged': True,\n",
       " 'index': 'shakespearefile1'}"
      ]
     },
     "execution_count": 5,
     "metadata": {},
     "output_type": "execute_result"
    }
   ],
   "source": [
    "custom_analyzer_system1 = {\n",
    "    \"analysis\": {\n",
    "        \"analyzer\": {\n",
    "            \"my_custom_analyzer\": {\n",
    "                \"type\": \"custom\",\n",
    "                \"tokenizer\": \"standard\",\n",
    "                \"filter\": [\"lowercase\", \"porter_stem\"],\n",
    "            }\n",
    "        }\n",
    "    }\n",
    "}\n",
    "\n",
    "document_mappings = {\n",
    "    \"properties\": {\n",
    "        \"line_id\": {\"type\": \"long\"},\n",
    "        \"play_name\": {\"type\": \"text\"},\n",
    "        \"line_number\": {\"type\": \"text\"},\n",
    "        \"speaker\": {\"type\": \"text\"},\n",
    "        \"speech_number\": {\"type\": \"text\"},\n",
    "        \"speaker\": {\"type\": \"text\"},\n",
    "        \"text_entry\": {\n",
    "            \"type\": \"text\",\n",
    "            \"analyzer\": \"my_custom_analyzer\"\n",
    "        },\n",
    "    }\n",
    "}\n",
    "\n",
    "elastic_search_config = {\n",
    "    \"settings\": custom_analyzer_system1,\n",
    "    \"mappings\": {\n",
    "        \"line\": document_mappings,\n",
    "        \"scene\": document_mappings,\n",
    "        \"act\": document_mappings,\n",
    "    }\n",
    "}\n",
    "\n",
    "index1 = es.indices.create(index=shakespeare_index, body=elastic_search_config, ignore=400)\n",
    "index1"
   ]
  },
  {
   "cell_type": "code",
   "execution_count": 6,
   "metadata": {},
   "outputs": [],
   "source": [
    "shakespeare_index_2 = \"shakespearefile2\""
   ]
  },
  {
   "cell_type": "code",
   "execution_count": 7,
   "metadata": {},
   "outputs": [
    {
     "data": {
      "text/plain": [
       "{'acknowledged': True,\n",
       " 'shards_acknowledged': True,\n",
       " 'index': 'shakespearefile2'}"
      ]
     },
     "execution_count": 7,
     "metadata": {},
     "output_type": "execute_result"
    }
   ],
   "source": [
    "custom_analyzer_system2 = {\n",
    "    \"analysis\": {\n",
    "        \"analyzer\": {\n",
    "            \"my_custom_analyzer\": {\n",
    "                \"type\": \"custom\",\n",
    "                \"tokenizer\": \"standard\",\n",
    "                \"filter\": [\"lowercase\"],\n",
    "            }\n",
    "        }\n",
    "    }\n",
    "}\n",
    "\n",
    "document_mappings_system2 = {\n",
    "    \"properties\": {\n",
    "        \"line_id\": {\"type\": \"long\"},\n",
    "        \"play_name\": {\"type\": \"text\"},\n",
    "        \"line_number\": {\"type\": \"text\"},\n",
    "        \"speaker\": {\"type\": \"text\"},\n",
    "        \"speech_number\": {\"type\": \"text\"},\n",
    "        \"speaker\": {\"type\": \"text\"},\n",
    "        \"text_entry\": {\n",
    "            \"type\": \"text\",\n",
    "            \"analyzer\": \"my_custom_analyzer\"\n",
    "        },\n",
    "    }\n",
    "}\n",
    "\n",
    "elastic_search_config_2 = {\n",
    "    \"settings\": custom_analyzer_system2,\n",
    "    \"mappings\": {\n",
    "        \"line\": document_mappings_system2,\n",
    "        \"scene\": document_mappings_system2,\n",
    "        \"act\": document_mappings_system2,\n",
    "    }\n",
    "}\n",
    "\n",
    "index2 = es.indices.create(index=shakespeare_index_2 , body=elastic_search_config_2, ignore=400)\n",
    "index2\n",
    "\n"
   ]
  },
  {
   "cell_type": "code",
   "execution_count": 8,
   "metadata": {},
   "outputs": [],
   "source": [
    "shakespeare_destination_index = 'shakespeareReindex'"
   ]
  },
  {
   "cell_type": "code",
   "execution_count": 9,
   "metadata": {},
   "outputs": [
    {
     "data": {
      "text/plain": [
       "{'error': {'root_cause': [{'type': 'parsing_exception',\n",
       "    'reason': '[reindex] failed to parse field [source]',\n",
       "    'line': 1,\n",
       "    'col': 186}],\n",
       "  'type': 'parsing_exception',\n",
       "  'reason': '[reindex] failed to parse field [source]',\n",
       "  'line': 1,\n",
       "  'col': 186,\n",
       "  'caused_by': {'type': 'array_store_exception', 'reason': None}},\n",
       " 'status': 400}"
      ]
     },
     "execution_count": 9,
     "metadata": {},
     "output_type": "execute_result"
    }
   ],
   "source": [
    "reindex_body = {\n",
    "    \"source\": {\n",
    "        \"index\": [index1, index2]\n",
    "    },\n",
    "    \"dest\": {\n",
    "        \"index\": shakespeare_destination_index\n",
    "    }\n",
    "}\n",
    "\n",
    "es.reindex(body=reindex_body, refresh=True, ignore=400)"
   ]
  },
  {
   "cell_type": "code",
   "execution_count": null,
   "metadata": {},
   "outputs": [],
   "source": []
  }
 ],
 "metadata": {
  "kernelspec": {
   "display_name": "base",
   "language": "python",
   "name": "python3"
  },
  "language_info": {
   "codemirror_mode": {
    "name": "ipython",
    "version": 3
   },
   "file_extension": ".py",
   "mimetype": "text/x-python",
   "name": "python",
   "nbconvert_exporter": "python",
   "pygments_lexer": "ipython3",
   "version": "3.9.13"
  },
  "orig_nbformat": 4
 },
 "nbformat": 4,
 "nbformat_minor": 2
}
