{
 "cells": [
  {
   "cell_type": "markdown",
   "metadata": {},
   "source": [
    "### Part A"
   ]
  },
  {
   "cell_type": "code",
   "execution_count": 1,
   "metadata": {},
   "outputs": [],
   "source": [
    "# HERE YOU WILL WRITE CODE TO TEST A NUMBER OF PREDICTORS\n",
    "# AND FINALLY CHOOSE AND TRAIN THE PREDICTOR THAT YOU WILL BE USING FOR PART B"
   ]
  },
  {
   "attachments": {},
   "cell_type": "markdown",
   "metadata": {},
   "source": [
    "Importing Libraries"
   ]
  },
  {
   "cell_type": "code",
   "execution_count": 2,
   "metadata": {},
   "outputs": [],
   "source": [
    "import numpy as np\n",
    "import pandas as pd\n",
    "import matplotlib.pyplot as plt\n",
    "import seaborn as sns\n",
    "import missingno as msno\n",
    "from sklearn.model_selection import train_test_split, cross_val_score, KFold\n",
    "from sklearn.linear_model import LinearRegression\n",
    "from sklearn.tree import DecisionTreeRegressor\n",
    "from sklearn.metrics import mean_squared_error, median_absolute_error\n",
    "from sklearn.ensemble import GradientBoostingRegressor\n",
    "from sklearn.ensemble import RandomForestRegressor\n",
    "from sklearn.compose import ColumnTransformer\n",
    "from sklearn.preprocessing import OneHotEncoder, StandardScaler\n",
    "from sklearn.pipeline import Pipeline\n",
    "from sklearn.metrics import r2_score"
   ]
  },
  {
   "attachments": {},
   "cell_type": "markdown",
   "metadata": {},
   "source": [
    "Data file import"
   ]
  },
  {
   "cell_type": "code",
   "execution_count": 3,
   "metadata": {},
   "outputs": [],
   "source": [
    "diabetes_file = pd.read_csv('CE802_P3_Data.csv')"
   ]
  },
  {
   "attachments": {},
   "cell_type": "markdown",
   "metadata": {},
   "source": [
    "<h3> Visualising Data </h3>"
   ]
  },
  {
   "cell_type": "code",
   "execution_count": 4,
   "metadata": {},
   "outputs": [
    {
     "data": {
      "text/html": [
       "<div>\n",
       "<style scoped>\n",
       "    .dataframe tbody tr th:only-of-type {\n",
       "        vertical-align: middle;\n",
       "    }\n",
       "\n",
       "    .dataframe tbody tr th {\n",
       "        vertical-align: top;\n",
       "    }\n",
       "\n",
       "    .dataframe thead th {\n",
       "        text-align: right;\n",
       "    }\n",
       "</style>\n",
       "<table border=\"1\" class=\"dataframe\">\n",
       "  <thead>\n",
       "    <tr style=\"text-align: right;\">\n",
       "      <th></th>\n",
       "      <th>F1</th>\n",
       "      <th>F2</th>\n",
       "      <th>F3</th>\n",
       "      <th>F4</th>\n",
       "      <th>F5</th>\n",
       "      <th>F6</th>\n",
       "      <th>F7</th>\n",
       "      <th>F8</th>\n",
       "      <th>F9</th>\n",
       "      <th>F10</th>\n",
       "      <th>...</th>\n",
       "      <th>F26</th>\n",
       "      <th>F27</th>\n",
       "      <th>F28</th>\n",
       "      <th>F29</th>\n",
       "      <th>F30</th>\n",
       "      <th>F31</th>\n",
       "      <th>F32</th>\n",
       "      <th>F33</th>\n",
       "      <th>F34</th>\n",
       "      <th>Target</th>\n",
       "    </tr>\n",
       "  </thead>\n",
       "  <tbody>\n",
       "    <tr>\n",
       "      <th>0</th>\n",
       "      <td>9.18</td>\n",
       "      <td>35.98</td>\n",
       "      <td>21.36</td>\n",
       "      <td>4520.91</td>\n",
       "      <td>1.25</td>\n",
       "      <td>-40.80</td>\n",
       "      <td>12.82</td>\n",
       "      <td>-2169.72</td>\n",
       "      <td>-15.03</td>\n",
       "      <td>996.53</td>\n",
       "      <td>...</td>\n",
       "      <td>-22.57</td>\n",
       "      <td>6</td>\n",
       "      <td>3885.47</td>\n",
       "      <td>Low</td>\n",
       "      <td>-7304.02</td>\n",
       "      <td>-2536.91</td>\n",
       "      <td>Rest</td>\n",
       "      <td>163.96</td>\n",
       "      <td>4.59</td>\n",
       "      <td>296.76</td>\n",
       "    </tr>\n",
       "    <tr>\n",
       "      <th>1</th>\n",
       "      <td>5.94</td>\n",
       "      <td>35.28</td>\n",
       "      <td>28.02</td>\n",
       "      <td>2403.84</td>\n",
       "      <td>2.46</td>\n",
       "      <td>-16.62</td>\n",
       "      <td>23.32</td>\n",
       "      <td>-4013.31</td>\n",
       "      <td>-16.17</td>\n",
       "      <td>1042.66</td>\n",
       "      <td>...</td>\n",
       "      <td>-61.05</td>\n",
       "      <td>4</td>\n",
       "      <td>9841.64</td>\n",
       "      <td>Very high</td>\n",
       "      <td>1174.24</td>\n",
       "      <td>-2541.68</td>\n",
       "      <td>Europe</td>\n",
       "      <td>-822.18</td>\n",
       "      <td>2.43</td>\n",
       "      <td>484.06</td>\n",
       "    </tr>\n",
       "    <tr>\n",
       "      <th>2</th>\n",
       "      <td>2.70</td>\n",
       "      <td>36.02</td>\n",
       "      <td>5.06</td>\n",
       "      <td>4452.39</td>\n",
       "      <td>-1.20</td>\n",
       "      <td>28.38</td>\n",
       "      <td>7.26</td>\n",
       "      <td>-4518.75</td>\n",
       "      <td>4.14</td>\n",
       "      <td>1223.95</td>\n",
       "      <td>...</td>\n",
       "      <td>-62.48</td>\n",
       "      <td>2</td>\n",
       "      <td>114.90</td>\n",
       "      <td>Very low</td>\n",
       "      <td>-16999.90</td>\n",
       "      <td>-2354.30</td>\n",
       "      <td>UK</td>\n",
       "      <td>-801.15</td>\n",
       "      <td>8.85</td>\n",
       "      <td>123.29</td>\n",
       "    </tr>\n",
       "    <tr>\n",
       "      <th>3</th>\n",
       "      <td>11.12</td>\n",
       "      <td>23.08</td>\n",
       "      <td>24.54</td>\n",
       "      <td>3280.86</td>\n",
       "      <td>0.48</td>\n",
       "      <td>60.82</td>\n",
       "      <td>44.08</td>\n",
       "      <td>-5065.47</td>\n",
       "      <td>-26.67</td>\n",
       "      <td>1482.16</td>\n",
       "      <td>...</td>\n",
       "      <td>-76.45</td>\n",
       "      <td>2</td>\n",
       "      <td>4022.62</td>\n",
       "      <td>Very low</td>\n",
       "      <td>-9313.50</td>\n",
       "      <td>-2626.67</td>\n",
       "      <td>Europe</td>\n",
       "      <td>-944.38</td>\n",
       "      <td>12.39</td>\n",
       "      <td>-8.93</td>\n",
       "    </tr>\n",
       "    <tr>\n",
       "      <th>4</th>\n",
       "      <td>7.78</td>\n",
       "      <td>27.62</td>\n",
       "      <td>21.70</td>\n",
       "      <td>2337.15</td>\n",
       "      <td>0.08</td>\n",
       "      <td>62.42</td>\n",
       "      <td>-39.02</td>\n",
       "      <td>-4555.65</td>\n",
       "      <td>-3.48</td>\n",
       "      <td>811.52</td>\n",
       "      <td>...</td>\n",
       "      <td>-97.78</td>\n",
       "      <td>2</td>\n",
       "      <td>-251.62</td>\n",
       "      <td>Very high</td>\n",
       "      <td>-3948.42</td>\n",
       "      <td>-2471.47</td>\n",
       "      <td>USA</td>\n",
       "      <td>-762.13</td>\n",
       "      <td>8.46</td>\n",
       "      <td>68.28</td>\n",
       "    </tr>\n",
       "    <tr>\n",
       "      <th>5</th>\n",
       "      <td>-4.86</td>\n",
       "      <td>36.52</td>\n",
       "      <td>23.68</td>\n",
       "      <td>4853.52</td>\n",
       "      <td>-0.09</td>\n",
       "      <td>-11.02</td>\n",
       "      <td>9.14</td>\n",
       "      <td>-4975.56</td>\n",
       "      <td>-15.60</td>\n",
       "      <td>446.92</td>\n",
       "      <td>...</td>\n",
       "      <td>-82.91</td>\n",
       "      <td>6</td>\n",
       "      <td>2062.09</td>\n",
       "      <td>Medium</td>\n",
       "      <td>-6703.34</td>\n",
       "      <td>-2175.24</td>\n",
       "      <td>Rest</td>\n",
       "      <td>-1068.89</td>\n",
       "      <td>3.90</td>\n",
       "      <td>119.74</td>\n",
       "    </tr>\n",
       "    <tr>\n",
       "      <th>6</th>\n",
       "      <td>12.94</td>\n",
       "      <td>47.12</td>\n",
       "      <td>18.54</td>\n",
       "      <td>3475.62</td>\n",
       "      <td>-7.44</td>\n",
       "      <td>-71.58</td>\n",
       "      <td>23.97</td>\n",
       "      <td>-3892.47</td>\n",
       "      <td>-18.51</td>\n",
       "      <td>805.73</td>\n",
       "      <td>...</td>\n",
       "      <td>-97.34</td>\n",
       "      <td>4</td>\n",
       "      <td>-3197.34</td>\n",
       "      <td>Medium</td>\n",
       "      <td>-9812.34</td>\n",
       "      <td>-1804.66</td>\n",
       "      <td>USA</td>\n",
       "      <td>-321.57</td>\n",
       "      <td>14.70</td>\n",
       "      <td>76.07</td>\n",
       "    </tr>\n",
       "    <tr>\n",
       "      <th>7</th>\n",
       "      <td>18.92</td>\n",
       "      <td>34.36</td>\n",
       "      <td>11.32</td>\n",
       "      <td>4168.65</td>\n",
       "      <td>1.08</td>\n",
       "      <td>87.60</td>\n",
       "      <td>-3.92</td>\n",
       "      <td>-2792.88</td>\n",
       "      <td>-20.22</td>\n",
       "      <td>893.94</td>\n",
       "      <td>...</td>\n",
       "      <td>-70.82</td>\n",
       "      <td>7</td>\n",
       "      <td>4923.96</td>\n",
       "      <td>High</td>\n",
       "      <td>-10460.30</td>\n",
       "      <td>-2170.87</td>\n",
       "      <td>UK</td>\n",
       "      <td>-534.01</td>\n",
       "      <td>25.53</td>\n",
       "      <td>255.06</td>\n",
       "    </tr>\n",
       "    <tr>\n",
       "      <th>8</th>\n",
       "      <td>32.50</td>\n",
       "      <td>49.42</td>\n",
       "      <td>25.76</td>\n",
       "      <td>4734.66</td>\n",
       "      <td>1.51</td>\n",
       "      <td>85.08</td>\n",
       "      <td>36.59</td>\n",
       "      <td>-4640.31</td>\n",
       "      <td>-19.47</td>\n",
       "      <td>928.37</td>\n",
       "      <td>...</td>\n",
       "      <td>-57.37</td>\n",
       "      <td>4</td>\n",
       "      <td>2066.45</td>\n",
       "      <td>Low</td>\n",
       "      <td>-10639.94</td>\n",
       "      <td>-2008.04</td>\n",
       "      <td>UK</td>\n",
       "      <td>-380.78</td>\n",
       "      <td>21.72</td>\n",
       "      <td>106.84</td>\n",
       "    </tr>\n",
       "    <tr>\n",
       "      <th>9</th>\n",
       "      <td>9.50</td>\n",
       "      <td>37.20</td>\n",
       "      <td>23.62</td>\n",
       "      <td>2432.37</td>\n",
       "      <td>-1.48</td>\n",
       "      <td>28.98</td>\n",
       "      <td>-57.51</td>\n",
       "      <td>-1624.17</td>\n",
       "      <td>-14.19</td>\n",
       "      <td>283.85</td>\n",
       "      <td>...</td>\n",
       "      <td>-96.56</td>\n",
       "      <td>3</td>\n",
       "      <td>3596.15</td>\n",
       "      <td>High</td>\n",
       "      <td>-7238.00</td>\n",
       "      <td>-2234.71</td>\n",
       "      <td>USA</td>\n",
       "      <td>-542.93</td>\n",
       "      <td>9.00</td>\n",
       "      <td>-8.93</td>\n",
       "    </tr>\n",
       "  </tbody>\n",
       "</table>\n",
       "<p>10 rows × 35 columns</p>\n",
       "</div>"
      ],
      "text/plain": [
       "      F1     F2     F3       F4    F5     F6     F7       F8     F9      F10  \\\n",
       "0   9.18  35.98  21.36  4520.91  1.25 -40.80  12.82 -2169.72 -15.03   996.53   \n",
       "1   5.94  35.28  28.02  2403.84  2.46 -16.62  23.32 -4013.31 -16.17  1042.66   \n",
       "2   2.70  36.02   5.06  4452.39 -1.20  28.38   7.26 -4518.75   4.14  1223.95   \n",
       "3  11.12  23.08  24.54  3280.86  0.48  60.82  44.08 -5065.47 -26.67  1482.16   \n",
       "4   7.78  27.62  21.70  2337.15  0.08  62.42 -39.02 -4555.65  -3.48   811.52   \n",
       "5  -4.86  36.52  23.68  4853.52 -0.09 -11.02   9.14 -4975.56 -15.60   446.92   \n",
       "6  12.94  47.12  18.54  3475.62 -7.44 -71.58  23.97 -3892.47 -18.51   805.73   \n",
       "7  18.92  34.36  11.32  4168.65  1.08  87.60  -3.92 -2792.88 -20.22   893.94   \n",
       "8  32.50  49.42  25.76  4734.66  1.51  85.08  36.59 -4640.31 -19.47   928.37   \n",
       "9   9.50  37.20  23.62  2432.37 -1.48  28.98 -57.51 -1624.17 -14.19   283.85   \n",
       "\n",
       "   ...    F26  F27      F28        F29       F30      F31     F32      F33  \\\n",
       "0  ... -22.57    6  3885.47        Low  -7304.02 -2536.91    Rest   163.96   \n",
       "1  ... -61.05    4  9841.64  Very high   1174.24 -2541.68  Europe  -822.18   \n",
       "2  ... -62.48    2   114.90   Very low -16999.90 -2354.30      UK  -801.15   \n",
       "3  ... -76.45    2  4022.62   Very low  -9313.50 -2626.67  Europe  -944.38   \n",
       "4  ... -97.78    2  -251.62  Very high  -3948.42 -2471.47     USA  -762.13   \n",
       "5  ... -82.91    6  2062.09     Medium  -6703.34 -2175.24    Rest -1068.89   \n",
       "6  ... -97.34    4 -3197.34     Medium  -9812.34 -1804.66     USA  -321.57   \n",
       "7  ... -70.82    7  4923.96       High -10460.30 -2170.87      UK  -534.01   \n",
       "8  ... -57.37    4  2066.45        Low -10639.94 -2008.04      UK  -380.78   \n",
       "9  ... -96.56    3  3596.15       High  -7238.00 -2234.71     USA  -542.93   \n",
       "\n",
       "     F34  Target  \n",
       "0   4.59  296.76  \n",
       "1   2.43  484.06  \n",
       "2   8.85  123.29  \n",
       "3  12.39   -8.93  \n",
       "4   8.46   68.28  \n",
       "5   3.90  119.74  \n",
       "6  14.70   76.07  \n",
       "7  25.53  255.06  \n",
       "8  21.72  106.84  \n",
       "9   9.00   -8.93  \n",
       "\n",
       "[10 rows x 35 columns]"
      ]
     },
     "execution_count": 4,
     "metadata": {},
     "output_type": "execute_result"
    }
   ],
   "source": [
    "diabetes_file.head(10)"
   ]
  },
  {
   "cell_type": "code",
   "execution_count": 5,
   "metadata": {},
   "outputs": [
    {
     "data": {
      "text/plain": [
       "(1400, 35)"
      ]
     },
     "execution_count": 5,
     "metadata": {},
     "output_type": "execute_result"
    }
   ],
   "source": [
    "diabetes_file.shape"
   ]
  },
  {
   "cell_type": "code",
   "execution_count": 6,
   "metadata": {},
   "outputs": [
    {
     "name": "stdout",
     "output_type": "stream",
     "text": [
      "<class 'pandas.core.frame.DataFrame'>\n",
      "RangeIndex: 1400 entries, 0 to 1399\n",
      "Data columns (total 35 columns):\n",
      " #   Column  Non-Null Count  Dtype  \n",
      "---  ------  --------------  -----  \n",
      " 0   F1      1400 non-null   float64\n",
      " 1   F2      1400 non-null   float64\n",
      " 2   F3      1400 non-null   float64\n",
      " 3   F4      1400 non-null   float64\n",
      " 4   F5      1400 non-null   float64\n",
      " 5   F6      1400 non-null   float64\n",
      " 6   F7      1400 non-null   float64\n",
      " 7   F8      1400 non-null   float64\n",
      " 8   F9      1400 non-null   float64\n",
      " 9   F10     1400 non-null   float64\n",
      " 10  F11     1400 non-null   float64\n",
      " 11  F12     1400 non-null   float64\n",
      " 12  F13     1400 non-null   float64\n",
      " 13  F14     1400 non-null   float64\n",
      " 14  F15     1400 non-null   float64\n",
      " 15  F16     1400 non-null   float64\n",
      " 16  F17     1400 non-null   float64\n",
      " 17  F18     1400 non-null   float64\n",
      " 18  F19     1400 non-null   float64\n",
      " 19  F20     1400 non-null   float64\n",
      " 20  F21     1400 non-null   float64\n",
      " 21  F22     1400 non-null   float64\n",
      " 22  F23     1400 non-null   int64  \n",
      " 23  F24     1400 non-null   float64\n",
      " 24  F25     1400 non-null   float64\n",
      " 25  F26     1400 non-null   float64\n",
      " 26  F27     1400 non-null   int64  \n",
      " 27  F28     1400 non-null   float64\n",
      " 28  F29     1400 non-null   object \n",
      " 29  F30     1400 non-null   float64\n",
      " 30  F31     1400 non-null   float64\n",
      " 31  F32     1400 non-null   object \n",
      " 32  F33     1400 non-null   float64\n",
      " 33  F34     1400 non-null   float64\n",
      " 34  Target  1400 non-null   float64\n",
      "dtypes: float64(31), int64(2), object(2)\n",
      "memory usage: 382.9+ KB\n"
     ]
    }
   ],
   "source": [
    "diabetes_file.info()"
   ]
  },
  {
   "attachments": {},
   "cell_type": "markdown",
   "metadata": {},
   "source": [
    "From above information it is noted that:\n",
    "1. Columns F29 and F32 are categorical values\n",
    "2. The rest of the columns are  numerical"
   ]
  },
  {
   "cell_type": "code",
   "execution_count": 7,
   "metadata": {},
   "outputs": [
    {
     "data": {
      "text/plain": [
       "0"
      ]
     },
     "execution_count": 7,
     "metadata": {},
     "output_type": "execute_result"
    }
   ],
   "source": [
    "diabetes_file.duplicated().sum()"
   ]
  },
  {
   "cell_type": "code",
   "execution_count": 8,
   "metadata": {},
   "outputs": [
    {
     "data": {
      "text/html": [
       "<div>\n",
       "<style scoped>\n",
       "    .dataframe tbody tr th:only-of-type {\n",
       "        vertical-align: middle;\n",
       "    }\n",
       "\n",
       "    .dataframe tbody tr th {\n",
       "        vertical-align: top;\n",
       "    }\n",
       "\n",
       "    .dataframe thead th {\n",
       "        text-align: right;\n",
       "    }\n",
       "</style>\n",
       "<table border=\"1\" class=\"dataframe\">\n",
       "  <thead>\n",
       "    <tr style=\"text-align: right;\">\n",
       "      <th></th>\n",
       "      <th>count</th>\n",
       "      <th>mean</th>\n",
       "      <th>std</th>\n",
       "      <th>min</th>\n",
       "      <th>25%</th>\n",
       "      <th>50%</th>\n",
       "      <th>75%</th>\n",
       "      <th>max</th>\n",
       "    </tr>\n",
       "  </thead>\n",
       "  <tbody>\n",
       "    <tr>\n",
       "      <th>F1</th>\n",
       "      <td>1400.0</td>\n",
       "      <td>10.815971</td>\n",
       "      <td>8.620017</td>\n",
       "      <td>-36.26</td>\n",
       "      <td>6.7300</td>\n",
       "      <td>10.860</td>\n",
       "      <td>14.9500</td>\n",
       "      <td>55.70</td>\n",
       "    </tr>\n",
       "    <tr>\n",
       "      <th>F2</th>\n",
       "      <td>1400.0</td>\n",
       "      <td>34.895929</td>\n",
       "      <td>8.638747</td>\n",
       "      <td>-5.86</td>\n",
       "      <td>30.5400</td>\n",
       "      <td>34.810</td>\n",
       "      <td>39.0900</td>\n",
       "      <td>87.86</td>\n",
       "    </tr>\n",
       "    <tr>\n",
       "      <th>F3</th>\n",
       "      <td>1400.0</td>\n",
       "      <td>21.734114</td>\n",
       "      <td>8.230342</td>\n",
       "      <td>-33.66</td>\n",
       "      <td>17.4550</td>\n",
       "      <td>21.720</td>\n",
       "      <td>25.5450</td>\n",
       "      <td>53.82</td>\n",
       "    </tr>\n",
       "    <tr>\n",
       "      <th>F4</th>\n",
       "      <td>1400.0</td>\n",
       "      <td>3409.494514</td>\n",
       "      <td>874.972405</td>\n",
       "      <td>511.23</td>\n",
       "      <td>2811.2850</td>\n",
       "      <td>3399.405</td>\n",
       "      <td>3997.1700</td>\n",
       "      <td>6366.18</td>\n",
       "    </tr>\n",
       "    <tr>\n",
       "      <th>F5</th>\n",
       "      <td>1400.0</td>\n",
       "      <td>-0.289907</td>\n",
       "      <td>4.304120</td>\n",
       "      <td>-36.62</td>\n",
       "      <td>-2.3100</td>\n",
       "      <td>-0.210</td>\n",
       "      <td>1.7725</td>\n",
       "      <td>18.91</td>\n",
       "    </tr>\n",
       "    <tr>\n",
       "      <th>F6</th>\n",
       "      <td>1400.0</td>\n",
       "      <td>46.915914</td>\n",
       "      <td>59.844389</td>\n",
       "      <td>-164.52</td>\n",
       "      <td>8.4550</td>\n",
       "      <td>47.580</td>\n",
       "      <td>86.9600</td>\n",
       "      <td>251.22</td>\n",
       "    </tr>\n",
       "    <tr>\n",
       "      <th>F7</th>\n",
       "      <td>1400.0</td>\n",
       "      <td>-1.454379</td>\n",
       "      <td>44.036834</td>\n",
       "      <td>-193.86</td>\n",
       "      <td>-23.6425</td>\n",
       "      <td>-1.375</td>\n",
       "      <td>19.1350</td>\n",
       "      <td>227.43</td>\n",
       "    </tr>\n",
       "    <tr>\n",
       "      <th>F8</th>\n",
       "      <td>1400.0</td>\n",
       "      <td>-3412.387457</td>\n",
       "      <td>881.199575</td>\n",
       "      <td>-6677.61</td>\n",
       "      <td>-4012.7250</td>\n",
       "      <td>-3402.630</td>\n",
       "      <td>-2807.2425</td>\n",
       "      <td>-772.17</td>\n",
       "    </tr>\n",
       "    <tr>\n",
       "      <th>F9</th>\n",
       "      <td>1400.0</td>\n",
       "      <td>-14.330593</td>\n",
       "      <td>8.822352</td>\n",
       "      <td>-43.44</td>\n",
       "      <td>-20.1600</td>\n",
       "      <td>-13.905</td>\n",
       "      <td>-8.5500</td>\n",
       "      <td>13.14</td>\n",
       "    </tr>\n",
       "    <tr>\n",
       "      <th>F10</th>\n",
       "      <td>1400.0</td>\n",
       "      <td>899.903400</td>\n",
       "      <td>300.542318</td>\n",
       "      <td>-69.91</td>\n",
       "      <td>695.9400</td>\n",
       "      <td>888.685</td>\n",
       "      <td>1106.7650</td>\n",
       "      <td>1855.95</td>\n",
       "    </tr>\n",
       "    <tr>\n",
       "      <th>F11</th>\n",
       "      <td>1400.0</td>\n",
       "      <td>102.147150</td>\n",
       "      <td>91.500104</td>\n",
       "      <td>-180.30</td>\n",
       "      <td>39.6300</td>\n",
       "      <td>101.955</td>\n",
       "      <td>166.6275</td>\n",
       "      <td>394.95</td>\n",
       "    </tr>\n",
       "    <tr>\n",
       "      <th>F12</th>\n",
       "      <td>1400.0</td>\n",
       "      <td>-90.917664</td>\n",
       "      <td>44.715871</td>\n",
       "      <td>-332.92</td>\n",
       "      <td>-111.6100</td>\n",
       "      <td>-90.260</td>\n",
       "      <td>-69.0925</td>\n",
       "      <td>150.42</td>\n",
       "    </tr>\n",
       "    <tr>\n",
       "      <th>F13</th>\n",
       "      <td>1400.0</td>\n",
       "      <td>-72.867793</td>\n",
       "      <td>12.419849</td>\n",
       "      <td>-142.53</td>\n",
       "      <td>-79.0275</td>\n",
       "      <td>-72.870</td>\n",
       "      <td>-66.7200</td>\n",
       "      <td>-14.67</td>\n",
       "    </tr>\n",
       "    <tr>\n",
       "      <th>F14</th>\n",
       "      <td>1400.0</td>\n",
       "      <td>-2406.857850</td>\n",
       "      <td>932.217719</td>\n",
       "      <td>-6141.81</td>\n",
       "      <td>-3023.2800</td>\n",
       "      <td>-2405.490</td>\n",
       "      <td>-1756.8900</td>\n",
       "      <td>285.15</td>\n",
       "    </tr>\n",
       "    <tr>\n",
       "      <th>F15</th>\n",
       "      <td>1400.0</td>\n",
       "      <td>6.452464</td>\n",
       "      <td>9.185636</td>\n",
       "      <td>-30.24</td>\n",
       "      <td>0.0300</td>\n",
       "      <td>6.600</td>\n",
       "      <td>12.8475</td>\n",
       "      <td>33.72</td>\n",
       "    </tr>\n",
       "    <tr>\n",
       "      <th>F16</th>\n",
       "      <td>1400.0</td>\n",
       "      <td>23170.138414</td>\n",
       "      <td>11982.088326</td>\n",
       "      <td>-24719.31</td>\n",
       "      <td>17435.7525</td>\n",
       "      <td>23123.520</td>\n",
       "      <td>29170.6500</td>\n",
       "      <td>70354.38</td>\n",
       "    </tr>\n",
       "    <tr>\n",
       "      <th>F17</th>\n",
       "      <td>1400.0</td>\n",
       "      <td>310.572664</td>\n",
       "      <td>304.770992</td>\n",
       "      <td>-598.63</td>\n",
       "      <td>104.6300</td>\n",
       "      <td>307.065</td>\n",
       "      <td>507.8150</td>\n",
       "      <td>1504.96</td>\n",
       "    </tr>\n",
       "    <tr>\n",
       "      <th>F18</th>\n",
       "      <td>1400.0</td>\n",
       "      <td>313.764514</td>\n",
       "      <td>4541.146547</td>\n",
       "      <td>0.00</td>\n",
       "      <td>0.3900</td>\n",
       "      <td>3.000</td>\n",
       "      <td>20.8350</td>\n",
       "      <td>131174.64</td>\n",
       "    </tr>\n",
       "    <tr>\n",
       "      <th>F19</th>\n",
       "      <td>1400.0</td>\n",
       "      <td>7.983271</td>\n",
       "      <td>5.633110</td>\n",
       "      <td>0.10</td>\n",
       "      <td>3.7950</td>\n",
       "      <td>6.640</td>\n",
       "      <td>10.8650</td>\n",
       "      <td>34.68</td>\n",
       "    </tr>\n",
       "    <tr>\n",
       "      <th>F20</th>\n",
       "      <td>1400.0</td>\n",
       "      <td>-88.186979</td>\n",
       "      <td>29.839187</td>\n",
       "      <td>-190.67</td>\n",
       "      <td>-108.1125</td>\n",
       "      <td>-87.760</td>\n",
       "      <td>-68.4825</td>\n",
       "      <td>11.59</td>\n",
       "    </tr>\n",
       "    <tr>\n",
       "      <th>F21</th>\n",
       "      <td>1400.0</td>\n",
       "      <td>2891.293986</td>\n",
       "      <td>868.508078</td>\n",
       "      <td>-2139.62</td>\n",
       "      <td>2474.5500</td>\n",
       "      <td>2904.110</td>\n",
       "      <td>3327.4450</td>\n",
       "      <td>7099.44</td>\n",
       "    </tr>\n",
       "    <tr>\n",
       "      <th>F22</th>\n",
       "      <td>1400.0</td>\n",
       "      <td>2356.812343</td>\n",
       "      <td>827.356749</td>\n",
       "      <td>-1788.84</td>\n",
       "      <td>1943.7200</td>\n",
       "      <td>2348.040</td>\n",
       "      <td>2776.8400</td>\n",
       "      <td>6296.78</td>\n",
       "    </tr>\n",
       "    <tr>\n",
       "      <th>F23</th>\n",
       "      <td>1400.0</td>\n",
       "      <td>8.012857</td>\n",
       "      <td>3.652896</td>\n",
       "      <td>0.00</td>\n",
       "      <td>6.0000</td>\n",
       "      <td>8.000</td>\n",
       "      <td>10.0000</td>\n",
       "      <td>22.00</td>\n",
       "    </tr>\n",
       "    <tr>\n",
       "      <th>F24</th>\n",
       "      <td>1400.0</td>\n",
       "      <td>23.357457</td>\n",
       "      <td>7.943938</td>\n",
       "      <td>-7.00</td>\n",
       "      <td>19.2600</td>\n",
       "      <td>23.460</td>\n",
       "      <td>27.7000</td>\n",
       "      <td>61.74</td>\n",
       "    </tr>\n",
       "    <tr>\n",
       "      <th>F25</th>\n",
       "      <td>1400.0</td>\n",
       "      <td>-2259.963871</td>\n",
       "      <td>605.032845</td>\n",
       "      <td>-4493.36</td>\n",
       "      <td>-2661.1400</td>\n",
       "      <td>-2259.810</td>\n",
       "      <td>-1851.8400</td>\n",
       "      <td>380.34</td>\n",
       "    </tr>\n",
       "    <tr>\n",
       "      <th>F26</th>\n",
       "      <td>1400.0</td>\n",
       "      <td>-72.337129</td>\n",
       "      <td>30.591408</td>\n",
       "      <td>-169.55</td>\n",
       "      <td>-93.5000</td>\n",
       "      <td>-72.175</td>\n",
       "      <td>-52.3625</td>\n",
       "      <td>31.54</td>\n",
       "    </tr>\n",
       "    <tr>\n",
       "      <th>F27</th>\n",
       "      <td>1400.0</td>\n",
       "      <td>4.077143</td>\n",
       "      <td>1.797001</td>\n",
       "      <td>0.00</td>\n",
       "      <td>3.0000</td>\n",
       "      <td>4.000</td>\n",
       "      <td>5.0000</td>\n",
       "      <td>11.00</td>\n",
       "    </tr>\n",
       "    <tr>\n",
       "      <th>F28</th>\n",
       "      <td>1400.0</td>\n",
       "      <td>2229.788621</td>\n",
       "      <td>2995.345402</td>\n",
       "      <td>-8647.02</td>\n",
       "      <td>251.9350</td>\n",
       "      <td>2264.125</td>\n",
       "      <td>4323.0525</td>\n",
       "      <td>12228.69</td>\n",
       "    </tr>\n",
       "    <tr>\n",
       "      <th>F30</th>\n",
       "      <td>1400.0</td>\n",
       "      <td>-6513.073157</td>\n",
       "      <td>5932.650871</td>\n",
       "      <td>-25593.90</td>\n",
       "      <td>-10610.0900</td>\n",
       "      <td>-6619.680</td>\n",
       "      <td>-2420.1200</td>\n",
       "      <td>11198.80</td>\n",
       "    </tr>\n",
       "    <tr>\n",
       "      <th>F31</th>\n",
       "      <td>1400.0</td>\n",
       "      <td>-2189.156229</td>\n",
       "      <td>423.511145</td>\n",
       "      <td>-4475.52</td>\n",
       "      <td>-2408.4600</td>\n",
       "      <td>-2192.005</td>\n",
       "      <td>-1973.0400</td>\n",
       "      <td>346.93</td>\n",
       "    </tr>\n",
       "    <tr>\n",
       "      <th>F33</th>\n",
       "      <td>1400.0</td>\n",
       "      <td>-618.271186</td>\n",
       "      <td>299.882866</td>\n",
       "      <td>-1567.10</td>\n",
       "      <td>-808.8725</td>\n",
       "      <td>-611.795</td>\n",
       "      <td>-414.7525</td>\n",
       "      <td>389.71</td>\n",
       "    </tr>\n",
       "    <tr>\n",
       "      <th>F34</th>\n",
       "      <td>1400.0</td>\n",
       "      <td>11.865429</td>\n",
       "      <td>8.564316</td>\n",
       "      <td>0.09</td>\n",
       "      <td>5.6700</td>\n",
       "      <td>9.840</td>\n",
       "      <td>15.8475</td>\n",
       "      <td>66.81</td>\n",
       "    </tr>\n",
       "    <tr>\n",
       "      <th>Target</th>\n",
       "      <td>1400.0</td>\n",
       "      <td>181.948593</td>\n",
       "      <td>207.330137</td>\n",
       "      <td>-8.93</td>\n",
       "      <td>-8.9300</td>\n",
       "      <td>114.145</td>\n",
       "      <td>300.2725</td>\n",
       "      <td>750.78</td>\n",
       "    </tr>\n",
       "  </tbody>\n",
       "</table>\n",
       "</div>"
      ],
      "text/plain": [
       "         count          mean           std       min         25%        50%  \\\n",
       "F1      1400.0     10.815971      8.620017    -36.26      6.7300     10.860   \n",
       "F2      1400.0     34.895929      8.638747     -5.86     30.5400     34.810   \n",
       "F3      1400.0     21.734114      8.230342    -33.66     17.4550     21.720   \n",
       "F4      1400.0   3409.494514    874.972405    511.23   2811.2850   3399.405   \n",
       "F5      1400.0     -0.289907      4.304120    -36.62     -2.3100     -0.210   \n",
       "F6      1400.0     46.915914     59.844389   -164.52      8.4550     47.580   \n",
       "F7      1400.0     -1.454379     44.036834   -193.86    -23.6425     -1.375   \n",
       "F8      1400.0  -3412.387457    881.199575  -6677.61  -4012.7250  -3402.630   \n",
       "F9      1400.0    -14.330593      8.822352    -43.44    -20.1600    -13.905   \n",
       "F10     1400.0    899.903400    300.542318    -69.91    695.9400    888.685   \n",
       "F11     1400.0    102.147150     91.500104   -180.30     39.6300    101.955   \n",
       "F12     1400.0    -90.917664     44.715871   -332.92   -111.6100    -90.260   \n",
       "F13     1400.0    -72.867793     12.419849   -142.53    -79.0275    -72.870   \n",
       "F14     1400.0  -2406.857850    932.217719  -6141.81  -3023.2800  -2405.490   \n",
       "F15     1400.0      6.452464      9.185636    -30.24      0.0300      6.600   \n",
       "F16     1400.0  23170.138414  11982.088326 -24719.31  17435.7525  23123.520   \n",
       "F17     1400.0    310.572664    304.770992   -598.63    104.6300    307.065   \n",
       "F18     1400.0    313.764514   4541.146547      0.00      0.3900      3.000   \n",
       "F19     1400.0      7.983271      5.633110      0.10      3.7950      6.640   \n",
       "F20     1400.0    -88.186979     29.839187   -190.67   -108.1125    -87.760   \n",
       "F21     1400.0   2891.293986    868.508078  -2139.62   2474.5500   2904.110   \n",
       "F22     1400.0   2356.812343    827.356749  -1788.84   1943.7200   2348.040   \n",
       "F23     1400.0      8.012857      3.652896      0.00      6.0000      8.000   \n",
       "F24     1400.0     23.357457      7.943938     -7.00     19.2600     23.460   \n",
       "F25     1400.0  -2259.963871    605.032845  -4493.36  -2661.1400  -2259.810   \n",
       "F26     1400.0    -72.337129     30.591408   -169.55    -93.5000    -72.175   \n",
       "F27     1400.0      4.077143      1.797001      0.00      3.0000      4.000   \n",
       "F28     1400.0   2229.788621   2995.345402  -8647.02    251.9350   2264.125   \n",
       "F30     1400.0  -6513.073157   5932.650871 -25593.90 -10610.0900  -6619.680   \n",
       "F31     1400.0  -2189.156229    423.511145  -4475.52  -2408.4600  -2192.005   \n",
       "F33     1400.0   -618.271186    299.882866  -1567.10   -808.8725   -611.795   \n",
       "F34     1400.0     11.865429      8.564316      0.09      5.6700      9.840   \n",
       "Target  1400.0    181.948593    207.330137     -8.93     -8.9300    114.145   \n",
       "\n",
       "               75%        max  \n",
       "F1         14.9500      55.70  \n",
       "F2         39.0900      87.86  \n",
       "F3         25.5450      53.82  \n",
       "F4       3997.1700    6366.18  \n",
       "F5          1.7725      18.91  \n",
       "F6         86.9600     251.22  \n",
       "F7         19.1350     227.43  \n",
       "F8      -2807.2425    -772.17  \n",
       "F9         -8.5500      13.14  \n",
       "F10      1106.7650    1855.95  \n",
       "F11       166.6275     394.95  \n",
       "F12       -69.0925     150.42  \n",
       "F13       -66.7200     -14.67  \n",
       "F14     -1756.8900     285.15  \n",
       "F15        12.8475      33.72  \n",
       "F16     29170.6500   70354.38  \n",
       "F17       507.8150    1504.96  \n",
       "F18        20.8350  131174.64  \n",
       "F19        10.8650      34.68  \n",
       "F20       -68.4825      11.59  \n",
       "F21      3327.4450    7099.44  \n",
       "F22      2776.8400    6296.78  \n",
       "F23        10.0000      22.00  \n",
       "F24        27.7000      61.74  \n",
       "F25     -1851.8400     380.34  \n",
       "F26       -52.3625      31.54  \n",
       "F27         5.0000      11.00  \n",
       "F28      4323.0525   12228.69  \n",
       "F30     -2420.1200   11198.80  \n",
       "F31     -1973.0400     346.93  \n",
       "F33      -414.7525     389.71  \n",
       "F34        15.8475      66.81  \n",
       "Target    300.2725     750.78  "
      ]
     },
     "execution_count": 8,
     "metadata": {},
     "output_type": "execute_result"
    }
   ],
   "source": [
    "diabetes_file.describe().T"
   ]
  },
  {
   "cell_type": "code",
   "execution_count": 9,
   "metadata": {},
   "outputs": [
    {
     "data": {
      "text/plain": [
       "F1        0\n",
       "F2        0\n",
       "F3        0\n",
       "F4        0\n",
       "F5        0\n",
       "F6        0\n",
       "F7        0\n",
       "F8        0\n",
       "F9        0\n",
       "F10       0\n",
       "F11       0\n",
       "F12       0\n",
       "F13       0\n",
       "F14       0\n",
       "F15       0\n",
       "F16       0\n",
       "F17       0\n",
       "F18       0\n",
       "F19       0\n",
       "F20       0\n",
       "F21       0\n",
       "F22       0\n",
       "F23       0\n",
       "F24       0\n",
       "F25       0\n",
       "F26       0\n",
       "F27       0\n",
       "F28       0\n",
       "F29       0\n",
       "F30       0\n",
       "F31       0\n",
       "F32       0\n",
       "F33       0\n",
       "F34       0\n",
       "Target    0\n",
       "dtype: int64"
      ]
     },
     "execution_count": 9,
     "metadata": {},
     "output_type": "execute_result"
    }
   ],
   "source": [
    "diabetes_file.isnull().sum()"
   ]
  },
  {
   "attachments": {},
   "cell_type": "markdown",
   "metadata": {},
   "source": [
    "There are no null values present in the file "
   ]
  },
  {
   "cell_type": "code",
   "execution_count": 10,
   "metadata": {},
   "outputs": [
    {
     "data": {
      "text/plain": [
       "<AxesSubplot:>"
      ]
     },
     "execution_count": 10,
     "metadata": {},
     "output_type": "execute_result"
    },
    {
     "data": {
      "image/png": "[encoded data removed]",
      "text/plain": [
       "<Figure size 2500x1000 with 3 Axes>"
      ]
     },
     "metadata": {},
     "output_type": "display_data"
    }
   ],
   "source": [
    "msno.bar(diabetes_file, color=(92/255, 128/255, 188/255))"
   ]
  },
  {
   "attachments": {},
   "cell_type": "markdown",
   "metadata": {},
   "source": [
    "<h3> Creating a heatmap to find the correlation between attributes. </h3>"
   ]
  },
  {
   "cell_type": "code",
   "execution_count": 11,
   "metadata": {},
   "outputs": [
    {
     "data": {
      "image/png": "[encoded data removed]",
      "text/plain": [
       "<Figure size 640x480 with 2 Axes>"
      ]
     },
     "metadata": {},
     "output_type": "display_data"
    }
   ],
   "source": [
    "corr = diabetes_file.corr()\n",
    "sns.heatmap(corr, annot=False, cmap=\"Blues\")\n",
    "plt.show()"
   ]
  },
  {
   "attachments": {},
   "cell_type": "markdown",
   "metadata": {},
   "source": [
    "<h3> Using OneHotEncoder to convert the categorical values of columns F29 and F32 into numerical data. </h3>"
   ]
  },
  {
   "cell_type": "code",
   "execution_count": 12,
   "metadata": {},
   "outputs": [
    {
     "data": {
      "text/plain": [
       "OneHotEncoder(handle_unknown='ignore', sparse=False)"
      ]
     },
     "execution_count": 12,
     "metadata": {},
     "output_type": "execute_result"
    }
   ],
   "source": [
    "encoder = OneHotEncoder(categories='auto', sparse=False, handle_unknown='ignore')\n",
    "encoder.fit(diabetes_file[['F29', 'F32']])"
   ]
  },
  {
   "attachments": {},
   "cell_type": "markdown",
   "metadata": {},
   "source": [
    "<h3> Passing the encoded columns into the Diabetes File </h3>"
   ]
  },
  {
   "cell_type": "code",
   "execution_count": 13,
   "metadata": {},
   "outputs": [],
   "source": [
    "encoded_data = encoder.transform(diabetes_file[['F29', 'F32']])"
   ]
  },
  {
   "cell_type": "code",
   "execution_count": 14,
   "metadata": {},
   "outputs": [],
   "source": [
    "encode_diabetes_file = pd.DataFrame(encoded_data, columns=encoder.get_feature_names_out(['F29', 'F32']))\n"
   ]
  },
  {
   "cell_type": "code",
   "execution_count": 15,
   "metadata": {},
   "outputs": [],
   "source": [
    "new_diabetes_file = pd.concat([diabetes_file, encode_diabetes_file], axis=1)"
   ]
  },
  {
   "attachments": {},
   "cell_type": "markdown",
   "metadata": {},
   "source": [
    "<h3> Checking the encoded columns </h3>"
   ]
  },
  {
   "cell_type": "code",
   "execution_count": 16,
   "metadata": {},
   "outputs": [
    {
     "data": {
      "text/html": [
       "<div>\n",
       "<style scoped>\n",
       "    .dataframe tbody tr th:only-of-type {\n",
       "        vertical-align: middle;\n",
       "    }\n",
       "\n",
       "    .dataframe tbody tr th {\n",
       "        vertical-align: top;\n",
       "    }\n",
       "\n",
       "    .dataframe thead th {\n",
       "        text-align: right;\n",
       "    }\n",
       "</style>\n",
       "<table border=\"1\" class=\"dataframe\">\n",
       "  <thead>\n",
       "    <tr style=\"text-align: right;\">\n",
       "      <th></th>\n",
       "      <th>F1</th>\n",
       "      <th>F2</th>\n",
       "      <th>F3</th>\n",
       "      <th>F4</th>\n",
       "      <th>F5</th>\n",
       "      <th>F6</th>\n",
       "      <th>F7</th>\n",
       "      <th>F8</th>\n",
       "      <th>F9</th>\n",
       "      <th>F10</th>\n",
       "      <th>...</th>\n",
       "      <th>Target</th>\n",
       "      <th>F29_High</th>\n",
       "      <th>F29_Low</th>\n",
       "      <th>F29_Medium</th>\n",
       "      <th>F29_Very high</th>\n",
       "      <th>F29_Very low</th>\n",
       "      <th>F32_Europe</th>\n",
       "      <th>F32_Rest</th>\n",
       "      <th>F32_UK</th>\n",
       "      <th>F32_USA</th>\n",
       "    </tr>\n",
       "  </thead>\n",
       "  <tbody>\n",
       "    <tr>\n",
       "      <th>0</th>\n",
       "      <td>9.18</td>\n",
       "      <td>35.98</td>\n",
       "      <td>21.36</td>\n",
       "      <td>4520.91</td>\n",
       "      <td>1.25</td>\n",
       "      <td>-40.80</td>\n",
       "      <td>12.82</td>\n",
       "      <td>-2169.72</td>\n",
       "      <td>-15.03</td>\n",
       "      <td>996.53</td>\n",
       "      <td>...</td>\n",
       "      <td>296.76</td>\n",
       "      <td>0.0</td>\n",
       "      <td>1.0</td>\n",
       "      <td>0.0</td>\n",
       "      <td>0.0</td>\n",
       "      <td>0.0</td>\n",
       "      <td>0.0</td>\n",
       "      <td>1.0</td>\n",
       "      <td>0.0</td>\n",
       "      <td>0.0</td>\n",
       "    </tr>\n",
       "    <tr>\n",
       "      <th>1</th>\n",
       "      <td>5.94</td>\n",
       "      <td>35.28</td>\n",
       "      <td>28.02</td>\n",
       "      <td>2403.84</td>\n",
       "      <td>2.46</td>\n",
       "      <td>-16.62</td>\n",
       "      <td>23.32</td>\n",
       "      <td>-4013.31</td>\n",
       "      <td>-16.17</td>\n",
       "      <td>1042.66</td>\n",
       "      <td>...</td>\n",
       "      <td>484.06</td>\n",
       "      <td>0.0</td>\n",
       "      <td>0.0</td>\n",
       "      <td>0.0</td>\n",
       "      <td>1.0</td>\n",
       "      <td>0.0</td>\n",
       "      <td>1.0</td>\n",
       "      <td>0.0</td>\n",
       "      <td>0.0</td>\n",
       "      <td>0.0</td>\n",
       "    </tr>\n",
       "    <tr>\n",
       "      <th>2</th>\n",
       "      <td>2.70</td>\n",
       "      <td>36.02</td>\n",
       "      <td>5.06</td>\n",
       "      <td>4452.39</td>\n",
       "      <td>-1.20</td>\n",
       "      <td>28.38</td>\n",
       "      <td>7.26</td>\n",
       "      <td>-4518.75</td>\n",
       "      <td>4.14</td>\n",
       "      <td>1223.95</td>\n",
       "      <td>...</td>\n",
       "      <td>123.29</td>\n",
       "      <td>0.0</td>\n",
       "      <td>0.0</td>\n",
       "      <td>0.0</td>\n",
       "      <td>0.0</td>\n",
       "      <td>1.0</td>\n",
       "      <td>0.0</td>\n",
       "      <td>0.0</td>\n",
       "      <td>1.0</td>\n",
       "      <td>0.0</td>\n",
       "    </tr>\n",
       "    <tr>\n",
       "      <th>3</th>\n",
       "      <td>11.12</td>\n",
       "      <td>23.08</td>\n",
       "      <td>24.54</td>\n",
       "      <td>3280.86</td>\n",
       "      <td>0.48</td>\n",
       "      <td>60.82</td>\n",
       "      <td>44.08</td>\n",
       "      <td>-5065.47</td>\n",
       "      <td>-26.67</td>\n",
       "      <td>1482.16</td>\n",
       "      <td>...</td>\n",
       "      <td>-8.93</td>\n",
       "      <td>0.0</td>\n",
       "      <td>0.0</td>\n",
       "      <td>0.0</td>\n",
       "      <td>0.0</td>\n",
       "      <td>1.0</td>\n",
       "      <td>1.0</td>\n",
       "      <td>0.0</td>\n",
       "      <td>0.0</td>\n",
       "      <td>0.0</td>\n",
       "    </tr>\n",
       "    <tr>\n",
       "      <th>4</th>\n",
       "      <td>7.78</td>\n",
       "      <td>27.62</td>\n",
       "      <td>21.70</td>\n",
       "      <td>2337.15</td>\n",
       "      <td>0.08</td>\n",
       "      <td>62.42</td>\n",
       "      <td>-39.02</td>\n",
       "      <td>-4555.65</td>\n",
       "      <td>-3.48</td>\n",
       "      <td>811.52</td>\n",
       "      <td>...</td>\n",
       "      <td>68.28</td>\n",
       "      <td>0.0</td>\n",
       "      <td>0.0</td>\n",
       "      <td>0.0</td>\n",
       "      <td>1.0</td>\n",
       "      <td>0.0</td>\n",
       "      <td>0.0</td>\n",
       "      <td>0.0</td>\n",
       "      <td>0.0</td>\n",
       "      <td>1.0</td>\n",
       "    </tr>\n",
       "  </tbody>\n",
       "</table>\n",
       "<p>5 rows × 44 columns</p>\n",
       "</div>"
      ],
      "text/plain": [
       "      F1     F2     F3       F4    F5     F6     F7       F8     F9      F10  \\\n",
       "0   9.18  35.98  21.36  4520.91  1.25 -40.80  12.82 -2169.72 -15.03   996.53   \n",
       "1   5.94  35.28  28.02  2403.84  2.46 -16.62  23.32 -4013.31 -16.17  1042.66   \n",
       "2   2.70  36.02   5.06  4452.39 -1.20  28.38   7.26 -4518.75   4.14  1223.95   \n",
       "3  11.12  23.08  24.54  3280.86  0.48  60.82  44.08 -5065.47 -26.67  1482.16   \n",
       "4   7.78  27.62  21.70  2337.15  0.08  62.42 -39.02 -4555.65  -3.48   811.52   \n",
       "\n",
       "   ...  Target  F29_High  F29_Low  F29_Medium  F29_Very high  F29_Very low  \\\n",
       "0  ...  296.76       0.0      1.0         0.0            0.0           0.0   \n",
       "1  ...  484.06       0.0      0.0         0.0            1.0           0.0   \n",
       "2  ...  123.29       0.0      0.0         0.0            0.0           1.0   \n",
       "3  ...   -8.93       0.0      0.0         0.0            0.0           1.0   \n",
       "4  ...   68.28       0.0      0.0         0.0            1.0           0.0   \n",
       "\n",
       "   F32_Europe  F32_Rest  F32_UK  F32_USA  \n",
       "0         0.0       1.0     0.0      0.0  \n",
       "1         1.0       0.0     0.0      0.0  \n",
       "2         0.0       0.0     1.0      0.0  \n",
       "3         1.0       0.0     0.0      0.0  \n",
       "4         0.0       0.0     0.0      1.0  \n",
       "\n",
       "[5 rows x 44 columns]"
      ]
     },
     "execution_count": 16,
     "metadata": {},
     "output_type": "execute_result"
    }
   ],
   "source": [
    "new_diabetes_file.head()"
   ]
  },
  {
   "attachments": {},
   "cell_type": "markdown",
   "metadata": {},
   "source": [
    "Using ColumnTransformer as preprocessor for columns of Dataset and scaling using StandardScaler"
   ]
  },
  {
   "cell_type": "code",
   "execution_count": 17,
   "metadata": {},
   "outputs": [],
   "source": [
    "preprocessor = ColumnTransformer(transformers=[('num', StandardScaler(), ['F1', 'F2', 'F3', 'F4', 'F5', 'F6', 'F7', 'F8', 'F9', 'F10', 'F11', \n",
    "                                                                           'F12', 'F13', 'F14', 'F15', 'F16', 'F17', 'F18', 'F19', 'F20', 'F21', \n",
    "                                                                           'F22', 'F23', 'F24', 'F25', 'F26', 'F27', 'F28', 'F30', 'F31', 'F33', 'F34']), \n",
    "                                                 ('cat', encoder, ['F29', 'F32'])])"
   ]
  },
  {
   "attachments": {},
   "cell_type": "markdown",
   "metadata": {},
   "source": [
    "<h3> Identifying the features and target variable </h3>"
   ]
  },
  {
   "cell_type": "code",
   "execution_count": 18,
   "metadata": {},
   "outputs": [],
   "source": [
    "X = new_diabetes_file.drop(['Target'], axis=1)"
   ]
  },
  {
   "cell_type": "code",
   "execution_count": 19,
   "metadata": {},
   "outputs": [],
   "source": [
    "Y = diabetes_file['Target']"
   ]
  },
  {
   "cell_type": "code",
   "execution_count": 20,
   "metadata": {},
   "outputs": [
    {
     "name": "stdout",
     "output_type": "stream",
     "text": [
      "<class 'pandas.core.frame.DataFrame'>\n",
      "RangeIndex: 1400 entries, 0 to 1399\n",
      "Data columns (total 43 columns):\n",
      " #   Column         Non-Null Count  Dtype  \n",
      "---  ------         --------------  -----  \n",
      " 0   F1             1400 non-null   float64\n",
      " 1   F2             1400 non-null   float64\n",
      " 2   F3             1400 non-null   float64\n",
      " 3   F4             1400 non-null   float64\n",
      " 4   F5             1400 non-null   float64\n",
      " 5   F6             1400 non-null   float64\n",
      " 6   F7             1400 non-null   float64\n",
      " 7   F8             1400 non-null   float64\n",
      " 8   F9             1400 non-null   float64\n",
      " 9   F10            1400 non-null   float64\n",
      " 10  F11            1400 non-null   float64\n",
      " 11  F12            1400 non-null   float64\n",
      " 12  F13            1400 non-null   float64\n",
      " 13  F14            1400 non-null   float64\n",
      " 14  F15            1400 non-null   float64\n",
      " 15  F16            1400 non-null   float64\n",
      " 16  F17            1400 non-null   float64\n",
      " 17  F18            1400 non-null   float64\n",
      " 18  F19            1400 non-null   float64\n",
      " 19  F20            1400 non-null   float64\n",
      " 20  F21            1400 non-null   float64\n",
      " 21  F22            1400 non-null   float64\n",
      " 22  F23            1400 non-null   int64  \n",
      " 23  F24            1400 non-null   float64\n",
      " 24  F25            1400 non-null   float64\n",
      " 25  F26            1400 non-null   float64\n",
      " 26  F27            1400 non-null   int64  \n",
      " 27  F28            1400 non-null   float64\n",
      " 28  F29            1400 non-null   object \n",
      " 29  F30            1400 non-null   float64\n",
      " 30  F31            1400 non-null   float64\n",
      " 31  F32            1400 non-null   object \n",
      " 32  F33            1400 non-null   float64\n",
      " 33  F34            1400 non-null   float64\n",
      " 34  F29_High       1400 non-null   float64\n",
      " 35  F29_Low        1400 non-null   float64\n",
      " 36  F29_Medium     1400 non-null   float64\n",
      " 37  F29_Very high  1400 non-null   float64\n",
      " 38  F29_Very low   1400 non-null   float64\n",
      " 39  F32_Europe     1400 non-null   float64\n",
      " 40  F32_Rest       1400 non-null   float64\n",
      " 41  F32_UK         1400 non-null   float64\n",
      " 42  F32_USA        1400 non-null   float64\n",
      "dtypes: float64(39), int64(2), object(2)\n",
      "memory usage: 470.4+ KB\n"
     ]
    }
   ],
   "source": [
    "X.info()"
   ]
  },
  {
   "attachments": {},
   "cell_type": "markdown",
   "metadata": {},
   "source": [
    "<h3> Correaltion between X features </h3>"
   ]
  },
  {
   "cell_type": "code",
   "execution_count": 21,
   "metadata": {},
   "outputs": [
    {
     "data": {
      "image/png": "[encoded data removed]",
      "text/plain": [
       "<Figure size 640x480 with 2 Axes>"
      ]
     },
     "metadata": {},
     "output_type": "display_data"
    }
   ],
   "source": [
    "corr = X.corr()\n",
    "sns.heatmap(corr, annot=False, cmap=\"Blues\")\n",
    "plt.show()"
   ]
  },
  {
   "attachments": {},
   "cell_type": "markdown",
   "metadata": {},
   "source": [
    "<h3> Dataset split into train and test </h3>"
   ]
  },
  {
   "cell_type": "code",
   "execution_count": 22,
   "metadata": {},
   "outputs": [],
   "source": [
    "X_train, X_test, y_train, y_test = train_test_split(X, Y, test_size=0.2\n",
    "                                                    , random_state=42)"
   ]
  },
  {
   "attachments": {},
   "cell_type": "markdown",
   "metadata": {},
   "source": [
    "### Machine Learning Models used : \n",
    "* Linear Regression\n",
    "* Decision Tree Regressor\n",
    "* Gradient Boosting Regressor\n",
    "* Random Forest Regressor"
   ]
  },
  {
   "attachments": {},
   "cell_type": "markdown",
   "metadata": {},
   "source": [
    "<h3> Defining KFold for cross-validation of all the models </h3>"
   ]
  },
  {
   "cell_type": "code",
   "execution_count": 23,
   "metadata": {},
   "outputs": [],
   "source": [
    "kfold = KFold(n_splits=5, shuffle=True, random_state=50)"
   ]
  },
  {
   "attachments": {},
   "cell_type": "markdown",
   "metadata": {},
   "source": [
    "<h3>  Defining a pipeline for preprocessor and model Linear Regression </h3>"
   ]
  },
  {
   "cell_type": "code",
   "execution_count": 24,
   "metadata": {},
   "outputs": [],
   "source": [
    "lr_pipeline = Pipeline(steps=[('preprocessor', preprocessor),\n",
    "                           ('regressor', LinearRegression())])"
   ]
  },
  {
   "attachments": {},
   "cell_type": "markdown",
   "metadata": {},
   "source": [
    "<h3> Fit the pipeline with Train and Test set </h3>"
   ]
  },
  {
   "cell_type": "code",
   "execution_count": 25,
   "metadata": {},
   "outputs": [
    {
     "data": {
      "text/plain": [
       "Pipeline(steps=[('preprocessor',\n",
       "                 ColumnTransformer(transformers=[('num', StandardScaler(),\n",
       "                                                  ['F1', 'F2', 'F3', 'F4', 'F5',\n",
       "                                                   'F6', 'F7', 'F8', 'F9',\n",
       "                                                   'F10', 'F11', 'F12', 'F13',\n",
       "                                                   'F14', 'F15', 'F16', 'F17',\n",
       "                                                   'F18', 'F19', 'F20', 'F21',\n",
       "                                                   'F22', 'F23', 'F24', 'F25',\n",
       "                                                   'F26', 'F27', 'F28', 'F30',\n",
       "                                                   'F31', ...]),\n",
       "                                                 ('cat',\n",
       "                                                  OneHotEncoder(handle_unknown='ignore',\n",
       "                                                                sparse=False),\n",
       "                                                  ['F29', 'F32'])])),\n",
       "                ('regressor', LinearRegression())])"
      ]
     },
     "execution_count": 25,
     "metadata": {},
     "output_type": "execute_result"
    }
   ],
   "source": [
    "lr_pipeline.fit(X_train, y_train)"
   ]
  },
  {
   "attachments": {},
   "cell_type": "markdown",
   "metadata": {},
   "source": [
    "<h3> Training and Evaluating Model</h3>"
   ]
  },
  {
   "cell_type": "code",
   "execution_count": 26,
   "metadata": {},
   "outputs": [
    {
     "data": {
      "text/plain": [
       "74.46520361182621"
      ]
     },
     "execution_count": 26,
     "metadata": {},
     "output_type": "execute_result"
    }
   ],
   "source": [
    "lr_y_pred = lr_pipeline.predict(X_test)\n",
    "score = lr_pipeline.score(X_test, y_test)\n",
    "score*100"
   ]
  },
  {
   "attachments": {},
   "cell_type": "markdown",
   "metadata": {},
   "source": [
    "Root Median Absolute Error for Logistic Regression"
   ]
  },
  {
   "cell_type": "code",
   "execution_count": 27,
   "metadata": {},
   "outputs": [
    {
     "name": "stdout",
     "output_type": "stream",
     "text": [
      "RMAE: 7.52811397363244\n"
     ]
    }
   ],
   "source": [
    "mae_lr = median_absolute_error(y_test, lr_y_pred)\n",
    "rmae_lr = np.sqrt(mae_lr)\n",
    "print(\"RMAE:\", rmae_lr)"
   ]
  },
  {
   "attachments": {},
   "cell_type": "markdown",
   "metadata": {},
   "source": [
    "Root Mean Squared Error for Logistic Regression"
   ]
  },
  {
   "cell_type": "code",
   "execution_count": 28,
   "metadata": {},
   "outputs": [
    {
     "data": {
      "text/plain": [
       "98.55672435615304"
      ]
     },
     "execution_count": 28,
     "metadata": {},
     "output_type": "execute_result"
    }
   ],
   "source": [
    "mse_lr = mean_squared_error(y_test, lr_y_pred)\n",
    "rmse_lr = np.sqrt(mse_lr)\n",
    "rmse_lr"
   ]
  },
  {
   "cell_type": "code",
   "execution_count": 29,
   "metadata": {},
   "outputs": [
    {
     "data": {
      "text/plain": [
       "0.7446520361182621"
      ]
     },
     "execution_count": 29,
     "metadata": {},
     "output_type": "execute_result"
    }
   ],
   "source": [
    "r2_score_lr = r2_score(y_test, lr_y_pred)\n",
    "r2_score_lr"
   ]
  },
  {
   "attachments": {},
   "cell_type": "markdown",
   "metadata": {},
   "source": [
    "Cross Validation using kfold\n"
   ]
  },
  {
   "cell_type": "code",
   "execution_count": 30,
   "metadata": {},
   "outputs": [
    {
     "name": "stdout",
     "output_type": "stream",
     "text": [
      "Mean RMAE: 7.909073112571409\n"
     ]
    }
   ],
   "source": [
    "lr_crossValScore = cross_val_score(lr_pipeline, X_train, y_train, cv=kfold, scoring='neg_median_absolute_error')\n",
    "mean_rmae_lr = np.sqrt(-lr_crossValScore.mean())\n",
    "print(\"Mean RMAE:\", mean_rmae_lr)"
   ]
  },
  {
   "attachments": {},
   "cell_type": "markdown",
   "metadata": {},
   "source": [
    "Taking Mean and Standard Deviation of crossval score\n"
   ]
  },
  {
   "cell_type": "code",
   "execution_count": 31,
   "metadata": {},
   "outputs": [
    {
     "name": "stdout",
     "output_type": "stream",
     "text": [
      "Median Absolute Error Scores: [69.9796875 61.52375   52.791875  62.6240625 65.8478125]\n",
      "Mean MAE: 62.553437499999994\n",
      "Standard Deviation: 5.69834085296436\n"
     ]
    }
   ],
   "source": [
    "median_abs_errors_lr = abs(lr_crossValScore)\n",
    "median_abs_errors_lr_mean = median_abs_errors_lr.mean()\n",
    "median_abs_errors_lr_sd = median_abs_errors_lr.std()\n",
    "print(\"Median Absolute Error Scores:\", median_abs_errors_lr)\n",
    "print(\"Mean MAE:\", median_abs_errors_lr_mean)\n",
    "print(\"Standard Deviation:\", median_abs_errors_lr_sd)"
   ]
  },
  {
   "attachments": {},
   "cell_type": "markdown",
   "metadata": {},
   "source": [
    "<h3>  Defining a pipeline for preprocessor and model Decision Tree Regressor </h3>"
   ]
  },
  {
   "cell_type": "code",
   "execution_count": 32,
   "metadata": {},
   "outputs": [],
   "source": [
    "DT_pipeline = Pipeline(steps=[('preprocessor', preprocessor),\n",
    "                           ('regressor', DecisionTreeRegressor(max_depth=5))])"
   ]
  },
  {
   "attachments": {},
   "cell_type": "markdown",
   "metadata": {},
   "source": [
    "<h3> Fit the pipeline with Train and Test set </h3>"
   ]
  },
  {
   "cell_type": "code",
   "execution_count": 33,
   "metadata": {},
   "outputs": [
    {
     "data": {
      "text/plain": [
       "Pipeline(steps=[('preprocessor',\n",
       "                 ColumnTransformer(transformers=[('num', StandardScaler(),\n",
       "                                                  ['F1', 'F2', 'F3', 'F4', 'F5',\n",
       "                                                   'F6', 'F7', 'F8', 'F9',\n",
       "                                                   'F10', 'F11', 'F12', 'F13',\n",
       "                                                   'F14', 'F15', 'F16', 'F17',\n",
       "                                                   'F18', 'F19', 'F20', 'F21',\n",
       "                                                   'F22', 'F23', 'F24', 'F25',\n",
       "                                                   'F26', 'F27', 'F28', 'F30',\n",
       "                                                   'F31', ...]),\n",
       "                                                 ('cat',\n",
       "                                                  OneHotEncoder(handle_unknown='ignore',\n",
       "                                                                sparse=False),\n",
       "                                                  ['F29', 'F32'])])),\n",
       "                ('regressor', DecisionTreeRegressor(max_depth=5))])"
      ]
     },
     "execution_count": 33,
     "metadata": {},
     "output_type": "execute_result"
    }
   ],
   "source": [
    "DT_pipeline.fit(X_train,y_train)"
   ]
  },
  {
   "attachments": {},
   "cell_type": "markdown",
   "metadata": {},
   "source": [
    "<h3> Training and Evaluating the Model</h3>"
   ]
  },
  {
   "cell_type": "code",
   "execution_count": 34,
   "metadata": {},
   "outputs": [
    {
     "data": {
      "text/plain": [
       "43.74649189969739"
      ]
     },
     "execution_count": 34,
     "metadata": {},
     "output_type": "execute_result"
    }
   ],
   "source": [
    "dt_y_pred = DT_pipeline.predict(X_test)\n",
    "DT_score = DT_pipeline.score(X_test, y_test)\n",
    "DT_score*100"
   ]
  },
  {
   "attachments": {},
   "cell_type": "markdown",
   "metadata": {},
   "source": [
    "Sqaured Median Absolute Error Decision Tree"
   ]
  },
  {
   "cell_type": "code",
   "execution_count": 35,
   "metadata": {},
   "outputs": [
    {
     "name": "stdout",
     "output_type": "stream",
     "text": [
      "RMAE: 9.339116511866752\n"
     ]
    }
   ],
   "source": [
    "mae_DT = median_absolute_error(y_test, dt_y_pred)\n",
    "rmae_DT = np.sqrt(mae_DT)\n",
    "print(\"RMAE:\", rmae_DT)"
   ]
  },
  {
   "attachments": {},
   "cell_type": "markdown",
   "metadata": {},
   "source": [
    "Mean Sqaured Error Decision Tree"
   ]
  },
  {
   "cell_type": "code",
   "execution_count": 36,
   "metadata": {},
   "outputs": [
    {
     "name": "stdout",
     "output_type": "stream",
     "text": [
      "146.28333968296957\n"
     ]
    }
   ],
   "source": [
    "mse_DT = mean_squared_error(y_test, dt_y_pred)\n",
    "rmse_DT = np.sqrt(mse_DT)\n",
    "print(rmse_DT)"
   ]
  },
  {
   "cell_type": "code",
   "execution_count": 37,
   "metadata": {},
   "outputs": [
    {
     "data": {
      "text/plain": [
       "0.43746491899697393"
      ]
     },
     "execution_count": 37,
     "metadata": {},
     "output_type": "execute_result"
    }
   ],
   "source": [
    "r2_score_DT = r2_score(y_test, dt_y_pred)\n",
    "r2_score_DT"
   ]
  },
  {
   "attachments": {},
   "cell_type": "markdown",
   "metadata": {},
   "source": [
    "Cross Validation with kfold "
   ]
  },
  {
   "cell_type": "code",
   "execution_count": 38,
   "metadata": {},
   "outputs": [
    {
     "name": "stdout",
     "output_type": "stream",
     "text": [
      "Mean RMAE: 8.62307184229815\n"
     ]
    }
   ],
   "source": [
    "dt_crossValScore = cross_val_score(DT_pipeline, X_train, y_train, cv=kfold, scoring='neg_median_absolute_error')\n",
    "\n",
    "mean_rmae_dt = np.sqrt(-1 * (dt_crossValScore.mean()))\n",
    "print(\"Mean RMAE:\", mean_rmae_dt)"
   ]
  },
  {
   "attachments": {},
   "cell_type": "markdown",
   "metadata": {},
   "source": [
    "Mean and Standard Deviation for obtained cross val score"
   ]
  },
  {
   "cell_type": "code",
   "execution_count": 39,
   "metadata": {},
   "outputs": [
    {
     "name": "stdout",
     "output_type": "stream",
     "text": [
      "Median Absolute Error Scores: [75.57416667 78.04069565 76.72035437 81.69725    59.75437329]\n",
      "Mean MAE: 74.35736799743523\n",
      "Standard Deviation: 7.586204958346627\n"
     ]
    }
   ],
   "source": [
    "median_abs_errors_dt = abs(dt_crossValScore)\n",
    "median_abs_errors_dt_mean = median_abs_errors_dt.mean()\n",
    "median_abs_errors_dt_sd = median_abs_errors_dt.std()\n",
    "print(\"Median Absolute Error Scores:\", median_abs_errors_dt)\n",
    "print(\"Mean MAE:\", median_abs_errors_dt_mean)\n",
    "print(\"Standard Deviation:\", median_abs_errors_dt_sd)"
   ]
  },
  {
   "attachments": {},
   "cell_type": "markdown",
   "metadata": {},
   "source": [
    "<h3>  Defining a pipeline for preprocessor and model Gradient Boosting Regressor </h3>"
   ]
  },
  {
   "cell_type": "code",
   "execution_count": 40,
   "metadata": {},
   "outputs": [],
   "source": [
    "GB_pipeline = Pipeline(steps=[('preprocessor', preprocessor),\n",
    "                           ('regressor', GradientBoostingRegressor(random_state=50))])"
   ]
  },
  {
   "attachments": {},
   "cell_type": "markdown",
   "metadata": {},
   "source": [
    "<h3> Fit the pipeline with Train and Test set </h3>"
   ]
  },
  {
   "cell_type": "code",
   "execution_count": 41,
   "metadata": {},
   "outputs": [
    {
     "data": {
      "text/plain": [
       "Pipeline(steps=[('preprocessor',\n",
       "                 ColumnTransformer(transformers=[('num', StandardScaler(),\n",
       "                                                  ['F1', 'F2', 'F3', 'F4', 'F5',\n",
       "                                                   'F6', 'F7', 'F8', 'F9',\n",
       "                                                   'F10', 'F11', 'F12', 'F13',\n",
       "                                                   'F14', 'F15', 'F16', 'F17',\n",
       "                                                   'F18', 'F19', 'F20', 'F21',\n",
       "                                                   'F22', 'F23', 'F24', 'F25',\n",
       "                                                   'F26', 'F27', 'F28', 'F30',\n",
       "                                                   'F31', ...]),\n",
       "                                                 ('cat',\n",
       "                                                  OneHotEncoder(handle_unknown='ignore',\n",
       "                                                                sparse=False),\n",
       "                                                  ['F29', 'F32'])])),\n",
       "                ('regressor', GradientBoostingRegressor(random_state=50))])"
      ]
     },
     "execution_count": 41,
     "metadata": {},
     "output_type": "execute_result"
    }
   ],
   "source": [
    "GB_pipeline.fit(X_train,y_train)"
   ]
  },
  {
   "attachments": {},
   "cell_type": "markdown",
   "metadata": {},
   "source": [
    "<h3> Training and Evaluating the Model</h3>"
   ]
  },
  {
   "cell_type": "code",
   "execution_count": 42,
   "metadata": {},
   "outputs": [
    {
     "data": {
      "text/plain": [
       "84.27862580027178"
      ]
     },
     "execution_count": 42,
     "metadata": {},
     "output_type": "execute_result"
    }
   ],
   "source": [
    "GB_y_pred = GB_pipeline.predict(X_test)\n",
    "GB_score = GB_pipeline.score(X_test, y_test)\n",
    "GB_score*100"
   ]
  },
  {
   "attachments": {},
   "cell_type": "markdown",
   "metadata": {},
   "source": [
    "Median Absolute Error for Gradient Boosting Regressor Model"
   ]
  },
  {
   "cell_type": "code",
   "execution_count": 43,
   "metadata": {},
   "outputs": [
    {
     "name": "stdout",
     "output_type": "stream",
     "text": [
      "RMAE: 6.825886280589089\n"
     ]
    }
   ],
   "source": [
    "mae_GB = median_absolute_error(y_test, GB_y_pred)\n",
    "rmae_GB = np.sqrt(mae_GB)\n",
    "print(\"RMAE:\", rmae_GB)"
   ]
  },
  {
   "attachments": {},
   "cell_type": "markdown",
   "metadata": {},
   "source": [
    "Root Mean Squared Error "
   ]
  },
  {
   "cell_type": "code",
   "execution_count": 44,
   "metadata": {},
   "outputs": [
    {
     "data": {
      "text/plain": [
       "77.33308109773573"
      ]
     },
     "execution_count": 44,
     "metadata": {},
     "output_type": "execute_result"
    }
   ],
   "source": [
    "mse_GB = mean_squared_error(y_test, GB_y_pred)\n",
    "rmse_GB = np.sqrt(mse_GB)\n",
    "rmse_GB"
   ]
  },
  {
   "cell_type": "code",
   "execution_count": 45,
   "metadata": {},
   "outputs": [
    {
     "data": {
      "text/plain": [
       "0.8427862580027178"
      ]
     },
     "execution_count": 45,
     "metadata": {},
     "output_type": "execute_result"
    }
   ],
   "source": [
    "r2_score_GB = r2_score(y_test, GB_y_pred)\n",
    "r2_score_GB"
   ]
  },
  {
   "attachments": {},
   "cell_type": "markdown",
   "metadata": {},
   "source": [
    "Cross Validation using kfold "
   ]
  },
  {
   "cell_type": "code",
   "execution_count": 46,
   "metadata": {},
   "outputs": [
    {
     "name": "stdout",
     "output_type": "stream",
     "text": [
      "Mean RMAE: 7.341199651381233\n"
     ]
    }
   ],
   "source": [
    "gb_crossValScore = cross_val_score(GB_pipeline, X_train, y_train, cv=kfold, scoring='neg_median_absolute_error')\n",
    "\n",
    "mean_rmae_gb = np.sqrt(-gb_crossValScore.mean())\n",
    "print(\"Mean RMAE:\", mean_rmae_gb)"
   ]
  },
  {
   "attachments": {},
   "cell_type": "markdown",
   "metadata": {},
   "source": [
    "Mean and Standard Deviation for obtained CrossVal score"
   ]
  },
  {
   "cell_type": "code",
   "execution_count": 47,
   "metadata": {},
   "outputs": [
    {
     "name": "stdout",
     "output_type": "stream",
     "text": [
      "Median Absolute Error Scores: [54.45283219 49.78615307 54.63645094 59.30531709 51.28530832]\n",
      "Mean MAE: 53.89321232143993\n",
      "Standard Deviation: 3.281022859501609\n"
     ]
    }
   ],
   "source": [
    "median_abs_errors_gb = abs(gb_crossValScore)\n",
    "median_abs_errors_gb_mean = median_abs_errors_gb.mean()\n",
    "median_abs_errors_gb_sd = median_abs_errors_gb.std()\n",
    "print(\"Median Absolute Error Scores:\", median_abs_errors_gb)\n",
    "print(\"Mean MAE:\", median_abs_errors_gb_mean)\n",
    "print(\"Standard Deviation:\", median_abs_errors_gb_sd)"
   ]
  },
  {
   "attachments": {},
   "cell_type": "markdown",
   "metadata": {},
   "source": [
    "<h3>  Defining a pipeline for preprocessor and model Random Forest Regressor </h3>"
   ]
  },
  {
   "cell_type": "code",
   "execution_count": 48,
   "metadata": {},
   "outputs": [],
   "source": [
    "RF_pipeline = Pipeline(steps=[('preprocessor', preprocessor),\n",
    "                           ('regressor', RandomForestRegressor())])"
   ]
  },
  {
   "attachments": {},
   "cell_type": "markdown",
   "metadata": {},
   "source": [
    "<h3> Fit the pipeline with Train and Test set </h3>"
   ]
  },
  {
   "cell_type": "code",
   "execution_count": 49,
   "metadata": {},
   "outputs": [
    {
     "data": {
      "text/plain": [
       "Pipeline(steps=[('preprocessor',\n",
       "                 ColumnTransformer(transformers=[('num', StandardScaler(),\n",
       "                                                  ['F1', 'F2', 'F3', 'F4', 'F5',\n",
       "                                                   'F6', 'F7', 'F8', 'F9',\n",
       "                                                   'F10', 'F11', 'F12', 'F13',\n",
       "                                                   'F14', 'F15', 'F16', 'F17',\n",
       "                                                   'F18', 'F19', 'F20', 'F21',\n",
       "                                                   'F22', 'F23', 'F24', 'F25',\n",
       "                                                   'F26', 'F27', 'F28', 'F30',\n",
       "                                                   'F31', ...]),\n",
       "                                                 ('cat',\n",
       "                                                  OneHotEncoder(handle_unknown='ignore',\n",
       "                                                                sparse=False),\n",
       "                                                  ['F29', 'F32'])])),\n",
       "                ('regressor', RandomForestRegressor())])"
      ]
     },
     "execution_count": 49,
     "metadata": {},
     "output_type": "execute_result"
    }
   ],
   "source": [
    "RF_pipeline.fit(X_train,y_train)"
   ]
  },
  {
   "attachments": {},
   "cell_type": "markdown",
   "metadata": {},
   "source": [
    "<h3> Training and Evaluating Model</h3>"
   ]
  },
  {
   "cell_type": "code",
   "execution_count": 50,
   "metadata": {},
   "outputs": [
    {
     "data": {
      "text/plain": [
       "71.66947555907363"
      ]
     },
     "execution_count": 50,
     "metadata": {},
     "output_type": "execute_result"
    }
   ],
   "source": [
    "RF_y_pred = RF_pipeline.predict(X_test)\n",
    "RF_score = RF_pipeline.score(X_test, y_test)\n",
    "RF_score*100"
   ]
  },
  {
   "attachments": {},
   "cell_type": "markdown",
   "metadata": {},
   "source": [
    "Median Absolute Error "
   ]
  },
  {
   "cell_type": "code",
   "execution_count": 51,
   "metadata": {},
   "outputs": [
    {
     "name": "stdout",
     "output_type": "stream",
     "text": [
      "RMAE: 8.377735374192717\n"
     ]
    }
   ],
   "source": [
    "mae_RF = median_absolute_error(y_test, RF_y_pred)\n",
    "rmae_RF = np.sqrt(mae_RF)\n",
    "print(\"RMAE:\", rmae_RF)"
   ]
  },
  {
   "attachments": {},
   "cell_type": "markdown",
   "metadata": {},
   "source": [
    "Root Mean Squared Error "
   ]
  },
  {
   "cell_type": "code",
   "execution_count": 52,
   "metadata": {},
   "outputs": [
    {
     "data": {
      "text/plain": [
       "103.81195462075681"
      ]
     },
     "execution_count": 52,
     "metadata": {},
     "output_type": "execute_result"
    }
   ],
   "source": [
    "mse_RF = mean_squared_error(y_test, RF_y_pred)\n",
    "rmse_RF = np.sqrt(mse_RF)\n",
    "rmse_RF"
   ]
  },
  {
   "cell_type": "code",
   "execution_count": 53,
   "metadata": {},
   "outputs": [
    {
     "data": {
      "text/plain": [
       "0.7166947555907364"
      ]
     },
     "execution_count": 53,
     "metadata": {},
     "output_type": "execute_result"
    }
   ],
   "source": [
    "r2_score_RF = r2_score(y_test, RF_y_pred)\n",
    "r2_score_RF"
   ]
  },
  {
   "attachments": {},
   "cell_type": "markdown",
   "metadata": {},
   "source": [
    "Cross Validation using KFold"
   ]
  },
  {
   "cell_type": "code",
   "execution_count": 54,
   "metadata": {},
   "outputs": [
    {
     "name": "stdout",
     "output_type": "stream",
     "text": [
      "Mean RMAE: 8.397449612828883\n"
     ]
    }
   ],
   "source": [
    "RF_crossValScore = cross_val_score(RF_pipeline, X_train, y_train, cv=kfold, scoring='neg_median_absolute_error')\n",
    "\n",
    "mean_rmae_RF = np.sqrt(-RF_crossValScore.mean())\n",
    "print(\"Mean RMAE:\", mean_rmae_RF)"
   ]
  },
  {
   "attachments": {},
   "cell_type": "markdown",
   "metadata": {},
   "source": [
    "Mean and Standard Deviation for obtained CrossVal score"
   ]
  },
  {
   "cell_type": "code",
   "execution_count": 55,
   "metadata": {},
   "outputs": [
    {
     "name": "stdout",
     "output_type": "stream",
     "text": [
      "Median Absolute Error Scores: [77.00725 62.58625 75.92045 73.2592  63.81265]\n",
      "Mean MAE: 70.51715999999996\n",
      "Standard Deviation: 6.110407223123533\n"
     ]
    }
   ],
   "source": [
    "median_abs_errors_RF = abs(RF_crossValScore)\n",
    "median_abs_errors_RF_mean = median_abs_errors_RF.mean()\n",
    "median_abs_errors_RF_sd = median_abs_errors_RF.std()\n",
    "print(\"Median Absolute Error Scores:\", median_abs_errors_RF)\n",
    "print(\"Mean MAE:\", median_abs_errors_RF_mean)\n",
    "print(\"Standard Deviation:\", median_abs_errors_RF_sd)"
   ]
  },
  {
   "attachments": {},
   "cell_type": "markdown",
   "metadata": {},
   "source": [
    "<h3> Plotting a bar graph for Root Median Absolute Error of all the models </h3>"
   ]
  },
  {
   "cell_type": "code",
   "execution_count": 56,
   "metadata": {},
   "outputs": [
    {
     "data": {
      "image/png": "[encoded data removed]",
      "text/plain": [
       "<Figure size 640x480 with 1 Axes>"
      ]
     },
     "metadata": {},
     "output_type": "display_data"
    }
   ],
   "source": [
    "algorithms = ['Logistic Regressor', 'Decision Tree Regressor', 'Gradient Boosting Regressor', 'Random Forest Regressor']\n",
    "mae_scores = [rmae_lr, rmae_DT, rmae_GB, rmae_RF]\n",
    "\n",
    "# Create a barplot\n",
    "sns.barplot(x=algorithms, y=mae_scores)\n",
    "\n",
    "# Set the size of the figure\n",
    "sns.set(rc={'figure.figsize':(10,9)})\n",
    "plt.title('Comparison of Regression Algorithms')\n",
    "\n",
    "# Set the labels for the x-axis and y-axis\n",
    "plt.xlabel('Regression Algorithms')\n",
    "plt.ylabel('Root Median Absolute Error')\n",
    "\n",
    "# Show the plot\n",
    "plt.show()"
   ]
  },
  {
   "attachments": {},
   "cell_type": "markdown",
   "metadata": {},
   "source": [
    "<h3> Bar Plot of Root Mean Squared Error of models"
   ]
  },
  {
   "cell_type": "code",
   "execution_count": 57,
   "metadata": {},
   "outputs": [
    {
     "data": {
      "image/png": "[encoded data removed]",
      "text/plain": [
       "<Figure size 1000x900 with 1 Axes>"
      ]
     },
     "metadata": {},
     "output_type": "display_data"
    }
   ],
   "source": [
    "algorithms = ['Logistic Regressor', 'Decision Tree Regressor', 'Gradient Boosting Regressor', 'Random Forest Regressor']\n",
    "mse_scores = [mse_lr, mse_DT, mse_GB, mse_RF]\n",
    "\n",
    "# Create a barplot\n",
    "sns.barplot(x=algorithms, y=mse_scores)\n",
    "\n",
    "# Set the size of the figure\n",
    "sns.set(rc={'figure.figsize':(10,8.5)})\n",
    "plt.title('Comparison of Regression Algorithms')\n",
    "\n",
    "# Set the labels for the x-axis and y-axis\n",
    "plt.xlabel('Regression Algorithms')\n",
    "plt.ylabel('Root Mean Squared Error')\n",
    "\n",
    "# Show the plot\n",
    "plt.show()"
   ]
  },
  {
   "attachments": {},
   "cell_type": "markdown",
   "metadata": {},
   "source": [
    "<h3> Bar Plot of R2 Scores of all models"
   ]
  },
  {
   "cell_type": "code",
   "execution_count": 58,
   "metadata": {},
   "outputs": [
    {
     "data": {
      "image/png": "[encoded data removed]",
      "text/plain": [
       "<Figure size 1000x850 with 1 Axes>"
      ]
     },
     "metadata": {},
     "output_type": "display_data"
    }
   ],
   "source": [
    "algorithms = ['Logistic Regressor', 'Decision Tree Regressor', 'Gradient Boosting Regressor', 'Random Forest Regressor']\n",
    "r2_scores = [r2_score_lr, r2_score_DT, r2_score_GB, r2_score_RF]\n",
    "\n",
    "# Create a barplot\n",
    "sns.barplot(x=algorithms, y=r2_scores)\n",
    "\n",
    "# Set the size of the figure\n",
    "sns.set(rc={'figure.figsize':(10,8.5)})\n",
    "plt.title('Comparison of Regression Algorithms')\n",
    "\n",
    "# Set the labels for the x-axis and y-axis\n",
    "plt.xlabel('Regression Algorithms')\n",
    "plt.ylabel('R-Squared ')\n",
    "\n",
    "# Show the plot\n",
    "plt.show()"
   ]
  },
  {
   "attachments": {},
   "cell_type": "markdown",
   "metadata": {},
   "source": [
    "<h3> Defining all models together to select the best model with lowest Median Absolute Error score </h3>"
   ]
  },
  {
   "cell_type": "code",
   "execution_count": 59,
   "metadata": {},
   "outputs": [],
   "source": [
    "ml_models = [('Linear Regression', LinearRegression()),\n",
    "             ('Decision Tree Regressor', DecisionTreeRegressor(max_depth=5)),\n",
    "             ('Gradient Boosting', GradientBoostingRegressor(random_state=50)),\n",
    "             ('Random Forest Regressor', RandomForestRegressor())]"
   ]
  },
  {
   "cell_type": "code",
   "execution_count": 60,
   "metadata": {},
   "outputs": [
    {
     "name": "stdout",
     "output_type": "stream",
     "text": [
      "Best ML Model: Gradient Boosting\n"
     ]
    }
   ],
   "source": [
    "best_ml_model = np.argmin(mse_scores)\n",
    "model_Selection = ml_models[best_ml_model][1]\n",
    "print(f'Best ML Model: {ml_models[best_ml_model][0]}')\n"
   ]
  },
  {
   "attachments": {},
   "cell_type": "markdown",
   "metadata": {},
   "source": [
    "<h3> Fitting the best model acquired in a pipeline </h3>"
   ]
  },
  {
   "cell_type": "code",
   "execution_count": 61,
   "metadata": {},
   "outputs": [
    {
     "data": {
      "text/plain": [
       "Pipeline(steps=[('preprocessor',\n",
       "                 ColumnTransformer(transformers=[('num', StandardScaler(),\n",
       "                                                  ['F1', 'F2', 'F3', 'F4', 'F5',\n",
       "                                                   'F6', 'F7', 'F8', 'F9',\n",
       "                                                   'F10', 'F11', 'F12', 'F13',\n",
       "                                                   'F14', 'F15', 'F16', 'F17',\n",
       "                                                   'F18', 'F19', 'F20', 'F21',\n",
       "                                                   'F22', 'F23', 'F24', 'F25',\n",
       "                                                   'F26', 'F27', 'F28', 'F30',\n",
       "                                                   'F31', ...]),\n",
       "                                                 ('cat',\n",
       "                                                  OneHotEncoder(handle_unknown='ignore',\n",
       "                                                                sparse=False),\n",
       "                                                  ['F29', 'F32'])])),\n",
       "                ('model', GradientBoostingRegressor(random_state=50))])"
      ]
     },
     "execution_count": 61,
     "metadata": {},
     "output_type": "execute_result"
    }
   ],
   "source": [
    "bestModel_pipeline = Pipeline(steps=[('preprocessor', preprocessor), ('model', model_Selection)])\n",
    "bestModel_pipeline.fit(X_train, y_train)"
   ]
  },
  {
   "cell_type": "code",
   "execution_count": 62,
   "metadata": {},
   "outputs": [
    {
     "data": {
      "text/plain": [
       "77.33308109773573"
      ]
     },
     "execution_count": 62,
     "metadata": {},
     "output_type": "execute_result"
    }
   ],
   "source": [
    "mse_best_model = mean_squared_error(y_test, bestModel_pipeline.predict(X_test))\n",
    "root_mse = np.sqrt(mse_best_model)\n",
    "root_mse"
   ]
  },
  {
   "cell_type": "markdown",
   "metadata": {},
   "source": [
    "### Part B"
   ]
  },
  {
   "cell_type": "code",
   "execution_count": 63,
   "metadata": {},
   "outputs": [],
   "source": [
    "# HERE YOU WILL USE THIS TEMPLATE TO SAVE THE PREDICTIONS ON THE TEST SET\n",
    "\n",
    "# Load the test data\n",
    "test_df = pd.read_csv('CE802_P3_Test.csv')\n",
    "\n",
    "# Make sure you work on a copy\n",
    "test_data = test_df.iloc[:,:-1].copy()\n",
    "\n",
    "predicted = bestModel_pipeline.predict(test_data)\n",
    "# CHANGE HERE -- use your previously trained predictor and apply it to test_data\n",
    "# (test_data can be modified if needed but make sure you don't change the order of the rows)...\n",
    "\n",
    "# Replace the last (empty) column with your prediction\n",
    "test_df.iloc[:,-1] = predicted\n",
    "\n",
    "# Save to the destination file\n",
    "test_df.to_csv('CE802_P3_Test_Predictions.csv', index=False, float_format='%.8g')\n",
    "\n",
    "# IMPORTANT!! Make sure only the last column has changed\n",
    "assert pd.read_csv('CE802_P3_Test.csv').iloc[:,:-1].equals(pd.read_csv('CE802_P3_Test_Predictions.csv').iloc[:,:-1])"
   ]
  },
  {
   "cell_type": "code",
   "execution_count": null,
   "metadata": {},
   "outputs": [],
   "source": []
  }
 ],
 "metadata": {
  "kernelspec": {
   "display_name": "Python 3",
   "language": "python",
   "name": "python3"
  },
  "language_info": {
   "codemirror_mode": {
    "name": "ipython",
    "version": 3
   },
   "file_extension": ".py",
   "mimetype": "text/x-python",
   "name": "python",
   "nbconvert_exporter": "python",
   "pygments_lexer": "ipython3",
   "version": "3.9.13"
  }
 },
 "nbformat": 4,
 "nbformat_minor": 4
}
