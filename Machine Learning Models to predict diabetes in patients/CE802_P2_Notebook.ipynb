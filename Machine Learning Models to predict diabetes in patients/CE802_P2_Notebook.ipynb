{
 "cells": [
  {
   "cell_type": "markdown",
   "metadata": {},
   "source": [
    "### Part A"
   ]
  },
  {
   "cell_type": "code",
   "execution_count": 1,
   "metadata": {},
   "outputs": [],
   "source": [
    "# HERE YOU WILL WRITE CODE TO TEST A NUMBER OF PREDICTORS\n",
    "# AND FINALLY CHOOSE AND TRAIN THE PREDICTOR THAT YOU WILL BE USING FOR PART B"
   ]
  },
  {
   "attachments": {},
   "cell_type": "markdown",
   "metadata": {},
   "source": [
    "<h3> Importing necessary libraries </h3>"
   ]
  },
  {
   "cell_type": "code",
   "execution_count": 2,
   "metadata": {},
   "outputs": [],
   "source": [
    "import pandas as pd\n",
    "import numpy as np\n",
    "import sklearn \n",
    "import matplotlib.pyplot as plt\n",
    "import seaborn as sns\n",
    "from sklearn.tree import DecisionTreeClassifier \n",
    "from sklearn.ensemble import RandomForestClassifier\n",
    "from sklearn.svm import SVC\n",
    "from sklearn.metrics import accuracy_score, precision_score, recall_score, f1_score\n",
    "from sklearn.model_selection import train_test_split\n",
    "import missingno as msno\n",
    "from sklearn.linear_model import LogisticRegression\n",
    "from sklearn.preprocessing import StandardScaler\n",
    "from sklearn.metrics import confusion_matrix, classification_report\n",
    "from sklearn.linear_model import BayesianRidge \n",
    "from sklearn.inspection import permutation_importance\n",
    "from sklearn.feature_selection import RFE\n",
    "from sklearn.metrics import accuracy_score, precision_score, recall_score, f1_score"
   ]
  },
  {
   "cell_type": "code",
   "execution_count": 3,
   "metadata": {},
   "outputs": [],
   "source": [
    "from sklearn.experimental import enable_iterative_imputer\n",
    "from sklearn.impute import IterativeImputer"
   ]
  },
  {
   "attachments": {},
   "cell_type": "markdown",
   "metadata": {},
   "source": [
    "<h3> Loading the data </h3>"
   ]
  },
  {
   "cell_type": "code",
   "execution_count": 4,
   "metadata": {},
   "outputs": [],
   "source": [
    "file = pd.read_csv('CE802_P2_Data.csv')"
   ]
  },
  {
   "attachments": {},
   "cell_type": "markdown",
   "metadata": {},
   "source": [
    "<h3> Data Visualization </h3>"
   ]
  },
  {
   "cell_type": "code",
   "execution_count": 5,
   "metadata": {},
   "outputs": [
    {
     "data": {
      "text/html": [
       "<div>\n",
       "<style scoped>\n",
       "    .dataframe tbody tr th:only-of-type {\n",
       "        vertical-align: middle;\n",
       "    }\n",
       "\n",
       "    .dataframe tbody tr th {\n",
       "        vertical-align: top;\n",
       "    }\n",
       "\n",
       "    .dataframe thead th {\n",
       "        text-align: right;\n",
       "    }\n",
       "</style>\n",
       "<table border=\"1\" class=\"dataframe\">\n",
       "  <thead>\n",
       "    <tr style=\"text-align: right;\">\n",
       "      <th></th>\n",
       "      <th>F1</th>\n",
       "      <th>F2</th>\n",
       "      <th>F3</th>\n",
       "      <th>F4</th>\n",
       "      <th>F5</th>\n",
       "      <th>F6</th>\n",
       "      <th>F7</th>\n",
       "      <th>F8</th>\n",
       "      <th>F9</th>\n",
       "      <th>F10</th>\n",
       "      <th>...</th>\n",
       "      <th>F12</th>\n",
       "      <th>F13</th>\n",
       "      <th>F14</th>\n",
       "      <th>F15</th>\n",
       "      <th>F16</th>\n",
       "      <th>F17</th>\n",
       "      <th>F18</th>\n",
       "      <th>F19</th>\n",
       "      <th>F20</th>\n",
       "      <th>Class</th>\n",
       "    </tr>\n",
       "  </thead>\n",
       "  <tbody>\n",
       "    <tr>\n",
       "      <th>0</th>\n",
       "      <td>3.61690</td>\n",
       "      <td>-2.3600</td>\n",
       "      <td>-2671.50</td>\n",
       "      <td>5.1270</td>\n",
       "      <td>-12.6420</td>\n",
       "      <td>0</td>\n",
       "      <td>1.6430</td>\n",
       "      <td>51905.670</td>\n",
       "      <td>-0.8</td>\n",
       "      <td>1747.920</td>\n",
       "      <td>...</td>\n",
       "      <td>5.4380</td>\n",
       "      <td>-2.61500</td>\n",
       "      <td>-4879.68</td>\n",
       "      <td>-11315.46</td>\n",
       "      <td>0</td>\n",
       "      <td>-63.340</td>\n",
       "      <td>-13.0281</td>\n",
       "      <td>-4894.24</td>\n",
       "      <td>45.72</td>\n",
       "      <td>False</td>\n",
       "    </tr>\n",
       "    <tr>\n",
       "      <th>1</th>\n",
       "      <td>3.64880</td>\n",
       "      <td>-5.9680</td>\n",
       "      <td>-2826.59</td>\n",
       "      <td>4.6256</td>\n",
       "      <td>-16.3560</td>\n",
       "      <td>0</td>\n",
       "      <td>0.5310</td>\n",
       "      <td>51942.010</td>\n",
       "      <td>-0.8</td>\n",
       "      <td>1496.080</td>\n",
       "      <td>...</td>\n",
       "      <td>5.0960</td>\n",
       "      <td>-2.31149</td>\n",
       "      <td>-4186.38</td>\n",
       "      <td>-12852.96</td>\n",
       "      <td>0</td>\n",
       "      <td>-10.314</td>\n",
       "      <td>-16.2210</td>\n",
       "      <td>-5085.44</td>\n",
       "      <td>50.46</td>\n",
       "      <td>True</td>\n",
       "    </tr>\n",
       "    <tr>\n",
       "      <th>2</th>\n",
       "      <td>3.62830</td>\n",
       "      <td>-3.3914</td>\n",
       "      <td>-2490.50</td>\n",
       "      <td>4.3628</td>\n",
       "      <td>-11.2032</td>\n",
       "      <td>1</td>\n",
       "      <td>0.2640</td>\n",
       "      <td>51993.540</td>\n",
       "      <td>-2.8</td>\n",
       "      <td>1523.412</td>\n",
       "      <td>...</td>\n",
       "      <td>2.3652</td>\n",
       "      <td>-2.51310</td>\n",
       "      <td>-4067.28</td>\n",
       "      <td>-11012.16</td>\n",
       "      <td>0</td>\n",
       "      <td>-6.806</td>\n",
       "      <td>-11.7591</td>\n",
       "      <td>-7021.44</td>\n",
       "      <td>NaN</td>\n",
       "      <td>True</td>\n",
       "    </tr>\n",
       "    <tr>\n",
       "      <th>3</th>\n",
       "      <td>3.01503</td>\n",
       "      <td>-2.6796</td>\n",
       "      <td>-2472.00</td>\n",
       "      <td>8.9380</td>\n",
       "      <td>-14.5830</td>\n",
       "      <td>1</td>\n",
       "      <td>0.3196</td>\n",
       "      <td>51921.040</td>\n",
       "      <td>-0.8</td>\n",
       "      <td>1506.810</td>\n",
       "      <td>...</td>\n",
       "      <td>4.4080</td>\n",
       "      <td>-2.74650</td>\n",
       "      <td>1352.52</td>\n",
       "      <td>-10297.86</td>\n",
       "      <td>0</td>\n",
       "      <td>-4.670</td>\n",
       "      <td>-11.8110</td>\n",
       "      <td>-4648.76</td>\n",
       "      <td>NaN</td>\n",
       "      <td>True</td>\n",
       "    </tr>\n",
       "    <tr>\n",
       "      <th>4</th>\n",
       "      <td>3.60030</td>\n",
       "      <td>-5.0060</td>\n",
       "      <td>-2405.50</td>\n",
       "      <td>6.2800</td>\n",
       "      <td>-11.1243</td>\n",
       "      <td>1</td>\n",
       "      <td>4.0800</td>\n",
       "      <td>51921.238</td>\n",
       "      <td>-0.8</td>\n",
       "      <td>1581.790</td>\n",
       "      <td>...</td>\n",
       "      <td>3.1334</td>\n",
       "      <td>-2.33439</td>\n",
       "      <td>-5095.88</td>\n",
       "      <td>-11527.38</td>\n",
       "      <td>0</td>\n",
       "      <td>-45.920</td>\n",
       "      <td>-11.2635</td>\n",
       "      <td>-4877.20</td>\n",
       "      <td>46.74</td>\n",
       "      <td>True</td>\n",
       "    </tr>\n",
       "  </tbody>\n",
       "</table>\n",
       "<p>5 rows × 21 columns</p>\n",
       "</div>"
      ],
      "text/plain": [
       "        F1      F2       F3      F4       F5  F6      F7         F8   F9  \\\n",
       "0  3.61690 -2.3600 -2671.50  5.1270 -12.6420   0  1.6430  51905.670 -0.8   \n",
       "1  3.64880 -5.9680 -2826.59  4.6256 -16.3560   0  0.5310  51942.010 -0.8   \n",
       "2  3.62830 -3.3914 -2490.50  4.3628 -11.2032   1  0.2640  51993.540 -2.8   \n",
       "3  3.01503 -2.6796 -2472.00  8.9380 -14.5830   1  0.3196  51921.040 -0.8   \n",
       "4  3.60030 -5.0060 -2405.50  6.2800 -11.1243   1  4.0800  51921.238 -0.8   \n",
       "\n",
       "        F10  ...     F12      F13      F14       F15  F16     F17      F18  \\\n",
       "0  1747.920  ...  5.4380 -2.61500 -4879.68 -11315.46    0 -63.340 -13.0281   \n",
       "1  1496.080  ...  5.0960 -2.31149 -4186.38 -12852.96    0 -10.314 -16.2210   \n",
       "2  1523.412  ...  2.3652 -2.51310 -4067.28 -11012.16    0  -6.806 -11.7591   \n",
       "3  1506.810  ...  4.4080 -2.74650  1352.52 -10297.86    0  -4.670 -11.8110   \n",
       "4  1581.790  ...  3.1334 -2.33439 -5095.88 -11527.38    0 -45.920 -11.2635   \n",
       "\n",
       "       F19    F20  Class  \n",
       "0 -4894.24  45.72  False  \n",
       "1 -5085.44  50.46   True  \n",
       "2 -7021.44    NaN   True  \n",
       "3 -4648.76    NaN   True  \n",
       "4 -4877.20  46.74   True  \n",
       "\n",
       "[5 rows x 21 columns]"
      ]
     },
     "execution_count": 5,
     "metadata": {},
     "output_type": "execute_result"
    }
   ],
   "source": [
    "file.head()"
   ]
  },
  {
   "cell_type": "code",
   "execution_count": 6,
   "metadata": {},
   "outputs": [
    {
     "data": {
      "text/plain": [
       "(1000, 21)"
      ]
     },
     "execution_count": 6,
     "metadata": {},
     "output_type": "execute_result"
    }
   ],
   "source": [
    "file.shape"
   ]
  },
  {
   "cell_type": "code",
   "execution_count": 7,
   "metadata": {},
   "outputs": [
    {
     "name": "stdout",
     "output_type": "stream",
     "text": [
      "<class 'pandas.core.frame.DataFrame'>\n",
      "RangeIndex: 1000 entries, 0 to 999\n",
      "Data columns (total 21 columns):\n",
      " #   Column  Non-Null Count  Dtype  \n",
      "---  ------  --------------  -----  \n",
      " 0   F1      1000 non-null   float64\n",
      " 1   F2      1000 non-null   float64\n",
      " 2   F3      1000 non-null   float64\n",
      " 3   F4      1000 non-null   float64\n",
      " 4   F5      1000 non-null   float64\n",
      " 5   F6      1000 non-null   int64  \n",
      " 6   F7      1000 non-null   float64\n",
      " 7   F8      1000 non-null   float64\n",
      " 8   F9      1000 non-null   float64\n",
      " 9   F10     1000 non-null   float64\n",
      " 10  F11     1000 non-null   float64\n",
      " 11  F12     1000 non-null   float64\n",
      " 12  F13     1000 non-null   float64\n",
      " 13  F14     1000 non-null   float64\n",
      " 14  F15     1000 non-null   float64\n",
      " 15  F16     1000 non-null   int64  \n",
      " 16  F17     1000 non-null   float64\n",
      " 17  F18     1000 non-null   float64\n",
      " 18  F19     1000 non-null   float64\n",
      " 19  F20     500 non-null    float64\n",
      " 20  Class   1000 non-null   bool   \n",
      "dtypes: bool(1), float64(18), int64(2)\n",
      "memory usage: 157.4 KB\n"
     ]
    }
   ],
   "source": [
    "file.info()"
   ]
  },
  {
   "cell_type": "code",
   "execution_count": 8,
   "metadata": {},
   "outputs": [
    {
     "data": {
      "text/plain": [
       "0      False\n",
       "1      False\n",
       "2      False\n",
       "3      False\n",
       "4      False\n",
       "       ...  \n",
       "995    False\n",
       "996    False\n",
       "997    False\n",
       "998    False\n",
       "999    False\n",
       "Length: 1000, dtype: bool"
      ]
     },
     "execution_count": 8,
     "metadata": {},
     "output_type": "execute_result"
    }
   ],
   "source": [
    "file.duplicated()"
   ]
  },
  {
   "attachments": {},
   "cell_type": "markdown",
   "metadata": {},
   "source": [
    "<h3> Statistical Analysis of the dataset </h3>"
   ]
  },
  {
   "cell_type": "code",
   "execution_count": 9,
   "metadata": {},
   "outputs": [
    {
     "data": {
      "text/html": [
       "<div>\n",
       "<style scoped>\n",
       "    .dataframe tbody tr th:only-of-type {\n",
       "        vertical-align: middle;\n",
       "    }\n",
       "\n",
       "    .dataframe tbody tr th {\n",
       "        vertical-align: top;\n",
       "    }\n",
       "\n",
       "    .dataframe thead th {\n",
       "        text-align: right;\n",
       "    }\n",
       "</style>\n",
       "<table border=\"1\" class=\"dataframe\">\n",
       "  <thead>\n",
       "    <tr style=\"text-align: right;\">\n",
       "      <th></th>\n",
       "      <th>count</th>\n",
       "      <th>mean</th>\n",
       "      <th>std</th>\n",
       "      <th>min</th>\n",
       "      <th>25%</th>\n",
       "      <th>50%</th>\n",
       "      <th>75%</th>\n",
       "      <th>max</th>\n",
       "    </tr>\n",
       "  </thead>\n",
       "  <tbody>\n",
       "    <tr>\n",
       "      <th>F1</th>\n",
       "      <td>1000.0</td>\n",
       "      <td>3.938608</td>\n",
       "      <td>0.901204</td>\n",
       "      <td>3.00299</td>\n",
       "      <td>3.261825</td>\n",
       "      <td>3.65725</td>\n",
       "      <td>4.307000</td>\n",
       "      <td>7.555000</td>\n",
       "    </tr>\n",
       "    <tr>\n",
       "      <th>F2</th>\n",
       "      <td>1000.0</td>\n",
       "      <td>-3.621917</td>\n",
       "      <td>1.805553</td>\n",
       "      <td>-10.61600</td>\n",
       "      <td>-4.447000</td>\n",
       "      <td>-3.06450</td>\n",
       "      <td>-2.234900</td>\n",
       "      <td>-1.644240</td>\n",
       "    </tr>\n",
       "    <tr>\n",
       "      <th>F3</th>\n",
       "      <td>1000.0</td>\n",
       "      <td>-2659.123695</td>\n",
       "      <td>529.018105</td>\n",
       "      <td>-5806.30000</td>\n",
       "      <td>-2864.150000</td>\n",
       "      <td>-2778.45500</td>\n",
       "      <td>-2623.300000</td>\n",
       "      <td>2905.700000</td>\n",
       "    </tr>\n",
       "    <tr>\n",
       "      <th>F4</th>\n",
       "      <td>1000.0</td>\n",
       "      <td>5.890532</td>\n",
       "      <td>1.799838</td>\n",
       "      <td>3.94276</td>\n",
       "      <td>4.487150</td>\n",
       "      <td>5.30960</td>\n",
       "      <td>6.856500</td>\n",
       "      <td>12.744000</td>\n",
       "    </tr>\n",
       "    <tr>\n",
       "      <th>F5</th>\n",
       "      <td>1000.0</td>\n",
       "      <td>-13.021815</td>\n",
       "      <td>1.819802</td>\n",
       "      <td>-22.12200</td>\n",
       "      <td>-14.027250</td>\n",
       "      <td>-12.60705</td>\n",
       "      <td>-11.570400</td>\n",
       "      <td>-10.740168</td>\n",
       "    </tr>\n",
       "    <tr>\n",
       "      <th>F6</th>\n",
       "      <td>1000.0</td>\n",
       "      <td>0.516000</td>\n",
       "      <td>0.499994</td>\n",
       "      <td>0.00000</td>\n",
       "      <td>0.000000</td>\n",
       "      <td>1.00000</td>\n",
       "      <td>1.000000</td>\n",
       "      <td>1.000000</td>\n",
       "    </tr>\n",
       "    <tr>\n",
       "      <th>F7</th>\n",
       "      <td>1000.0</td>\n",
       "      <td>1.067873</td>\n",
       "      <td>0.902763</td>\n",
       "      <td>0.11220</td>\n",
       "      <td>0.396475</td>\n",
       "      <td>0.78370</td>\n",
       "      <td>1.464250</td>\n",
       "      <td>4.602000</td>\n",
       "    </tr>\n",
       "    <tr>\n",
       "      <th>F8</th>\n",
       "      <td>1000.0</td>\n",
       "      <td>51974.770711</td>\n",
       "      <td>1688.229804</td>\n",
       "      <td>48208.33000</td>\n",
       "      <td>51907.295000</td>\n",
       "      <td>51926.11100</td>\n",
       "      <td>51945.440000</td>\n",
       "      <td>104695.330000</td>\n",
       "    </tr>\n",
       "    <tr>\n",
       "      <th>F9</th>\n",
       "      <td>1000.0</td>\n",
       "      <td>-1.814000</td>\n",
       "      <td>1.000402</td>\n",
       "      <td>-2.80000</td>\n",
       "      <td>-2.800000</td>\n",
       "      <td>-2.80000</td>\n",
       "      <td>-0.800000</td>\n",
       "      <td>-0.800000</td>\n",
       "    </tr>\n",
       "    <tr>\n",
       "      <th>F10</th>\n",
       "      <td>1000.0</td>\n",
       "      <td>1451.053607</td>\n",
       "      <td>246.538717</td>\n",
       "      <td>-139.08000</td>\n",
       "      <td>1437.582500</td>\n",
       "      <td>1504.89000</td>\n",
       "      <td>1537.961250</td>\n",
       "      <td>3091.920000</td>\n",
       "    </tr>\n",
       "    <tr>\n",
       "      <th>F11</th>\n",
       "      <td>1000.0</td>\n",
       "      <td>24105.732399</td>\n",
       "      <td>3111.533532</td>\n",
       "      <td>10433.64000</td>\n",
       "      <td>22905.300000</td>\n",
       "      <td>23486.04000</td>\n",
       "      <td>24446.265000</td>\n",
       "      <td>47423.640000</td>\n",
       "    </tr>\n",
       "    <tr>\n",
       "      <th>F12</th>\n",
       "      <td>1000.0</td>\n",
       "      <td>3.988717</td>\n",
       "      <td>1.739357</td>\n",
       "      <td>2.14444</td>\n",
       "      <td>2.686650</td>\n",
       "      <td>3.47810</td>\n",
       "      <td>4.759000</td>\n",
       "      <td>11.170000</td>\n",
       "    </tr>\n",
       "    <tr>\n",
       "      <th>F13</th>\n",
       "      <td>1000.0</td>\n",
       "      <td>-2.803968</td>\n",
       "      <td>0.765717</td>\n",
       "      <td>-8.35900</td>\n",
       "      <td>-2.993675</td>\n",
       "      <td>-2.49840</td>\n",
       "      <td>-2.328988</td>\n",
       "      <td>-2.280002</td>\n",
       "    </tr>\n",
       "    <tr>\n",
       "      <th>F14</th>\n",
       "      <td>1000.0</td>\n",
       "      <td>-3933.396979</td>\n",
       "      <td>1405.781722</td>\n",
       "      <td>-11393.48000</td>\n",
       "      <td>-4495.635000</td>\n",
       "      <td>-4210.10000</td>\n",
       "      <td>-3746.730000</td>\n",
       "      <td>5696.520000</td>\n",
       "    </tr>\n",
       "    <tr>\n",
       "      <th>F15</th>\n",
       "      <td>1000.0</td>\n",
       "      <td>-11630.293754</td>\n",
       "      <td>1534.747192</td>\n",
       "      <td>-23402.76000</td>\n",
       "      <td>-12032.460000</td>\n",
       "      <td>-11597.42550</td>\n",
       "      <td>-11223.660000</td>\n",
       "      <td>-1190.760000</td>\n",
       "    </tr>\n",
       "    <tr>\n",
       "      <th>F16</th>\n",
       "      <td>1000.0</td>\n",
       "      <td>0.508000</td>\n",
       "      <td>0.500186</td>\n",
       "      <td>0.00000</td>\n",
       "      <td>0.000000</td>\n",
       "      <td>1.00000</td>\n",
       "      <td>1.000000</td>\n",
       "      <td>1.000000</td>\n",
       "    </tr>\n",
       "    <tr>\n",
       "      <th>F17</th>\n",
       "      <td>1000.0</td>\n",
       "      <td>-20.424599</td>\n",
       "      <td>20.571395</td>\n",
       "      <td>-163.68000</td>\n",
       "      <td>-26.025000</td>\n",
       "      <td>-14.28400</td>\n",
       "      <td>-6.504000</td>\n",
       "      <td>-0.124656</td>\n",
       "    </tr>\n",
       "    <tr>\n",
       "      <th>F18</th>\n",
       "      <td>1000.0</td>\n",
       "      <td>-13.230040</td>\n",
       "      <td>2.560369</td>\n",
       "      <td>-23.88900</td>\n",
       "      <td>-14.325000</td>\n",
       "      <td>-12.41625</td>\n",
       "      <td>-11.337000</td>\n",
       "      <td>-10.533870</td>\n",
       "    </tr>\n",
       "    <tr>\n",
       "      <th>F19</th>\n",
       "      <td>1000.0</td>\n",
       "      <td>-5361.832102</td>\n",
       "      <td>1494.941683</td>\n",
       "      <td>-15323.44000</td>\n",
       "      <td>-5523.540000</td>\n",
       "      <td>-4984.54000</td>\n",
       "      <td>-4731.133500</td>\n",
       "      <td>2722.560000</td>\n",
       "    </tr>\n",
       "    <tr>\n",
       "      <th>F20</th>\n",
       "      <td>500.0</td>\n",
       "      <td>47.010300</td>\n",
       "      <td>3.467507</td>\n",
       "      <td>36.93000</td>\n",
       "      <td>44.610000</td>\n",
       "      <td>46.95000</td>\n",
       "      <td>49.335000</td>\n",
       "      <td>57.150000</td>\n",
       "    </tr>\n",
       "  </tbody>\n",
       "</table>\n",
       "</div>"
      ],
      "text/plain": [
       "      count          mean          std          min           25%  \\\n",
       "F1   1000.0      3.938608     0.901204      3.00299      3.261825   \n",
       "F2   1000.0     -3.621917     1.805553    -10.61600     -4.447000   \n",
       "F3   1000.0  -2659.123695   529.018105  -5806.30000  -2864.150000   \n",
       "F4   1000.0      5.890532     1.799838      3.94276      4.487150   \n",
       "F5   1000.0    -13.021815     1.819802    -22.12200    -14.027250   \n",
       "F6   1000.0      0.516000     0.499994      0.00000      0.000000   \n",
       "F7   1000.0      1.067873     0.902763      0.11220      0.396475   \n",
       "F8   1000.0  51974.770711  1688.229804  48208.33000  51907.295000   \n",
       "F9   1000.0     -1.814000     1.000402     -2.80000     -2.800000   \n",
       "F10  1000.0   1451.053607   246.538717   -139.08000   1437.582500   \n",
       "F11  1000.0  24105.732399  3111.533532  10433.64000  22905.300000   \n",
       "F12  1000.0      3.988717     1.739357      2.14444      2.686650   \n",
       "F13  1000.0     -2.803968     0.765717     -8.35900     -2.993675   \n",
       "F14  1000.0  -3933.396979  1405.781722 -11393.48000  -4495.635000   \n",
       "F15  1000.0 -11630.293754  1534.747192 -23402.76000 -12032.460000   \n",
       "F16  1000.0      0.508000     0.500186      0.00000      0.000000   \n",
       "F17  1000.0    -20.424599    20.571395   -163.68000    -26.025000   \n",
       "F18  1000.0    -13.230040     2.560369    -23.88900    -14.325000   \n",
       "F19  1000.0  -5361.832102  1494.941683 -15323.44000  -5523.540000   \n",
       "F20   500.0     47.010300     3.467507     36.93000     44.610000   \n",
       "\n",
       "             50%           75%            max  \n",
       "F1       3.65725      4.307000       7.555000  \n",
       "F2      -3.06450     -2.234900      -1.644240  \n",
       "F3   -2778.45500  -2623.300000    2905.700000  \n",
       "F4       5.30960      6.856500      12.744000  \n",
       "F5     -12.60705    -11.570400     -10.740168  \n",
       "F6       1.00000      1.000000       1.000000  \n",
       "F7       0.78370      1.464250       4.602000  \n",
       "F8   51926.11100  51945.440000  104695.330000  \n",
       "F9      -2.80000     -0.800000      -0.800000  \n",
       "F10   1504.89000   1537.961250    3091.920000  \n",
       "F11  23486.04000  24446.265000   47423.640000  \n",
       "F12      3.47810      4.759000      11.170000  \n",
       "F13     -2.49840     -2.328988      -2.280002  \n",
       "F14  -4210.10000  -3746.730000    5696.520000  \n",
       "F15 -11597.42550 -11223.660000   -1190.760000  \n",
       "F16      1.00000      1.000000       1.000000  \n",
       "F17    -14.28400     -6.504000      -0.124656  \n",
       "F18    -12.41625    -11.337000     -10.533870  \n",
       "F19  -4984.54000  -4731.133500    2722.560000  \n",
       "F20     46.95000     49.335000      57.150000  "
      ]
     },
     "execution_count": 9,
     "metadata": {},
     "output_type": "execute_result"
    }
   ],
   "source": [
    "file.describe().T"
   ]
  },
  {
   "cell_type": "code",
   "execution_count": 10,
   "metadata": {},
   "outputs": [
    {
     "data": {
      "text/plain": [
       "F1         0\n",
       "F2         0\n",
       "F3         0\n",
       "F4         0\n",
       "F5         0\n",
       "F6         0\n",
       "F7         0\n",
       "F8         0\n",
       "F9         0\n",
       "F10        0\n",
       "F11        0\n",
       "F12        0\n",
       "F13        0\n",
       "F14        0\n",
       "F15        0\n",
       "F16        0\n",
       "F17        0\n",
       "F18        0\n",
       "F19        0\n",
       "F20      500\n",
       "Class      0\n",
       "dtype: int64"
      ]
     },
     "execution_count": 10,
     "metadata": {},
     "output_type": "execute_result"
    }
   ],
   "source": [
    "file.isnull().sum()"
   ]
  },
  {
   "cell_type": "code",
   "execution_count": 11,
   "metadata": {},
   "outputs": [
    {
     "data": {
      "text/plain": [
       "<AxesSubplot:>"
      ]
     },
     "execution_count": 11,
     "metadata": {},
     "output_type": "execute_result"
    },
    {
     "data": {
      "image/png": "[encoded data removed]",
      "text/plain": [
       "<Figure size 2500x1000 with 3 Axes>"
      ]
     },
     "metadata": {},
     "output_type": "display_data"
    }
   ],
   "source": [
    "msno.bar(file, color=(92/255, 128/255, 188/255))"
   ]
  },
  {
   "attachments": {},
   "cell_type": "markdown",
   "metadata": {},
   "source": [
    " As seen above, the column F20 is missing about 50% of data which isn't useful to be using the missing values column to train and test the models."
   ]
  },
  {
   "cell_type": "code",
   "execution_count": 12,
   "metadata": {},
   "outputs": [
    {
     "data": {
      "image/png": "[encoded data removed]",
      "text/plain": [
       "<Figure size 640x480 with 2 Axes>"
      ]
     },
     "metadata": {},
     "output_type": "display_data"
    }
   ],
   "source": [
    "corr = file.corr()\n",
    "sns.heatmap(corr, annot=False, cmap=\"Blues\")\n",
    "plt.show()"
   ]
  },
  {
   "cell_type": "code",
   "execution_count": 13,
   "metadata": {},
   "outputs": [
    {
     "data": {
      "image/png": "[encoded data removed]",
      "text/plain": [
       "<Figure size 640x480 with 1 Axes>"
      ]
     },
     "metadata": {},
     "output_type": "display_data"
    }
   ],
   "source": [
    "sns.countplot(x='Class', data=file, palette='Set2')\n",
    "plt.xlabel('Values')\n",
    "plt.ylabel('Count')\n",
    "plt.title('Diabetes Prediction')\n",
    "plt.show()"
   ]
  },
  {
   "attachments": {},
   "cell_type": "markdown",
   "metadata": {},
   "source": [
    "<h3> Dropping column Class and defining X Features </h3>"
   ]
  },
  {
   "cell_type": "code",
   "execution_count": 14,
   "metadata": {},
   "outputs": [],
   "source": [
    "X = file.drop('Class', axis=1)"
   ]
  },
  {
   "attachments": {},
   "cell_type": "markdown",
   "metadata": {},
   "source": [
    "<h3> Defining target variable </h3>"
   ]
  },
  {
   "cell_type": "code",
   "execution_count": 15,
   "metadata": {},
   "outputs": [],
   "source": [
    "Y = file['Class']"
   ]
  },
  {
   "attachments": {},
   "cell_type": "markdown",
   "metadata": {},
   "source": [
    "<h3> Correlation between X features </h3>"
   ]
  },
  {
   "cell_type": "code",
   "execution_count": 16,
   "metadata": {},
   "outputs": [
    {
     "data": {
      "image/png": "[encoded data removed]",
      "text/plain": [
       "<Figure size 640x480 with 2 Axes>"
      ]
     },
     "metadata": {},
     "output_type": "display_data"
    }
   ],
   "source": [
    "corr = X.corr()\n",
    "sns.heatmap(corr, cmap=\"Blues\")\n",
    "plt.show()"
   ]
  },
  {
   "attachments": {},
   "cell_type": "markdown",
   "metadata": {},
   "source": [
    "<h3> Dropping column which has too many null values </h3>"
   ]
  },
  {
   "cell_type": "code",
   "execution_count": 17,
   "metadata": {},
   "outputs": [],
   "source": [
    "baselineX = X.dropna(axis=1)"
   ]
  },
  {
   "cell_type": "code",
   "execution_count": 18,
   "metadata": {},
   "outputs": [
    {
     "data": {
      "text/html": [
       "<div>\n",
       "<style scoped>\n",
       "    .dataframe tbody tr th:only-of-type {\n",
       "        vertical-align: middle;\n",
       "    }\n",
       "\n",
       "    .dataframe tbody tr th {\n",
       "        vertical-align: top;\n",
       "    }\n",
       "\n",
       "    .dataframe thead th {\n",
       "        text-align: right;\n",
       "    }\n",
       "</style>\n",
       "<table border=\"1\" class=\"dataframe\">\n",
       "  <thead>\n",
       "    <tr style=\"text-align: right;\">\n",
       "      <th></th>\n",
       "      <th>F1</th>\n",
       "      <th>F2</th>\n",
       "      <th>F3</th>\n",
       "      <th>F4</th>\n",
       "      <th>F5</th>\n",
       "      <th>F6</th>\n",
       "      <th>F7</th>\n",
       "      <th>F8</th>\n",
       "      <th>F9</th>\n",
       "      <th>F10</th>\n",
       "      <th>F11</th>\n",
       "      <th>F12</th>\n",
       "      <th>F13</th>\n",
       "      <th>F14</th>\n",
       "      <th>F15</th>\n",
       "      <th>F16</th>\n",
       "      <th>F17</th>\n",
       "      <th>F18</th>\n",
       "      <th>F19</th>\n",
       "    </tr>\n",
       "  </thead>\n",
       "  <tbody>\n",
       "    <tr>\n",
       "      <th>0</th>\n",
       "      <td>3.61690</td>\n",
       "      <td>-2.36000</td>\n",
       "      <td>-2671.50</td>\n",
       "      <td>5.1270</td>\n",
       "      <td>-12.6420</td>\n",
       "      <td>0</td>\n",
       "      <td>1.6430</td>\n",
       "      <td>51905.670</td>\n",
       "      <td>-0.8</td>\n",
       "      <td>1747.920</td>\n",
       "      <td>22912.53</td>\n",
       "      <td>5.43800</td>\n",
       "      <td>-2.61500</td>\n",
       "      <td>-4879.68</td>\n",
       "      <td>-11315.46</td>\n",
       "      <td>0</td>\n",
       "      <td>-63.340</td>\n",
       "      <td>-13.0281</td>\n",
       "      <td>-4894.24</td>\n",
       "    </tr>\n",
       "    <tr>\n",
       "      <th>1</th>\n",
       "      <td>3.64880</td>\n",
       "      <td>-5.96800</td>\n",
       "      <td>-2826.59</td>\n",
       "      <td>4.6256</td>\n",
       "      <td>-16.3560</td>\n",
       "      <td>0</td>\n",
       "      <td>0.5310</td>\n",
       "      <td>51942.010</td>\n",
       "      <td>-0.8</td>\n",
       "      <td>1496.080</td>\n",
       "      <td>25696.44</td>\n",
       "      <td>5.09600</td>\n",
       "      <td>-2.31149</td>\n",
       "      <td>-4186.38</td>\n",
       "      <td>-12852.96</td>\n",
       "      <td>0</td>\n",
       "      <td>-10.314</td>\n",
       "      <td>-16.2210</td>\n",
       "      <td>-5085.44</td>\n",
       "    </tr>\n",
       "    <tr>\n",
       "      <th>2</th>\n",
       "      <td>3.62830</td>\n",
       "      <td>-3.39140</td>\n",
       "      <td>-2490.50</td>\n",
       "      <td>4.3628</td>\n",
       "      <td>-11.2032</td>\n",
       "      <td>1</td>\n",
       "      <td>0.2640</td>\n",
       "      <td>51993.540</td>\n",
       "      <td>-2.8</td>\n",
       "      <td>1523.412</td>\n",
       "      <td>20232.84</td>\n",
       "      <td>2.36520</td>\n",
       "      <td>-2.51310</td>\n",
       "      <td>-4067.28</td>\n",
       "      <td>-11012.16</td>\n",
       "      <td>0</td>\n",
       "      <td>-6.806</td>\n",
       "      <td>-11.7591</td>\n",
       "      <td>-7021.44</td>\n",
       "    </tr>\n",
       "    <tr>\n",
       "      <th>3</th>\n",
       "      <td>3.01503</td>\n",
       "      <td>-2.67960</td>\n",
       "      <td>-2472.00</td>\n",
       "      <td>8.9380</td>\n",
       "      <td>-14.5830</td>\n",
       "      <td>1</td>\n",
       "      <td>0.3196</td>\n",
       "      <td>51921.040</td>\n",
       "      <td>-0.8</td>\n",
       "      <td>1506.810</td>\n",
       "      <td>23592.84</td>\n",
       "      <td>4.40800</td>\n",
       "      <td>-2.74650</td>\n",
       "      <td>1352.52</td>\n",
       "      <td>-10297.86</td>\n",
       "      <td>0</td>\n",
       "      <td>-4.670</td>\n",
       "      <td>-11.8110</td>\n",
       "      <td>-4648.76</td>\n",
       "    </tr>\n",
       "    <tr>\n",
       "      <th>4</th>\n",
       "      <td>3.60030</td>\n",
       "      <td>-5.00600</td>\n",
       "      <td>-2405.50</td>\n",
       "      <td>6.2800</td>\n",
       "      <td>-11.1243</td>\n",
       "      <td>1</td>\n",
       "      <td>4.0800</td>\n",
       "      <td>51921.238</td>\n",
       "      <td>-0.8</td>\n",
       "      <td>1581.790</td>\n",
       "      <td>24778.74</td>\n",
       "      <td>3.13340</td>\n",
       "      <td>-2.33439</td>\n",
       "      <td>-5095.88</td>\n",
       "      <td>-11527.38</td>\n",
       "      <td>0</td>\n",
       "      <td>-45.920</td>\n",
       "      <td>-11.2635</td>\n",
       "      <td>-4877.20</td>\n",
       "    </tr>\n",
       "    <tr>\n",
       "      <th>5</th>\n",
       "      <td>6.59600</td>\n",
       "      <td>-2.62960</td>\n",
       "      <td>-2725.50</td>\n",
       "      <td>4.3992</td>\n",
       "      <td>-11.5251</td>\n",
       "      <td>0</td>\n",
       "      <td>0.4568</td>\n",
       "      <td>51963.620</td>\n",
       "      <td>-0.8</td>\n",
       "      <td>1387.720</td>\n",
       "      <td>22063.44</td>\n",
       "      <td>6.24800</td>\n",
       "      <td>-2.30048</td>\n",
       "      <td>-4226.80</td>\n",
       "      <td>-12340.86</td>\n",
       "      <td>0</td>\n",
       "      <td>-16.458</td>\n",
       "      <td>-14.7090</td>\n",
       "      <td>-4983.04</td>\n",
       "    </tr>\n",
       "    <tr>\n",
       "      <th>6</th>\n",
       "      <td>7.08900</td>\n",
       "      <td>-5.68800</td>\n",
       "      <td>-2883.31</td>\n",
       "      <td>6.8580</td>\n",
       "      <td>-13.0461</td>\n",
       "      <td>0</td>\n",
       "      <td>0.2620</td>\n",
       "      <td>51921.150</td>\n",
       "      <td>-2.8</td>\n",
       "      <td>1525.276</td>\n",
       "      <td>23027.52</td>\n",
       "      <td>2.22868</td>\n",
       "      <td>-2.35847</td>\n",
       "      <td>-4274.68</td>\n",
       "      <td>-9447.96</td>\n",
       "      <td>1</td>\n",
       "      <td>-8.408</td>\n",
       "      <td>-13.4490</td>\n",
       "      <td>-2091.44</td>\n",
       "    </tr>\n",
       "    <tr>\n",
       "      <th>7</th>\n",
       "      <td>3.15760</td>\n",
       "      <td>-1.65618</td>\n",
       "      <td>-1589.30</td>\n",
       "      <td>5.5288</td>\n",
       "      <td>-11.5179</td>\n",
       "      <td>1</td>\n",
       "      <td>0.8144</td>\n",
       "      <td>51955.580</td>\n",
       "      <td>-2.8</td>\n",
       "      <td>1308.320</td>\n",
       "      <td>24397.44</td>\n",
       "      <td>2.42580</td>\n",
       "      <td>-2.30033</td>\n",
       "      <td>-5450.68</td>\n",
       "      <td>-12202.86</td>\n",
       "      <td>1</td>\n",
       "      <td>-12.318</td>\n",
       "      <td>-10.7589</td>\n",
       "      <td>-8513.44</td>\n",
       "    </tr>\n",
       "    <tr>\n",
       "      <th>8</th>\n",
       "      <td>3.39890</td>\n",
       "      <td>-1.72354</td>\n",
       "      <td>-2764.36</td>\n",
       "      <td>10.1540</td>\n",
       "      <td>-12.5022</td>\n",
       "      <td>0</td>\n",
       "      <td>1.1120</td>\n",
       "      <td>51986.070</td>\n",
       "      <td>-0.8</td>\n",
       "      <td>1716.520</td>\n",
       "      <td>22727.94</td>\n",
       "      <td>3.71900</td>\n",
       "      <td>-3.72200</td>\n",
       "      <td>-3306.68</td>\n",
       "      <td>-10919.46</td>\n",
       "      <td>0</td>\n",
       "      <td>-7.984</td>\n",
       "      <td>-17.6280</td>\n",
       "      <td>-4622.90</td>\n",
       "    </tr>\n",
       "    <tr>\n",
       "      <th>9</th>\n",
       "      <td>3.14900</td>\n",
       "      <td>-2.11940</td>\n",
       "      <td>-2778.49</td>\n",
       "      <td>4.0732</td>\n",
       "      <td>-11.1105</td>\n",
       "      <td>0</td>\n",
       "      <td>2.2570</td>\n",
       "      <td>51899.690</td>\n",
       "      <td>-0.8</td>\n",
       "      <td>979.120</td>\n",
       "      <td>16157.64</td>\n",
       "      <td>7.27800</td>\n",
       "      <td>-2.57570</td>\n",
       "      <td>-93.48</td>\n",
       "      <td>-11922.66</td>\n",
       "      <td>0</td>\n",
       "      <td>-14.626</td>\n",
       "      <td>-18.4350</td>\n",
       "      <td>-5003.44</td>\n",
       "    </tr>\n",
       "  </tbody>\n",
       "</table>\n",
       "</div>"
      ],
      "text/plain": [
       "        F1       F2       F3       F4       F5  F6      F7         F8   F9  \\\n",
       "0  3.61690 -2.36000 -2671.50   5.1270 -12.6420   0  1.6430  51905.670 -0.8   \n",
       "1  3.64880 -5.96800 -2826.59   4.6256 -16.3560   0  0.5310  51942.010 -0.8   \n",
       "2  3.62830 -3.39140 -2490.50   4.3628 -11.2032   1  0.2640  51993.540 -2.8   \n",
       "3  3.01503 -2.67960 -2472.00   8.9380 -14.5830   1  0.3196  51921.040 -0.8   \n",
       "4  3.60030 -5.00600 -2405.50   6.2800 -11.1243   1  4.0800  51921.238 -0.8   \n",
       "5  6.59600 -2.62960 -2725.50   4.3992 -11.5251   0  0.4568  51963.620 -0.8   \n",
       "6  7.08900 -5.68800 -2883.31   6.8580 -13.0461   0  0.2620  51921.150 -2.8   \n",
       "7  3.15760 -1.65618 -1589.30   5.5288 -11.5179   1  0.8144  51955.580 -2.8   \n",
       "8  3.39890 -1.72354 -2764.36  10.1540 -12.5022   0  1.1120  51986.070 -0.8   \n",
       "9  3.14900 -2.11940 -2778.49   4.0732 -11.1105   0  2.2570  51899.690 -0.8   \n",
       "\n",
       "        F10       F11      F12      F13      F14       F15  F16     F17  \\\n",
       "0  1747.920  22912.53  5.43800 -2.61500 -4879.68 -11315.46    0 -63.340   \n",
       "1  1496.080  25696.44  5.09600 -2.31149 -4186.38 -12852.96    0 -10.314   \n",
       "2  1523.412  20232.84  2.36520 -2.51310 -4067.28 -11012.16    0  -6.806   \n",
       "3  1506.810  23592.84  4.40800 -2.74650  1352.52 -10297.86    0  -4.670   \n",
       "4  1581.790  24778.74  3.13340 -2.33439 -5095.88 -11527.38    0 -45.920   \n",
       "5  1387.720  22063.44  6.24800 -2.30048 -4226.80 -12340.86    0 -16.458   \n",
       "6  1525.276  23027.52  2.22868 -2.35847 -4274.68  -9447.96    1  -8.408   \n",
       "7  1308.320  24397.44  2.42580 -2.30033 -5450.68 -12202.86    1 -12.318   \n",
       "8  1716.520  22727.94  3.71900 -3.72200 -3306.68 -10919.46    0  -7.984   \n",
       "9   979.120  16157.64  7.27800 -2.57570   -93.48 -11922.66    0 -14.626   \n",
       "\n",
       "       F18      F19  \n",
       "0 -13.0281 -4894.24  \n",
       "1 -16.2210 -5085.44  \n",
       "2 -11.7591 -7021.44  \n",
       "3 -11.8110 -4648.76  \n",
       "4 -11.2635 -4877.20  \n",
       "5 -14.7090 -4983.04  \n",
       "6 -13.4490 -2091.44  \n",
       "7 -10.7589 -8513.44  \n",
       "8 -17.6280 -4622.90  \n",
       "9 -18.4350 -5003.44  "
      ]
     },
     "execution_count": 18,
     "metadata": {},
     "output_type": "execute_result"
    }
   ],
   "source": [
    "baselineX.head(10)"
   ]
  },
  {
   "attachments": {},
   "cell_type": "markdown",
   "metadata": {},
   "source": [
    "<h3> Split the dataset intp train and test </h3>"
   ]
  },
  {
   "cell_type": "code",
   "execution_count": 19,
   "metadata": {},
   "outputs": [],
   "source": [
    "X_train, X_test, Y_train, y_test = train_test_split(baselineX, Y, test_size=0.2, random_state=50)"
   ]
  },
  {
   "attachments": {},
   "cell_type": "markdown",
   "metadata": {},
   "source": [
    "<h3> Defining the target variable with binary classification of Class 0 and Class 1 for confusion matrix"
   ]
  },
  {
   "cell_type": "code",
   "execution_count": 20,
   "metadata": {},
   "outputs": [],
   "source": [
    "target = ['class 0', 'class 1']"
   ]
  },
  {
   "attachments": {},
   "cell_type": "markdown",
   "metadata": {},
   "source": [
    "<h3> Using StandardScaler for scaling the features to improve the performance of Machine Learning Models "
   ]
  },
  {
   "cell_type": "code",
   "execution_count": 21,
   "metadata": {},
   "outputs": [],
   "source": [
    "scaler = StandardScaler()\n",
    "X_train_scalar = scaler.fit_transform(X_train)\n",
    "X_test_scalar = scaler.transform(X_test)\n"
   ]
  },
  {
   "attachments": {},
   "cell_type": "markdown",
   "metadata": {},
   "source": [
    "<h3> Evaluation using Decision Tree Classifier "
   ]
  },
  {
   "cell_type": "code",
   "execution_count": 22,
   "metadata": {},
   "outputs": [
    {
     "name": "stdout",
     "output_type": "stream",
     "text": [
      "81.5\n"
     ]
    }
   ],
   "source": [
    "decisionTree = DecisionTreeClassifier(random_state=50)\n",
    "decisionTree.fit(X_train_scalar, Y_train)\n",
    "\n",
    "y_pred_decision = decisionTree.predict(X_test_scalar)\n",
    "accuracy_decision = accuracy_score(y_test, y_pred_decision)\n",
    "print(accuracy_decision*100)"
   ]
  },
  {
   "attachments": {},
   "cell_type": "markdown",
   "metadata": {},
   "source": [
    "<h3> Confusion Matrix of Decision Tree Classifier "
   ]
  },
  {
   "cell_type": "code",
   "execution_count": 23,
   "metadata": {},
   "outputs": [
    {
     "name": "stdout",
     "output_type": "stream",
     "text": [
      "              precision    recall  f1-score   support\n",
      "\n",
      "     class 0       0.82      0.82      0.82        98\n",
      "     class 1       0.82      0.82      0.82       102\n",
      "\n",
      "    accuracy                           0.82       200\n",
      "   macro avg       0.82      0.82      0.82       200\n",
      "weighted avg       0.82      0.82      0.82       200\n",
      "\n"
     ]
    },
    {
     "data": {
      "image/png": "[encoded data removed]",
      "text/plain": [
       "<Figure size 640x480 with 2 Axes>"
      ]
     },
     "metadata": {},
     "output_type": "display_data"
    }
   ],
   "source": [
    "dtc = DecisionTreeClassifier(criterion = 'entropy', random_state = 0)\n",
    "dtc.fit(X_train_scalar, Y_train)\n",
    "dtc_y_pred = dtc.predict(X_test_scalar)\n",
    "conf_matrix_dtc = confusion_matrix(y_test, dtc_y_pred)\n",
    "sns.heatmap(conf_matrix_dtc, annot=True, fmt=\",d\")\n",
    "print(classification_report(y_test, dtc_y_pred, target_names=target))\n",
    "plt.xlabel('Predicted Values')\n",
    "plt.ylabel('Actual values')\n",
    "plt.show()"
   ]
  },
  {
   "attachments": {},
   "cell_type": "markdown",
   "metadata": {},
   "source": [
    "<h3> Logistic Regression Model evaluation"
   ]
  },
  {
   "cell_type": "code",
   "execution_count": 24,
   "metadata": {},
   "outputs": [
    {
     "name": "stdout",
     "output_type": "stream",
     "text": [
      "67.5\n"
     ]
    }
   ],
   "source": [
    "lr_model = LogisticRegression(max_iter=1000, random_state=50)\n",
    "lr_model.fit(X_train_scalar, Y_train)\n",
    "\n",
    "lr_y_pred = lr_model.predict(X_test_scalar)\n",
    "lr_accuracy = accuracy_score(y_test,lr_y_pred)\n",
    "print(lr_accuracy*100)"
   ]
  },
  {
   "attachments": {},
   "cell_type": "markdown",
   "metadata": {},
   "source": [
    "<h3> Confusion Matrix Logistic Regression"
   ]
  },
  {
   "cell_type": "code",
   "execution_count": 25,
   "metadata": {},
   "outputs": [
    {
     "name": "stdout",
     "output_type": "stream",
     "text": [
      "              precision    recall  f1-score   support\n",
      "\n",
      "     class 0       0.65      0.72      0.69        98\n",
      "     class 1       0.70      0.63      0.66       102\n",
      "\n",
      "    accuracy                           0.68       200\n",
      "   macro avg       0.68      0.68      0.67       200\n",
      "weighted avg       0.68      0.68      0.67       200\n",
      "\n"
     ]
    },
    {
     "data": {
      "image/png": "[encoded data removed]",
      "text/plain": [
       "<Figure size 640x480 with 2 Axes>"
      ]
     },
     "metadata": {},
     "output_type": "display_data"
    }
   ],
   "source": [
    "cm_model_lr = LogisticRegression(max_iter=1000, random_state=0)\n",
    "cm_model_lr.fit(X_train_scalar, Y_train)\n",
    "cm_lr_y_pred = cm_model_lr.predict(X_test_scalar)\n",
    "conf_matrix_lr = confusion_matrix(y_test, cm_lr_y_pred)\n",
    "sns.heatmap(conf_matrix_lr, annot=True, fmt=\",d\")\n",
    "print(classification_report(y_test, cm_lr_y_pred, target_names=target))\n",
    "plt.xlabel('Predicted Values')\n",
    "plt.ylabel('Actual values')\n",
    "plt.show()"
   ]
  },
  {
   "attachments": {},
   "cell_type": "markdown",
   "metadata": {},
   "source": [
    "<h3> Support Vector Machine Evaluation"
   ]
  },
  {
   "cell_type": "code",
   "execution_count": 26,
   "metadata": {},
   "outputs": [
    {
     "name": "stdout",
     "output_type": "stream",
     "text": [
      "72.0\n"
     ]
    }
   ],
   "source": [
    "svm = SVC(random_state=50)\n",
    "svm.fit(X_train_scalar, Y_train)\n",
    "\n",
    "y_pred_svm = svm.predict(X_test_scalar)\n",
    "acc_svm = accuracy_score(y_test, y_pred_svm)\n",
    "print(acc_svm*100)"
   ]
  },
  {
   "attachments": {},
   "cell_type": "markdown",
   "metadata": {},
   "source": [
    "<h3> Support Vector Machine Confusion Matrix "
   ]
  },
  {
   "cell_type": "code",
   "execution_count": 27,
   "metadata": {},
   "outputs": [
    {
     "name": "stdout",
     "output_type": "stream",
     "text": [
      "              precision    recall  f1-score   support\n",
      "\n",
      "     class 0       0.69      0.77      0.73        98\n",
      "     class 1       0.75      0.68      0.71       102\n",
      "\n",
      "    accuracy                           0.72       200\n",
      "   macro avg       0.72      0.72      0.72       200\n",
      "weighted avg       0.72      0.72      0.72       200\n",
      "\n"
     ]
    },
    {
     "data": {
      "image/png": "[encoded data removed]",
      "text/plain": [
       "<Figure size 640x480 with 2 Axes>"
      ]
     },
     "metadata": {},
     "output_type": "display_data"
    }
   ],
   "source": [
    "svm_model_cm = SVC()\n",
    "svm_model_cm.fit(X_train_scalar,Y_train)\n",
    "svm_y_pred_cm = svm_model_cm.predict(X_test_scalar)\n",
    "conf_matrix_svm = confusion_matrix(y_test, svm_y_pred_cm)\n",
    "sns.heatmap(conf_matrix_svm, annot=True, fmt=\",d\")\n",
    "print(classification_report(y_test, svm_y_pred_cm, target_names=target))\n",
    "plt.xlabel('Predicted Values')\n",
    "plt.ylabel('Actual values')\n",
    "plt.show()"
   ]
  },
  {
   "attachments": {},
   "cell_type": "markdown",
   "metadata": {},
   "source": [
    "<h3> Random Forest Classifier Evaluation"
   ]
  },
  {
   "cell_type": "code",
   "execution_count": 28,
   "metadata": {},
   "outputs": [
    {
     "name": "stdout",
     "output_type": "stream",
     "text": [
      "82.0\n"
     ]
    }
   ],
   "source": [
    "randomClassifier = RandomForestClassifier(random_state=50)\n",
    "randomClassifier.fit(X_train_scalar, Y_train)\n",
    "\n",
    "y_pred_random = randomClassifier.predict(X_test_scalar)\n",
    "accuracy_random = accuracy_score(y_test, y_pred_random)\n",
    "print(accuracy_random*100)"
   ]
  },
  {
   "attachments": {},
   "cell_type": "markdown",
   "metadata": {},
   "source": [
    "<h3> Random Forest Classifier Confusion Matrix"
   ]
  },
  {
   "cell_type": "code",
   "execution_count": 29,
   "metadata": {},
   "outputs": [
    {
     "name": "stdout",
     "output_type": "stream",
     "text": [
      "              precision    recall  f1-score   support\n",
      "\n",
      "     class 0       0.83      0.84      0.83        98\n",
      "     class 1       0.84      0.83      0.84       102\n",
      "\n",
      "    accuracy                           0.83       200\n",
      "   macro avg       0.83      0.84      0.83       200\n",
      "weighted avg       0.84      0.83      0.84       200\n",
      "\n"
     ]
    },
    {
     "data": {
      "image/png": "[encoded data removed]",
      "text/plain": [
       "<Figure size 640x480 with 2 Axes>"
      ]
     },
     "metadata": {},
     "output_type": "display_data"
    }
   ],
   "source": [
    "rfc_model_cm = RandomForestClassifier(n_estimators=100, max_depth=5, random_state=0)\n",
    "rfc_model_cm.fit(X_train_scalar,Y_train)\n",
    "rfc_y_pred_cm = rfc_model_cm.predict(X_test_scalar)\n",
    "conf_matrix_rfc = confusion_matrix(y_test, rfc_y_pred_cm)\n",
    "sns.heatmap(conf_matrix_rfc, annot=True, fmt=\",d\")\n",
    "print(classification_report(y_test, rfc_y_pred_cm, target_names=target))\n",
    "plt.xlabel('Predicted Values')\n",
    "plt.ylabel('Actual values')\n",
    "plt.show()"
   ]
  },
  {
   "attachments": {},
   "cell_type": "markdown",
   "metadata": {},
   "source": [
    "<h3> Bar plot to visualise the best predicted model"
   ]
  },
  {
   "cell_type": "code",
   "execution_count": 30,
   "metadata": {},
   "outputs": [
    {
     "data": {
      "image/png": "[encoded data removed]",
      "text/plain": [
       "<Figure size 640x480 with 1 Axes>"
      ]
     },
     "metadata": {},
     "output_type": "display_data"
    }
   ],
   "source": [
    "ml_models = ['Decision Tree', 'Random Forest', 'Logistic Regression', 'Support Vector Machine']\n",
    "accuracyScores = [accuracy_decision, accuracy_random, lr_accuracy, acc_svm]\n",
    "\n",
    "colors = ['pink', 'yellow', 'blue', 'green']\n",
    "fig = plt.figure()\n",
    "ax = fig.add_axes([0,0,1.3,1.3])\n",
    "ax.set_title('Machine Learning Model Accuracies')\n",
    "ax.set_xlabel('Models')\n",
    "ax.set_ylabel('Accuracy Score')\n",
    "ax.bar(ml_models,accuracyScores, color=colors)\n",
    "plt.show()"
   ]
  },
  {
   "attachments": {},
   "cell_type": "markdown",
   "metadata": {},
   "source": [
    "<h3> Plotting histogram to column F20 to check the distribution of NaN values "
   ]
  },
  {
   "cell_type": "code",
   "execution_count": 31,
   "metadata": {},
   "outputs": [
    {
     "data": {
      "image/png": "[encoded data removed]",
      "text/plain": [
       "<Figure size 640x480 with 1 Axes>"
      ]
     },
     "metadata": {},
     "output_type": "display_data"
    }
   ],
   "source": [
    "plot = plt.hist(file['F20'], bins=10)"
   ]
  },
  {
   "attachments": {},
   "cell_type": "markdown",
   "metadata": {},
   "source": [
    "<h3> Creating a copy of the file to tackle with the missing values of column F20"
   ]
  },
  {
   "cell_type": "code",
   "execution_count": 32,
   "metadata": {},
   "outputs": [
    {
     "data": {
      "text/html": [
       "<div>\n",
       "<style scoped>\n",
       "    .dataframe tbody tr th:only-of-type {\n",
       "        vertical-align: middle;\n",
       "    }\n",
       "\n",
       "    .dataframe tbody tr th {\n",
       "        vertical-align: top;\n",
       "    }\n",
       "\n",
       "    .dataframe thead th {\n",
       "        text-align: right;\n",
       "    }\n",
       "</style>\n",
       "<table border=\"1\" class=\"dataframe\">\n",
       "  <thead>\n",
       "    <tr style=\"text-align: right;\">\n",
       "      <th></th>\n",
       "      <th>F1</th>\n",
       "      <th>F2</th>\n",
       "      <th>F3</th>\n",
       "      <th>F4</th>\n",
       "      <th>F5</th>\n",
       "      <th>F6</th>\n",
       "      <th>F7</th>\n",
       "      <th>F8</th>\n",
       "      <th>F9</th>\n",
       "      <th>F10</th>\n",
       "      <th>...</th>\n",
       "      <th>F12</th>\n",
       "      <th>F13</th>\n",
       "      <th>F14</th>\n",
       "      <th>F15</th>\n",
       "      <th>F16</th>\n",
       "      <th>F17</th>\n",
       "      <th>F18</th>\n",
       "      <th>F19</th>\n",
       "      <th>F20</th>\n",
       "      <th>Class</th>\n",
       "    </tr>\n",
       "  </thead>\n",
       "  <tbody>\n",
       "    <tr>\n",
       "      <th>0</th>\n",
       "      <td>3.61690</td>\n",
       "      <td>-2.3600</td>\n",
       "      <td>-2671.50</td>\n",
       "      <td>5.1270</td>\n",
       "      <td>-12.6420</td>\n",
       "      <td>0</td>\n",
       "      <td>1.6430</td>\n",
       "      <td>51905.670</td>\n",
       "      <td>-0.8</td>\n",
       "      <td>1747.920</td>\n",
       "      <td>...</td>\n",
       "      <td>5.4380</td>\n",
       "      <td>-2.61500</td>\n",
       "      <td>-4879.68</td>\n",
       "      <td>-11315.46</td>\n",
       "      <td>0</td>\n",
       "      <td>-63.340</td>\n",
       "      <td>-13.0281</td>\n",
       "      <td>-4894.24</td>\n",
       "      <td>45.72</td>\n",
       "      <td>False</td>\n",
       "    </tr>\n",
       "    <tr>\n",
       "      <th>1</th>\n",
       "      <td>3.64880</td>\n",
       "      <td>-5.9680</td>\n",
       "      <td>-2826.59</td>\n",
       "      <td>4.6256</td>\n",
       "      <td>-16.3560</td>\n",
       "      <td>0</td>\n",
       "      <td>0.5310</td>\n",
       "      <td>51942.010</td>\n",
       "      <td>-0.8</td>\n",
       "      <td>1496.080</td>\n",
       "      <td>...</td>\n",
       "      <td>5.0960</td>\n",
       "      <td>-2.31149</td>\n",
       "      <td>-4186.38</td>\n",
       "      <td>-12852.96</td>\n",
       "      <td>0</td>\n",
       "      <td>-10.314</td>\n",
       "      <td>-16.2210</td>\n",
       "      <td>-5085.44</td>\n",
       "      <td>50.46</td>\n",
       "      <td>True</td>\n",
       "    </tr>\n",
       "    <tr>\n",
       "      <th>2</th>\n",
       "      <td>3.62830</td>\n",
       "      <td>-3.3914</td>\n",
       "      <td>-2490.50</td>\n",
       "      <td>4.3628</td>\n",
       "      <td>-11.2032</td>\n",
       "      <td>1</td>\n",
       "      <td>0.2640</td>\n",
       "      <td>51993.540</td>\n",
       "      <td>-2.8</td>\n",
       "      <td>1523.412</td>\n",
       "      <td>...</td>\n",
       "      <td>2.3652</td>\n",
       "      <td>-2.51310</td>\n",
       "      <td>-4067.28</td>\n",
       "      <td>-11012.16</td>\n",
       "      <td>0</td>\n",
       "      <td>-6.806</td>\n",
       "      <td>-11.7591</td>\n",
       "      <td>-7021.44</td>\n",
       "      <td>NaN</td>\n",
       "      <td>True</td>\n",
       "    </tr>\n",
       "    <tr>\n",
       "      <th>3</th>\n",
       "      <td>3.01503</td>\n",
       "      <td>-2.6796</td>\n",
       "      <td>-2472.00</td>\n",
       "      <td>8.9380</td>\n",
       "      <td>-14.5830</td>\n",
       "      <td>1</td>\n",
       "      <td>0.3196</td>\n",
       "      <td>51921.040</td>\n",
       "      <td>-0.8</td>\n",
       "      <td>1506.810</td>\n",
       "      <td>...</td>\n",
       "      <td>4.4080</td>\n",
       "      <td>-2.74650</td>\n",
       "      <td>1352.52</td>\n",
       "      <td>-10297.86</td>\n",
       "      <td>0</td>\n",
       "      <td>-4.670</td>\n",
       "      <td>-11.8110</td>\n",
       "      <td>-4648.76</td>\n",
       "      <td>NaN</td>\n",
       "      <td>True</td>\n",
       "    </tr>\n",
       "    <tr>\n",
       "      <th>4</th>\n",
       "      <td>3.60030</td>\n",
       "      <td>-5.0060</td>\n",
       "      <td>-2405.50</td>\n",
       "      <td>6.2800</td>\n",
       "      <td>-11.1243</td>\n",
       "      <td>1</td>\n",
       "      <td>4.0800</td>\n",
       "      <td>51921.238</td>\n",
       "      <td>-0.8</td>\n",
       "      <td>1581.790</td>\n",
       "      <td>...</td>\n",
       "      <td>3.1334</td>\n",
       "      <td>-2.33439</td>\n",
       "      <td>-5095.88</td>\n",
       "      <td>-11527.38</td>\n",
       "      <td>0</td>\n",
       "      <td>-45.920</td>\n",
       "      <td>-11.2635</td>\n",
       "      <td>-4877.20</td>\n",
       "      <td>46.74</td>\n",
       "      <td>True</td>\n",
       "    </tr>\n",
       "  </tbody>\n",
       "</table>\n",
       "<p>5 rows × 21 columns</p>\n",
       "</div>"
      ],
      "text/plain": [
       "        F1      F2       F3      F4       F5  F6      F7         F8   F9  \\\n",
       "0  3.61690 -2.3600 -2671.50  5.1270 -12.6420   0  1.6430  51905.670 -0.8   \n",
       "1  3.64880 -5.9680 -2826.59  4.6256 -16.3560   0  0.5310  51942.010 -0.8   \n",
       "2  3.62830 -3.3914 -2490.50  4.3628 -11.2032   1  0.2640  51993.540 -2.8   \n",
       "3  3.01503 -2.6796 -2472.00  8.9380 -14.5830   1  0.3196  51921.040 -0.8   \n",
       "4  3.60030 -5.0060 -2405.50  6.2800 -11.1243   1  4.0800  51921.238 -0.8   \n",
       "\n",
       "        F10  ...     F12      F13      F14       F15  F16     F17      F18  \\\n",
       "0  1747.920  ...  5.4380 -2.61500 -4879.68 -11315.46    0 -63.340 -13.0281   \n",
       "1  1496.080  ...  5.0960 -2.31149 -4186.38 -12852.96    0 -10.314 -16.2210   \n",
       "2  1523.412  ...  2.3652 -2.51310 -4067.28 -11012.16    0  -6.806 -11.7591   \n",
       "3  1506.810  ...  4.4080 -2.74650  1352.52 -10297.86    0  -4.670 -11.8110   \n",
       "4  1581.790  ...  3.1334 -2.33439 -5095.88 -11527.38    0 -45.920 -11.2635   \n",
       "\n",
       "       F19    F20  Class  \n",
       "0 -4894.24  45.72  False  \n",
       "1 -5085.44  50.46   True  \n",
       "2 -7021.44    NaN   True  \n",
       "3 -4648.76    NaN   True  \n",
       "4 -4877.20  46.74   True  \n",
       "\n",
       "[5 rows x 21 columns]"
      ]
     },
     "execution_count": 32,
     "metadata": {},
     "output_type": "execute_result"
    }
   ],
   "source": [
    "meanfile_copy = pd.read_csv('CE802_P2_Data.csv')\n",
    "meanfile_copy.head()"
   ]
  },
  {
   "attachments": {},
   "cell_type": "markdown",
   "metadata": {},
   "source": [
    "Filling missing values of the column using method Mean and plotting histogram to check the distrubtion after filling the missing values "
   ]
  },
  {
   "cell_type": "code",
   "execution_count": 33,
   "metadata": {},
   "outputs": [],
   "source": [
    "meanfile_copy['F20'].fillna(value = meanfile_copy['F20'].mean(), inplace=True)"
   ]
  },
  {
   "cell_type": "code",
   "execution_count": 34,
   "metadata": {},
   "outputs": [
    {
     "data": {
      "image/png": "[encoded data removed]",
      "text/plain": [
       "<Figure size 640x480 with 1 Axes>"
      ]
     },
     "metadata": {},
     "output_type": "display_data"
    }
   ],
   "source": [
    "histPlot = plt.hist(meanfile_copy['F20'], bins=10)"
   ]
  },
  {
   "attachments": {},
   "cell_type": "markdown",
   "metadata": {},
   "source": [
    "The distribution of data using the fillna method of mean is completely different from the original column distribution F20. Hence this method can't be used"
   ]
  },
  {
   "cell_type": "code",
   "execution_count": 35,
   "metadata": {},
   "outputs": [],
   "source": [
    "median_fileCopy = pd.read_csv('CE802_P2_Data.csv')"
   ]
  },
  {
   "attachments": {},
   "cell_type": "markdown",
   "metadata": {},
   "source": [
    "<h3> Using Fillna Median method to tackle with missing values of column F20 and plotting a histogram to check the distribution of data"
   ]
  },
  {
   "cell_type": "code",
   "execution_count": 36,
   "metadata": {},
   "outputs": [
    {
     "data": {
      "text/html": [
       "<div>\n",
       "<style scoped>\n",
       "    .dataframe tbody tr th:only-of-type {\n",
       "        vertical-align: middle;\n",
       "    }\n",
       "\n",
       "    .dataframe tbody tr th {\n",
       "        vertical-align: top;\n",
       "    }\n",
       "\n",
       "    .dataframe thead th {\n",
       "        text-align: right;\n",
       "    }\n",
       "</style>\n",
       "<table border=\"1\" class=\"dataframe\">\n",
       "  <thead>\n",
       "    <tr style=\"text-align: right;\">\n",
       "      <th></th>\n",
       "      <th>F1</th>\n",
       "      <th>F2</th>\n",
       "      <th>F3</th>\n",
       "      <th>F4</th>\n",
       "      <th>F5</th>\n",
       "      <th>F6</th>\n",
       "      <th>F7</th>\n",
       "      <th>F8</th>\n",
       "      <th>F9</th>\n",
       "      <th>F10</th>\n",
       "      <th>...</th>\n",
       "      <th>F12</th>\n",
       "      <th>F13</th>\n",
       "      <th>F14</th>\n",
       "      <th>F15</th>\n",
       "      <th>F16</th>\n",
       "      <th>F17</th>\n",
       "      <th>F18</th>\n",
       "      <th>F19</th>\n",
       "      <th>F20</th>\n",
       "      <th>Class</th>\n",
       "    </tr>\n",
       "  </thead>\n",
       "  <tbody>\n",
       "    <tr>\n",
       "      <th>0</th>\n",
       "      <td>3.61690</td>\n",
       "      <td>-2.3600</td>\n",
       "      <td>-2671.50</td>\n",
       "      <td>5.1270</td>\n",
       "      <td>-12.6420</td>\n",
       "      <td>0</td>\n",
       "      <td>1.6430</td>\n",
       "      <td>51905.670</td>\n",
       "      <td>-0.8</td>\n",
       "      <td>1747.920</td>\n",
       "      <td>...</td>\n",
       "      <td>5.4380</td>\n",
       "      <td>-2.61500</td>\n",
       "      <td>-4879.68</td>\n",
       "      <td>-11315.46</td>\n",
       "      <td>0</td>\n",
       "      <td>-63.340</td>\n",
       "      <td>-13.0281</td>\n",
       "      <td>-4894.24</td>\n",
       "      <td>45.72</td>\n",
       "      <td>False</td>\n",
       "    </tr>\n",
       "    <tr>\n",
       "      <th>1</th>\n",
       "      <td>3.64880</td>\n",
       "      <td>-5.9680</td>\n",
       "      <td>-2826.59</td>\n",
       "      <td>4.6256</td>\n",
       "      <td>-16.3560</td>\n",
       "      <td>0</td>\n",
       "      <td>0.5310</td>\n",
       "      <td>51942.010</td>\n",
       "      <td>-0.8</td>\n",
       "      <td>1496.080</td>\n",
       "      <td>...</td>\n",
       "      <td>5.0960</td>\n",
       "      <td>-2.31149</td>\n",
       "      <td>-4186.38</td>\n",
       "      <td>-12852.96</td>\n",
       "      <td>0</td>\n",
       "      <td>-10.314</td>\n",
       "      <td>-16.2210</td>\n",
       "      <td>-5085.44</td>\n",
       "      <td>50.46</td>\n",
       "      <td>True</td>\n",
       "    </tr>\n",
       "    <tr>\n",
       "      <th>2</th>\n",
       "      <td>3.62830</td>\n",
       "      <td>-3.3914</td>\n",
       "      <td>-2490.50</td>\n",
       "      <td>4.3628</td>\n",
       "      <td>-11.2032</td>\n",
       "      <td>1</td>\n",
       "      <td>0.2640</td>\n",
       "      <td>51993.540</td>\n",
       "      <td>-2.8</td>\n",
       "      <td>1523.412</td>\n",
       "      <td>...</td>\n",
       "      <td>2.3652</td>\n",
       "      <td>-2.51310</td>\n",
       "      <td>-4067.28</td>\n",
       "      <td>-11012.16</td>\n",
       "      <td>0</td>\n",
       "      <td>-6.806</td>\n",
       "      <td>-11.7591</td>\n",
       "      <td>-7021.44</td>\n",
       "      <td>46.95</td>\n",
       "      <td>True</td>\n",
       "    </tr>\n",
       "    <tr>\n",
       "      <th>3</th>\n",
       "      <td>3.01503</td>\n",
       "      <td>-2.6796</td>\n",
       "      <td>-2472.00</td>\n",
       "      <td>8.9380</td>\n",
       "      <td>-14.5830</td>\n",
       "      <td>1</td>\n",
       "      <td>0.3196</td>\n",
       "      <td>51921.040</td>\n",
       "      <td>-0.8</td>\n",
       "      <td>1506.810</td>\n",
       "      <td>...</td>\n",
       "      <td>4.4080</td>\n",
       "      <td>-2.74650</td>\n",
       "      <td>1352.52</td>\n",
       "      <td>-10297.86</td>\n",
       "      <td>0</td>\n",
       "      <td>-4.670</td>\n",
       "      <td>-11.8110</td>\n",
       "      <td>-4648.76</td>\n",
       "      <td>46.95</td>\n",
       "      <td>True</td>\n",
       "    </tr>\n",
       "    <tr>\n",
       "      <th>4</th>\n",
       "      <td>3.60030</td>\n",
       "      <td>-5.0060</td>\n",
       "      <td>-2405.50</td>\n",
       "      <td>6.2800</td>\n",
       "      <td>-11.1243</td>\n",
       "      <td>1</td>\n",
       "      <td>4.0800</td>\n",
       "      <td>51921.238</td>\n",
       "      <td>-0.8</td>\n",
       "      <td>1581.790</td>\n",
       "      <td>...</td>\n",
       "      <td>3.1334</td>\n",
       "      <td>-2.33439</td>\n",
       "      <td>-5095.88</td>\n",
       "      <td>-11527.38</td>\n",
       "      <td>0</td>\n",
       "      <td>-45.920</td>\n",
       "      <td>-11.2635</td>\n",
       "      <td>-4877.20</td>\n",
       "      <td>46.74</td>\n",
       "      <td>True</td>\n",
       "    </tr>\n",
       "  </tbody>\n",
       "</table>\n",
       "<p>5 rows × 21 columns</p>\n",
       "</div>"
      ],
      "text/plain": [
       "        F1      F2       F3      F4       F5  F6      F7         F8   F9  \\\n",
       "0  3.61690 -2.3600 -2671.50  5.1270 -12.6420   0  1.6430  51905.670 -0.8   \n",
       "1  3.64880 -5.9680 -2826.59  4.6256 -16.3560   0  0.5310  51942.010 -0.8   \n",
       "2  3.62830 -3.3914 -2490.50  4.3628 -11.2032   1  0.2640  51993.540 -2.8   \n",
       "3  3.01503 -2.6796 -2472.00  8.9380 -14.5830   1  0.3196  51921.040 -0.8   \n",
       "4  3.60030 -5.0060 -2405.50  6.2800 -11.1243   1  4.0800  51921.238 -0.8   \n",
       "\n",
       "        F10  ...     F12      F13      F14       F15  F16     F17      F18  \\\n",
       "0  1747.920  ...  5.4380 -2.61500 -4879.68 -11315.46    0 -63.340 -13.0281   \n",
       "1  1496.080  ...  5.0960 -2.31149 -4186.38 -12852.96    0 -10.314 -16.2210   \n",
       "2  1523.412  ...  2.3652 -2.51310 -4067.28 -11012.16    0  -6.806 -11.7591   \n",
       "3  1506.810  ...  4.4080 -2.74650  1352.52 -10297.86    0  -4.670 -11.8110   \n",
       "4  1581.790  ...  3.1334 -2.33439 -5095.88 -11527.38    0 -45.920 -11.2635   \n",
       "\n",
       "       F19    F20  Class  \n",
       "0 -4894.24  45.72  False  \n",
       "1 -5085.44  50.46   True  \n",
       "2 -7021.44  46.95   True  \n",
       "3 -4648.76  46.95   True  \n",
       "4 -4877.20  46.74   True  \n",
       "\n",
       "[5 rows x 21 columns]"
      ]
     },
     "execution_count": 36,
     "metadata": {},
     "output_type": "execute_result"
    }
   ],
   "source": [
    "median_fileCopy['F20'].fillna(value = median_fileCopy['F20'].median(), inplace=True)\n",
    "median_fileCopy.head()"
   ]
  },
  {
   "cell_type": "code",
   "execution_count": 37,
   "metadata": {},
   "outputs": [
    {
     "data": {
      "image/png": "[encoded data removed]",
      "text/plain": [
       "<Figure size 640x480 with 1 Axes>"
      ]
     },
     "metadata": {},
     "output_type": "display_data"
    }
   ],
   "source": [
    "histPlot = plt.hist(median_fileCopy['F20'], bins=10)"
   ]
  },
  {
   "attachments": {},
   "cell_type": "markdown",
   "metadata": {},
   "source": [
    "The distribution of data using the fillna method of mean is completely different from the original column distribution F20. Hence this method also cannot be used"
   ]
  },
  {
   "attachments": {},
   "cell_type": "markdown",
   "metadata": {},
   "source": [
    "<h3> Using IterativeImputer and plotting a histogram to tackle with NaN values of F20 column"
   ]
  },
  {
   "cell_type": "code",
   "execution_count": 38,
   "metadata": {},
   "outputs": [],
   "source": [
    "iterative_file_copy = pd.read_csv(\"CE802_P2_Data.csv\")"
   ]
  },
  {
   "cell_type": "code",
   "execution_count": 39,
   "metadata": {},
   "outputs": [
    {
     "name": "stdout",
     "output_type": "stream",
     "text": [
      "(1000, 20)\n"
     ]
    },
    {
     "data": {
      "text/html": [
       "<div>\n",
       "<style scoped>\n",
       "    .dataframe tbody tr th:only-of-type {\n",
       "        vertical-align: middle;\n",
       "    }\n",
       "\n",
       "    .dataframe tbody tr th {\n",
       "        vertical-align: top;\n",
       "    }\n",
       "\n",
       "    .dataframe thead th {\n",
       "        text-align: right;\n",
       "    }\n",
       "</style>\n",
       "<table border=\"1\" class=\"dataframe\">\n",
       "  <thead>\n",
       "    <tr style=\"text-align: right;\">\n",
       "      <th></th>\n",
       "      <th>F1</th>\n",
       "      <th>F2</th>\n",
       "      <th>F3</th>\n",
       "      <th>F4</th>\n",
       "      <th>F5</th>\n",
       "      <th>F6</th>\n",
       "      <th>F7</th>\n",
       "      <th>F8</th>\n",
       "      <th>F9</th>\n",
       "      <th>F10</th>\n",
       "      <th>F11</th>\n",
       "      <th>F12</th>\n",
       "      <th>F13</th>\n",
       "      <th>F14</th>\n",
       "      <th>F15</th>\n",
       "      <th>F16</th>\n",
       "      <th>F17</th>\n",
       "      <th>F18</th>\n",
       "      <th>F19</th>\n",
       "      <th>F20</th>\n",
       "    </tr>\n",
       "  </thead>\n",
       "  <tbody>\n",
       "    <tr>\n",
       "      <th>0</th>\n",
       "      <td>3.61690</td>\n",
       "      <td>-2.3600</td>\n",
       "      <td>-2671.50</td>\n",
       "      <td>5.1270</td>\n",
       "      <td>-12.6420</td>\n",
       "      <td>0</td>\n",
       "      <td>1.6430</td>\n",
       "      <td>51905.670</td>\n",
       "      <td>-0.8</td>\n",
       "      <td>1747.920</td>\n",
       "      <td>22912.53</td>\n",
       "      <td>5.4380</td>\n",
       "      <td>-2.61500</td>\n",
       "      <td>-4879.68</td>\n",
       "      <td>-11315.46</td>\n",
       "      <td>0</td>\n",
       "      <td>-63.340</td>\n",
       "      <td>-13.0281</td>\n",
       "      <td>-4894.24</td>\n",
       "      <td>45.7200</td>\n",
       "    </tr>\n",
       "    <tr>\n",
       "      <th>1</th>\n",
       "      <td>3.64880</td>\n",
       "      <td>-5.9680</td>\n",
       "      <td>-2826.59</td>\n",
       "      <td>4.6256</td>\n",
       "      <td>-16.3560</td>\n",
       "      <td>0</td>\n",
       "      <td>0.5310</td>\n",
       "      <td>51942.010</td>\n",
       "      <td>-0.8</td>\n",
       "      <td>1496.080</td>\n",
       "      <td>25696.44</td>\n",
       "      <td>5.0960</td>\n",
       "      <td>-2.31149</td>\n",
       "      <td>-4186.38</td>\n",
       "      <td>-12852.96</td>\n",
       "      <td>0</td>\n",
       "      <td>-10.314</td>\n",
       "      <td>-16.2210</td>\n",
       "      <td>-5085.44</td>\n",
       "      <td>50.4600</td>\n",
       "    </tr>\n",
       "    <tr>\n",
       "      <th>2</th>\n",
       "      <td>3.62830</td>\n",
       "      <td>-3.3914</td>\n",
       "      <td>-2490.50</td>\n",
       "      <td>4.3628</td>\n",
       "      <td>-11.2032</td>\n",
       "      <td>1</td>\n",
       "      <td>0.2640</td>\n",
       "      <td>51993.540</td>\n",
       "      <td>-2.8</td>\n",
       "      <td>1523.412</td>\n",
       "      <td>20232.84</td>\n",
       "      <td>2.3652</td>\n",
       "      <td>-2.51310</td>\n",
       "      <td>-4067.28</td>\n",
       "      <td>-11012.16</td>\n",
       "      <td>0</td>\n",
       "      <td>-6.806</td>\n",
       "      <td>-11.7591</td>\n",
       "      <td>-7021.44</td>\n",
       "      <td>47.0103</td>\n",
       "    </tr>\n",
       "    <tr>\n",
       "      <th>3</th>\n",
       "      <td>3.01503</td>\n",
       "      <td>-2.6796</td>\n",
       "      <td>-2472.00</td>\n",
       "      <td>8.9380</td>\n",
       "      <td>-14.5830</td>\n",
       "      <td>1</td>\n",
       "      <td>0.3196</td>\n",
       "      <td>51921.040</td>\n",
       "      <td>-0.8</td>\n",
       "      <td>1506.810</td>\n",
       "      <td>23592.84</td>\n",
       "      <td>4.4080</td>\n",
       "      <td>-2.74650</td>\n",
       "      <td>1352.52</td>\n",
       "      <td>-10297.86</td>\n",
       "      <td>0</td>\n",
       "      <td>-4.670</td>\n",
       "      <td>-11.8110</td>\n",
       "      <td>-4648.76</td>\n",
       "      <td>47.0103</td>\n",
       "    </tr>\n",
       "    <tr>\n",
       "      <th>4</th>\n",
       "      <td>3.60030</td>\n",
       "      <td>-5.0060</td>\n",
       "      <td>-2405.50</td>\n",
       "      <td>6.2800</td>\n",
       "      <td>-11.1243</td>\n",
       "      <td>1</td>\n",
       "      <td>4.0800</td>\n",
       "      <td>51921.238</td>\n",
       "      <td>-0.8</td>\n",
       "      <td>1581.790</td>\n",
       "      <td>24778.74</td>\n",
       "      <td>3.1334</td>\n",
       "      <td>-2.33439</td>\n",
       "      <td>-5095.88</td>\n",
       "      <td>-11527.38</td>\n",
       "      <td>0</td>\n",
       "      <td>-45.920</td>\n",
       "      <td>-11.2635</td>\n",
       "      <td>-4877.20</td>\n",
       "      <td>46.7400</td>\n",
       "    </tr>\n",
       "  </tbody>\n",
       "</table>\n",
       "</div>"
      ],
      "text/plain": [
       "        F1      F2       F3      F4       F5  F6      F7         F8   F9  \\\n",
       "0  3.61690 -2.3600 -2671.50  5.1270 -12.6420   0  1.6430  51905.670 -0.8   \n",
       "1  3.64880 -5.9680 -2826.59  4.6256 -16.3560   0  0.5310  51942.010 -0.8   \n",
       "2  3.62830 -3.3914 -2490.50  4.3628 -11.2032   1  0.2640  51993.540 -2.8   \n",
       "3  3.01503 -2.6796 -2472.00  8.9380 -14.5830   1  0.3196  51921.040 -0.8   \n",
       "4  3.60030 -5.0060 -2405.50  6.2800 -11.1243   1  4.0800  51921.238 -0.8   \n",
       "\n",
       "        F10       F11     F12      F13      F14       F15  F16     F17  \\\n",
       "0  1747.920  22912.53  5.4380 -2.61500 -4879.68 -11315.46    0 -63.340   \n",
       "1  1496.080  25696.44  5.0960 -2.31149 -4186.38 -12852.96    0 -10.314   \n",
       "2  1523.412  20232.84  2.3652 -2.51310 -4067.28 -11012.16    0  -6.806   \n",
       "3  1506.810  23592.84  4.4080 -2.74650  1352.52 -10297.86    0  -4.670   \n",
       "4  1581.790  24778.74  3.1334 -2.33439 -5095.88 -11527.38    0 -45.920   \n",
       "\n",
       "       F18      F19      F20  \n",
       "0 -13.0281 -4894.24  45.7200  \n",
       "1 -16.2210 -5085.44  50.4600  \n",
       "2 -11.7591 -7021.44  47.0103  \n",
       "3 -11.8110 -4648.76  47.0103  \n",
       "4 -11.2635 -4877.20  46.7400  "
      ]
     },
     "execution_count": 39,
     "metadata": {},
     "output_type": "execute_result"
    }
   ],
   "source": [
    "imputer = IterativeImputer(estimator=BayesianRidge())\n",
    "new_X = iterative_file_copy.drop('Class', axis=1)\n",
    "new_X['F20'] = imputer.fit_transform(new_X['F20'].values.reshape(-1,1))\n",
    "\n",
    "print(new_X.shape)\n",
    "new_X.head()"
   ]
  },
  {
   "cell_type": "code",
   "execution_count": 40,
   "metadata": {},
   "outputs": [
    {
     "data": {
      "image/png": "[encoded data removed]",
      "text/plain": [
       "<Figure size 640x480 with 1 Axes>"
      ]
     },
     "metadata": {},
     "output_type": "display_data"
    }
   ],
   "source": [
    "histPlot = plt.hist(iterative_file_copy['F20'], bins=10)"
   ]
  },
  {
   "attachments": {},
   "cell_type": "markdown",
   "metadata": {},
   "source": [
    "Using Iterative Imputer the missing values of column is filled and is distributed as similar to the original F20 column. Hence using this method."
   ]
  },
  {
   "attachments": {},
   "cell_type": "markdown",
   "metadata": {},
   "source": [
    "<h3> Identify target variable"
   ]
  },
  {
   "cell_type": "code",
   "execution_count": 41,
   "metadata": {},
   "outputs": [],
   "source": [
    "iterative_y = iterative_file_copy['Class']"
   ]
  },
  {
   "attachments": {},
   "cell_type": "markdown",
   "metadata": {},
   "source": [
    "<h3> Split dataset into train and test"
   ]
  },
  {
   "cell_type": "code",
   "execution_count": 42,
   "metadata": {},
   "outputs": [
    {
     "data": {
      "text/plain": [
       "(800, 20)"
      ]
     },
     "execution_count": 42,
     "metadata": {},
     "output_type": "execute_result"
    }
   ],
   "source": [
    "iter_X_train, iter_X_test, iter_Y_train, iter_y_test = train_test_split(new_X, iterative_y, test_size=0.2, random_state=50)\n",
    "\n",
    "iter_X_train.shape"
   ]
  },
  {
   "attachments": {},
   "cell_type": "markdown",
   "metadata": {},
   "source": [
    "<h3>Scaling the features using StandardScaler method"
   ]
  },
  {
   "cell_type": "code",
   "execution_count": 43,
   "metadata": {},
   "outputs": [
    {
     "name": "stdout",
     "output_type": "stream",
     "text": [
      "[[ 0.44019857  0.00433534 -0.39927998 -0.65725657  0.28049626  0.95118973\n",
      "  -0.59639453  0.00492955 -0.95836592 -0.0979606   0.63225783 -1.01691198\n",
      "   0.25296601 -0.08602667 -0.7123671  -1.01257911  0.96857812  0.22119079\n",
      "  -1.00279635 -2.70672314]\n",
      " [-0.96255709 -1.06260564 -0.23721085  1.59612486  0.93516178 -1.05131497\n",
      "   1.56526495 -0.03059714  1.04344279  0.31070237 -0.33940463 -1.05775893\n",
      "   0.64212396  1.67300574  0.09503318 -1.01257911  0.04506473 -1.64155556\n",
      "   0.4887051  -0.01462778]]\n",
      "(800, 20)\n",
      "(200, 20)\n"
     ]
    }
   ],
   "source": [
    "iterative_scaler = StandardScaler()\n",
    "\n",
    "iter_x_train_scaler = iterative_scaler.fit_transform(iter_X_train)\n",
    "iter_x_test_scaler = iterative_scaler.transform(iter_X_test)\n",
    "\n",
    "print(iter_x_train_scaler[0:2])\n",
    "print(iter_x_train_scaler.shape)\n",
    "print(iter_x_test_scaler.shape)"
   ]
  },
  {
   "attachments": {},
   "cell_type": "markdown",
   "metadata": {},
   "source": [
    "<h3> Defining classes of target variable to use in confusion matrix of all models"
   ]
  },
  {
   "cell_type": "code",
   "execution_count": 44,
   "metadata": {},
   "outputs": [],
   "source": [
    "target = ['class 0', 'class 1']"
   ]
  },
  {
   "attachments": {},
   "cell_type": "markdown",
   "metadata": {},
   "source": [
    "<h3> Evalaution of Decision Tree Classifier"
   ]
  },
  {
   "cell_type": "code",
   "execution_count": 45,
   "metadata": {},
   "outputs": [
    {
     "name": "stdout",
     "output_type": "stream",
     "text": [
      "81.5\n"
     ]
    }
   ],
   "source": [
    "dtc_impute = DecisionTreeClassifier(random_state=50)\n",
    "dtc_impute.fit(iter_x_train_scaler, iter_Y_train)\n",
    "\n",
    "y_pred_dtc_impute = dtc_impute.predict(iter_x_test_scaler)\n",
    "acc_dtc_impute = accuracy_score(iter_y_test, y_pred_dtc_impute)\n",
    "print(acc_dtc_impute*100)"
   ]
  },
  {
   "attachments": {},
   "cell_type": "markdown",
   "metadata": {},
   "source": [
    "<h3> Finding the most importance feature column after evaluation"
   ]
  },
  {
   "cell_type": "code",
   "execution_count": 46,
   "metadata": {},
   "outputs": [
    {
     "data": {
      "image/png": "[encoded data removed]",
      "text/plain": [
       "<Figure size 640x480 with 1 Axes>"
      ]
     },
     "metadata": {},
     "output_type": "display_data"
    }
   ],
   "source": [
    "dtc_importance = dtc_impute.feature_importances_\n",
    "names = iterative_file_copy.columns[:-1]\n",
    "indice = dtc_importance.argsort()[::-1]\n",
    "sorted_names = [names[i] for i in indice]\n",
    "plt.figure()\n",
    "plt.title(\" Major Attributes\")\n",
    "plt.bar(range(iter_x_train_scaler.shape[1]), dtc_importance[indice])\n",
    "plt.xticks(range(iter_x_train_scaler.shape[1]), sorted_names, rotation = 'vertical')\n",
    "plt.xlim([-1, iter_x_train_scaler.shape[1]])\n",
    "plt.show()"
   ]
  },
  {
   "attachments": {},
   "cell_type": "markdown",
   "metadata": {},
   "source": [
    "<H3> Decison Tree Classifier Confusion Matrix"
   ]
  },
  {
   "cell_type": "code",
   "execution_count": 47,
   "metadata": {},
   "outputs": [
    {
     "name": "stdout",
     "output_type": "stream",
     "text": [
      "              precision    recall  f1-score   support\n",
      "\n",
      "     class 0       0.77      0.81      0.79        98\n",
      "     class 1       0.80      0.76      0.78       102\n",
      "\n",
      "    accuracy                           0.79       200\n",
      "   macro avg       0.79      0.79      0.78       200\n",
      "weighted avg       0.79      0.79      0.78       200\n",
      "\n"
     ]
    },
    {
     "data": {
      "image/png": "[encoded data removed]",
      "text/plain": [
       "<Figure size 640x480 with 2 Axes>"
      ]
     },
     "metadata": {},
     "output_type": "display_data"
    }
   ],
   "source": [
    "dtc_impute_cm = DecisionTreeClassifier(criterion = 'entropy', random_state = 0)\n",
    "dtc_impute_cm.fit(iter_x_train_scaler, iter_Y_train)\n",
    "dtc_y_pred_cm = dtc_impute_cm.predict(iter_x_test_scaler)\n",
    "conf_matrix_dtc_impute = confusion_matrix(iter_y_test, dtc_y_pred_cm)\n",
    "sns.heatmap(conf_matrix_dtc_impute, annot=True, fmt=\",d\")\n",
    "print(classification_report(iter_y_test, dtc_y_pred_cm, target_names=target))\n",
    "plt.xlabel('Predicted Values')\n",
    "plt.ylabel('Actual values')\n",
    "plt.show()"
   ]
  },
  {
   "attachments": {},
   "cell_type": "markdown",
   "metadata": {},
   "source": [
    "<H3> Evaluation using Logistic Regression Model"
   ]
  },
  {
   "cell_type": "code",
   "execution_count": 48,
   "metadata": {},
   "outputs": [
    {
     "name": "stdout",
     "output_type": "stream",
     "text": [
      "76.0\n"
     ]
    }
   ],
   "source": [
    "lr_model_impute = LogisticRegression(max_iter=1000, random_state=50)\n",
    "lr_model_impute.fit(iter_x_train_scaler, iter_Y_train)\n",
    "\n",
    "lr_y_pred_impute = lr_model_impute.predict(iter_x_test_scaler)\n",
    "lr_accuracy_impute = accuracy_score(iter_y_test, lr_y_pred_impute)\n",
    "print(lr_accuracy_impute*100)\n"
   ]
  },
  {
   "attachments": {},
   "cell_type": "markdown",
   "metadata": {},
   "source": [
    "<H3> Finding the most import feature column of dataset "
   ]
  },
  {
   "cell_type": "code",
   "execution_count": 49,
   "metadata": {},
   "outputs": [
    {
     "data": {
      "image/png": "[encoded data removed]",
      "text/plain": [
       "<Figure size 640x480 with 1 Axes>"
      ]
     },
     "metadata": {},
     "output_type": "display_data"
    }
   ],
   "source": [
    "result = permutation_importance(lr_model_impute, iter_x_train_scaler, iter_Y_train, n_repeats=10, random_state=0)\n",
    "feature_importance = result.importances_mean\n",
    "indice = np.argsort(feature_importance)[::-1]\n",
    "\n",
    "featureNames = file.columns[:-1]\n",
    "indice = feature_importance.argsort()[::1]\n",
    "sortedNames = [featureNames[i] for i in indice]\n",
    "plt.figure()\n",
    "plt.title(\"Feature importances\")\n",
    "plt.bar(range(iter_x_train_scaler.shape[1]), feature_importance[indice])\n",
    "plt.xticks(range(iter_x_train_scaler.shape[1]), sortedNames, rotation='vertical')\n",
    "plt.xlim([-1, iter_x_train_scaler.shape[1]])\n",
    "plt.show()"
   ]
  },
  {
   "attachments": {},
   "cell_type": "markdown",
   "metadata": {},
   "source": [
    "<H3> Logistic Regression Confusion Matrix"
   ]
  },
  {
   "cell_type": "code",
   "execution_count": 50,
   "metadata": {},
   "outputs": [
    {
     "name": "stdout",
     "output_type": "stream",
     "text": [
      "              precision    recall  f1-score   support\n",
      "\n",
      "     class 0       0.74      0.80      0.76        98\n",
      "     class 1       0.79      0.73      0.76       102\n",
      "\n",
      "    accuracy                           0.76       200\n",
      "   macro avg       0.76      0.76      0.76       200\n",
      "weighted avg       0.76      0.76      0.76       200\n",
      "\n"
     ]
    },
    {
     "data": {
      "image/png": "[encoded data removed]",
      "text/plain": [
       "<Figure size 640x480 with 2 Axes>"
      ]
     },
     "metadata": {},
     "output_type": "display_data"
    }
   ],
   "source": [
    "model_lr_cm = LogisticRegression(max_iter=1000, random_state=0)\n",
    "model_lr_cm.fit(iter_x_train_scaler, iter_Y_train)\n",
    "lr_y_pred_cm = model_lr_cm.predict(iter_x_test_scaler)\n",
    "conf_matrix_lr_impute = confusion_matrix(iter_y_test, lr_y_pred_cm)\n",
    "sns.heatmap(conf_matrix_lr_impute, annot=True, fmt=\",d\")\n",
    "print(classification_report(iter_y_test, lr_y_pred_cm, target_names=target))\n",
    "plt.xlabel('Predicted Values')\n",
    "plt.ylabel('Actual values')\n",
    "plt.show()"
   ]
  },
  {
   "attachments": {},
   "cell_type": "markdown",
   "metadata": {},
   "source": [
    "<H3> Evalaution using Random Forest Classifier"
   ]
  },
  {
   "cell_type": "code",
   "execution_count": 51,
   "metadata": {},
   "outputs": [
    {
     "name": "stdout",
     "output_type": "stream",
     "text": [
      "86.5\n"
     ]
    }
   ],
   "source": [
    "\n",
    "imputed_rfc = RandomForestClassifier(random_state=50)\n",
    "imputed_rfc.fit(iter_x_train_scaler, iter_Y_train)\n",
    "\n",
    "imputed_rfc_y_pred = imputed_rfc.predict(iter_x_test_scaler)\n",
    "imputed_rfc_accuracy = accuracy_score(iter_y_test, imputed_rfc_y_pred)\n",
    "print(imputed_rfc_accuracy*100)"
   ]
  },
  {
   "attachments": {},
   "cell_type": "markdown",
   "metadata": {},
   "source": [
    "<H3>Plotting the columns based on the importance usinh feature importance method"
   ]
  },
  {
   "cell_type": "code",
   "execution_count": 52,
   "metadata": {},
   "outputs": [
    {
     "data": {
      "image/png": "[encoded data removed]",
      "text/plain": [
       "<Figure size 640x480 with 1 Axes>"
      ]
     },
     "metadata": {},
     "output_type": "display_data"
    }
   ],
   "source": [
    "rfc_importance = imputed_rfc.feature_importances_\n",
    "names = iterative_file_copy.columns[:-1]\n",
    "indice = rfc_importance.argsort()[::-1]\n",
    "sorted_names = [names[i] for i in indice]\n",
    "plt.figure()\n",
    "plt.title(\" Major Attributes\")\n",
    "plt.bar(range(iter_x_train_scaler.shape[1]), rfc_importance[indice])\n",
    "plt.xticks(range(iter_x_train_scaler.shape[1]), sorted_names, rotation = 'vertical')\n",
    "plt.xlim([-1, iter_x_train_scaler.shape[1]])\n",
    "plt.show()"
   ]
  },
  {
   "attachments": {},
   "cell_type": "markdown",
   "metadata": {},
   "source": [
    "<H3> Random Forest Classifier Confusion Matrix"
   ]
  },
  {
   "cell_type": "code",
   "execution_count": 53,
   "metadata": {},
   "outputs": [
    {
     "name": "stdout",
     "output_type": "stream",
     "text": [
      "              precision    recall  f1-score   support\n",
      "\n",
      "     class 0       0.84      0.79      0.81        98\n",
      "     class 1       0.81      0.85      0.83       102\n",
      "\n",
      "    accuracy                           0.82       200\n",
      "   macro avg       0.82      0.82      0.82       200\n",
      "weighted avg       0.82      0.82      0.82       200\n",
      "\n"
     ]
    },
    {
     "data": {
      "image/png": "[encoded data removed]",
      "text/plain": [
       "<Figure size 640x480 with 2 Axes>"
      ]
     },
     "metadata": {},
     "output_type": "display_data"
    }
   ],
   "source": [
    "imputed_rfc_cm = RandomForestClassifier(n_estimators=100, max_depth=5, random_state=0)\n",
    "imputed_rfc_cm.fit(iter_x_train_scaler, iter_Y_train)\n",
    "rfc_y_pred_cm = imputed_rfc_cm.predict(iter_x_test_scaler)\n",
    "conf_matrix_rfc_impute = confusion_matrix(iter_y_test, rfc_y_pred_cm)\n",
    "sns.heatmap(conf_matrix_rfc_impute, annot=True, fmt=\",d\")\n",
    "print(classification_report(iter_y_test, rfc_y_pred_cm, target_names=target))\n",
    "plt.xlabel('Predicted Values')\n",
    "plt.ylabel('Actual values')\n",
    "plt.show()"
   ]
  },
  {
   "attachments": {},
   "cell_type": "markdown",
   "metadata": {},
   "source": [
    "<H3> Evalaution using Support Vector Machines (SVM)"
   ]
  },
  {
   "cell_type": "code",
   "execution_count": 54,
   "metadata": {},
   "outputs": [
    {
     "name": "stdout",
     "output_type": "stream",
     "text": [
      "77.0\n"
     ]
    }
   ],
   "source": [
    "imputed_svm = SVC(random_state=50)\n",
    "imputed_svm.fit(iter_x_train_scaler, iter_Y_train)\n",
    "\n",
    "imputed_svm_y_pred = imputed_svm.predict(iter_x_test_scaler)\n",
    "imputed_svm_accuracy = accuracy_score(iter_y_test, imputed_svm_y_pred)\n",
    "print(imputed_svm_accuracy*100)"
   ]
  },
  {
   "attachments": {},
   "cell_type": "markdown",
   "metadata": {},
   "source": [
    "<H3> Plotting feature importance graph"
   ]
  },
  {
   "cell_type": "code",
   "execution_count": 55,
   "metadata": {},
   "outputs": [
    {
     "data": {
      "image/png": "[encoded data removed]",
      "text/plain": [
       "<Figure size 640x480 with 1 Axes>"
      ]
     },
     "metadata": {},
     "output_type": "display_data"
    }
   ],
   "source": [
    "svm_plot = SVC(kernel='linear', C=1, random_state=42)\n",
    "svm_plot.fit(iter_x_train_scaler, iter_Y_train)\n",
    "\n",
    "rfe = RFE(svm_plot, n_features_to_select=5, step=1)\n",
    "rfe.fit(iter_x_train_scaler, iter_Y_train)\n",
    "\n",
    "ranking = rfe.ranking_\n",
    "\n",
    "names = iterative_file_copy.columns[:-1]\n",
    "\n",
    "indice = ranking.argsort()\n",
    "\n",
    "sorted_names = [names[i] for i in indice]\n",
    "\n",
    "plt.figure()\n",
    "plt.title(\"Feature rankings\")\n",
    "plt.bar(range(iter_x_train_scaler.shape[1]), ranking[indice])\n",
    "plt.xticks(range(iter_x_train_scaler.shape[1]), sorted_names, rotation='vertical')\n",
    "plt.xlim([-1, iter_x_train_scaler.shape[1]])\n",
    "plt.show()"
   ]
  },
  {
   "attachments": {},
   "cell_type": "markdown",
   "metadata": {},
   "source": [
    "<h3> Support Vector Machine Confusion Matrix"
   ]
  },
  {
   "cell_type": "code",
   "execution_count": 56,
   "metadata": {},
   "outputs": [
    {
     "name": "stdout",
     "output_type": "stream",
     "text": [
      "              precision    recall  f1-score   support\n",
      "\n",
      "     class 0       0.74      0.82      0.78        98\n",
      "     class 1       0.80      0.73      0.76       102\n",
      "\n",
      "    accuracy                           0.77       200\n",
      "   macro avg       0.77      0.77      0.77       200\n",
      "weighted avg       0.77      0.77      0.77       200\n",
      "\n"
     ]
    },
    {
     "data": {
      "image/png": "[encoded data removed]",
      "text/plain": [
       "<Figure size 640x480 with 2 Axes>"
      ]
     },
     "metadata": {},
     "output_type": "display_data"
    }
   ],
   "source": [
    "imputed_svm_cm = SVC()\n",
    "imputed_svm_cm.fit(iter_x_train_scaler, iter_Y_train)\n",
    "svm_y_pred_cm = imputed_svm_cm.predict(iter_x_test_scaler)\n",
    "conf_matrix_svm_impute = confusion_matrix(iter_y_test, svm_y_pred_cm)\n",
    "sns.heatmap(conf_matrix_svm_impute, annot=True, fmt=\",d\")\n",
    "print(classification_report(iter_y_test, svm_y_pred_cm, target_names=target))\n",
    "plt.xlabel('Predicted Values')\n",
    "plt.ylabel('Actual values')\n",
    "plt.show()"
   ]
  },
  {
   "attachments": {},
   "cell_type": "markdown",
   "metadata": {},
   "source": [
    "<h3> Bar plot to find out the best machine learning model to be used after imputation"
   ]
  },
  {
   "cell_type": "code",
   "execution_count": 57,
   "metadata": {},
   "outputs": [
    {
     "data": {
      "image/png": "[encoded data removed]",
      "text/plain": [
       "<Figure size 640x480 with 1 Axes>"
      ]
     },
     "metadata": {},
     "output_type": "display_data"
    }
   ],
   "source": [
    "ml_models = ['Decision Tree', 'Random Forest', 'Logistic Regression', 'Support Vector Machine']\n",
    "accuracyScores = [acc_dtc_impute, imputed_rfc_accuracy, lr_accuracy_impute, imputed_svm_accuracy]\n",
    "\n",
    "colors = ['pink', 'yellow', 'blue', 'green']\n",
    "fig = plt.figure()\n",
    "ax = fig.add_axes([0,0,1.3,1.3])\n",
    "ax.set_title('Machine Learning Model Accuracies')\n",
    "ax.set_xlabel('Models')\n",
    "ax.set_ylabel('Accuracy Score')\n",
    "ax.bar(ml_models,accuracyScores, color=colors)\n",
    "plt.show()"
   ]
  },
  {
   "attachments": {},
   "cell_type": "markdown",
   "metadata": {},
   "source": [
    "<H3> Comparison of predictions between models before and after imputation"
   ]
  },
  {
   "cell_type": "code",
   "execution_count": 59,
   "metadata": {},
   "outputs": [
    {
     "data": {
      "image/png": "[encoded data removed]",
      "text/plain": [
       "<Figure size 640x480 with 1 Axes>"
      ]
     },
     "metadata": {},
     "output_type": "display_data"
    }
   ],
   "source": [
    "MachineLearningAlgorithms = ['Decision Tree', 'Decision Tree Imputed', 'Logistic regression', 'Logistic Regression Imputed', 'Support Vector Machine', 'Support Vector Machine Imputed', 'Random Forest', 'Random Forest Imputed',]\n",
    "colors = ['pink','yellow','pink','yellow','pink','yellow']\n",
    "accuracies = [accuracy_decision, acc_dtc_impute, lr_accuracy, lr_accuracy_impute, acc_svm, imputed_svm_accuracy, accuracy_random, imputed_rfc_accuracy]\n",
    "\n",
    "plt.bar(MachineLearningAlgorithms, accuracies, color=colors)\n",
    "plt.title('ML model Accuracies')\n",
    "plt.xticks(rotation=90)\n",
    "plt.xlabel('Models')\n",
    "plt.ylabel('Accuracy Score')\n",
    "plt.ylim((0, 1))\n",
    "plt.show()"
   ]
  },
  {
   "cell_type": "markdown",
   "metadata": {},
   "source": [
    "### Part B"
   ]
  },
  {
   "cell_type": "code",
   "execution_count": 60,
   "metadata": {},
   "outputs": [],
   "source": [
    "# HERE YOU WILL USE THIS TEMPLATE TO SAVE THE PREDICTIONS ON THE TEST SET\n",
    "\n",
    "# Load the test data\n",
    "test_df = pd.read_csv('CE802_P2_Test.csv')\n",
    "\n",
    "# Make sure you work on a copy\n",
    "test_data = test_df.iloc[:,:-1].copy()\n",
    "\n",
    "test_data['F20'] = pd.DataFrame(imputer.fit_transform(test_data['F20'].values.reshape(-1,1)))\n",
    "scaled_data = iterative_scaler.fit_transform(test_data)\n",
    "\n",
    "predicted = imputed_rfc.predict(scaled_data) # CHANGE HERE -- use your previously trained predictor and apply it to test_data\n",
    "                # (test_data can be modified if needed but make sure you don't change the order of the rows)...\n",
    "\n",
    "# Replace the last (empty) column with your prediction\n",
    "test_df.iloc[:,-1] = predicted\n",
    "\n",
    "# Save to the destination file\n",
    "test_df.to_csv('CE802_P2_Test_Predictions.csv', index=False, float_format='%.8g')\n",
    "\n",
    "# IMPORTANT!! Make sure only the last column has changed\n",
    "assert pd.read_csv('CE802_P2_Test.csv').iloc[:,:-1].equals(pd.read_csv('CE802_P2_Test_Predictions.csv').iloc[:,:-1])"
   ]
  },
  {
   "cell_type": "code",
   "execution_count": null,
   "metadata": {},
   "outputs": [],
   "source": []
  }
 ],
 "metadata": {
  "kernelspec": {
   "display_name": "Python 3",
   "language": "python",
   "name": "python3"
  },
  "language_info": {
   "codemirror_mode": {
    "name": "ipython",
    "version": 3
   },
   "file_extension": ".py",
   "mimetype": "text/x-python",
   "name": "python",
   "nbconvert_exporter": "python",
   "pygments_lexer": "ipython3",
   "version": "3.9.13"
  }
 },
 "nbformat": 4,
 "nbformat_minor": 4
}
